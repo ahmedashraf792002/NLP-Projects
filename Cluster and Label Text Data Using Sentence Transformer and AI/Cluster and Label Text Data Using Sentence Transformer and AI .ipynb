{
 "cells": [
  {
   "cell_type": "markdown",
   "id": "5259efe9-e708-4254-80da-2a8dedfa241d",
   "metadata": {},
   "source": [
    "<h1><b><p style=\"background-image: url(https://i.postimg.cc/0Qwf8YX6/2927262.jpg);font-family:camtasia;font-size:110%;color:white;text-align:center;border-radius:15px 50px; padding:7px; border:solid 2px #09375b; box-shadow: 10px 10px 10px #042b4c\">Project Title: Cluster and Label Text Data Using Sentence Transformer and AI </p></b></h1>\n",
    "\n",
    "### Tabel of Contents:\n",
    "\n",
    "* [Introduction][#0]\n",
    "* [Import Libraries](#1)\n",
    "* [Dataset](#2)\n",
    "* [Load Models](#3)\n",
    "* [Like this? Upvote and comment! 🌊 End](#6)"
   ]
  },
  {
   "cell_type": "markdown",
   "id": "3d5fa388-347c-4742-9d38-f847147253cc",
   "metadata": {},
   "source": [
    "<a id=\"0\"></a>\n",
    "<h1><b><p style=\"background-image: url(https://i.postimg.cc/0Qwf8YX6/2927262.jpg);font-family:camtasia;font-size:110%;color:white;text-align:center;border-radius:15px 50px; padding:7px; border:solid 2px #09375b; box-shadow: 10px 10px 10px #042b4c\">Introduction</p></b></h1>\n",
    "<a class=\"btn\" href=\"#home\">Tabel of Contents</a>"
   ]
  },
  {
   "cell_type": "markdown",
   "id": "0e3c6320-b33d-4314-b385-645cc0256ee3",
   "metadata": {},
   "source": [
    "                                                        What is Sentence Transformer:\n",
    "SentenceTransformers is a Python module that provides easy-to-use tools for computing and comparing high-quality sentence and text embeddings. It’s built on top of Hugging Face’s Transformers library and extends it to offer pre-trained models optimized specifically for creating sentence and text embeddings. These embeddings are useful for tasks such as:\n",
    "\n",
    "Semantic Textual Similarity: Measuring the similarity between sentences.\n",
    "\n",
    "Clustering: Grouping sentences or texts with similar meanings.\n",
    "\n",
    "Information Retrieval: Finding relevant documents or sentences in large datasets.\n",
    "\n",
    "Classification and Sentiment Analysis: Using embeddings as input features for further model training.\n",
    "\n",
    "SentenceTransformers includes a wide variety of pre-trained models (like BERT, RoBERTa, and DistilBERT) fine-tuned for tasks that involve sentence comparisons. It offers high-quality results for tasks involving sentence similarity and semantic search."
   ]
  },
  {
   "cell_type": "markdown",
   "id": "7c4d4c7f-69f7-409c-bf6e-a5091974ccbc",
   "metadata": {},
   "source": [
    "<a id=\"1\"></a>\n",
    "<h1><b><p style=\"background-image: url(https://i.postimg.cc/0Qwf8YX6/2927262.jpg);font-family:camtasia;font-size:110%;color:white;text-align:center;border-radius:15px 50px; padding:7px; border:solid 2px #09375b; box-shadow: 10px 10px 10px #042b4c\">Import Libraries</p></b></h1>\n",
    "<a class=\"btn\" href=\"#home\">Tabel of Contents</a>"
   ]
  },
  {
   "cell_type": "code",
   "execution_count": null,
   "id": "30230e92-a152-469d-b39d-494c3eb0185b",
   "metadata": {},
   "outputs": [],
   "source": [
    "from sklearn.cluster import AgglomerativeClustering,KMeans\n",
    "from sentence_transformers import SentenceTransformer"
   ]
  },
  {
   "cell_type": "markdown",
   "id": "415af80b-5f99-4cd1-9a7b-c17f87f5db20",
   "metadata": {},
   "source": [
    "<a id=\"2\"></a>\n",
    "<h1><b><p style=\"background-image: url(https://i.postimg.cc/0Qwf8YX6/2927262.jpg);font-family:camtasia;font-size:110%;color:white;text-align:center;border-radius:15px 50px; padding:7px; border:solid 2px #09375b; box-shadow: 10px 10px 10px #042b4c\">Dataset</p></b></h1>\n",
    "<a class=\"btn\" href=\"#home\">Tabel of Contents</a>"
   ]
  },
  {
   "cell_type": "code",
   "execution_count": 1,
   "id": "ff6236f8-b843-4fae-8e93-97b890743b4c",
   "metadata": {},
   "outputs": [],
   "source": [
    "# Define the corpus\n",
    "corpus = [\n",
    "    \"Rain is expected tomorrow.\",\n",
    "    \"Stock prices are fluctuating a lot.\",\n",
    "    \"Today is sunny and warm.\",\n",
    "    \"A sunny day with clear skies.\",\n",
    "    \"The weather is nice and bright today.\",\n",
    "    \"Heavy rain is predicted for the weekend.\",\n",
    "    \"The stock market is experiencing volatility.\",\n",
    "    \"Tomorrow will bring more sunshine.\",\n",
    "    \"A beautiful day to go for a walk.\",\n",
    "    \"It's getting cloudy, might rain soon.\",\n",
    "    \"I love sunny days at the beach.\",\n",
    "    \"The forecast indicates possible thunderstorms.\",\n",
    "    \"Investors are worried about market trends.\",\n",
    "    \"It feels great to be outside on such a lovely day.\",\n",
    "    \"There might be a chance of rain later.\",\n",
    "    \"Prices are rising due to market instability.\",\n",
    "    \"A perfect day for a picnic in the park.\",\n",
    "    \"Don't forget your umbrella, just in case.\",\n",
    "    \"The sun is shining, and it's quite warm.\",\n",
    "    \"There will be sunny spells throughout the day.\",\n",
    "    \"It's a good day for outdoor activities.\"\n",
    "]"
   ]
  },
  {
   "cell_type": "markdown",
   "id": "261d60bc-2d52-4980-ac7b-39927daefdd9",
   "metadata": {},
   "source": [
    "<a id=\"3\"></a>\n",
    "<h1><b><p style=\"background-image: url(https://i.postimg.cc/0Qwf8YX6/2927262.jpg);font-family:camtasia;font-size:110%;color:white;text-align:center;border-radius:15px 50px; padding:7px; border:solid 2px #09375b; box-shadow: 10px 10px 10px #042b4c\">Load Models</p></b></h1>\n",
    "<a class=\"btn\" href=\"#home\">Tabel of Contents</a>"
   ]
  },
  {
   "cell_type": "code",
   "execution_count": null,
   "id": "d60f4dee-1a5e-4772-a37d-b8b55f80106a",
   "metadata": {},
   "outputs": [],
   "source": [
    "# # Initialize the model\n",
    "model = SentenceTransformer('all-MiniLM-L6-v2')"
   ]
  },
  {
   "cell_type": "code",
   "execution_count": null,
   "id": "90864474-5a3a-48e7-b4f7-9c4394da07a6",
   "metadata": {},
   "outputs": [],
   "source": [
    "# Encode the corpus\n",
    "embeddings = model.encode(corpus, convert_to_tensor=True)\n",
    "# Move embeddings to CPU and convert to NumPy array\n",
    "embeddings_np = embeddings.cpu().numpy()\n",
    "embeddings_np"
   ]
  },
  {
   "cell_type": "code",
   "execution_count": null,
   "id": "34aab005-619d-412b-81ed-8af45ab954b9",
   "metadata": {},
   "outputs": [],
   "source": [
    "# Perform clustering based on sentence embeddings\n",
    "clustering_model = AgglomerativeClustering(n_clusters=3)\n",
    "clustering_labels = clustering_model.fit_predict(embeddings_np)"
   ]
  },
  {
   "cell_type": "code",
   "execution_count": null,
   "id": "09d859b7-e02d-4d41-84f5-7c5ccd52d2f6",
   "metadata": {},
   "outputs": [],
   "source": []
  }
 ],
 "metadata": {
  "kernelspec": {
   "display_name": "Python 3",
   "language": "python",
   "name": "python3"
  },
  "language_info": {
   "codemirror_mode": {
    "name": "ipython",
    "version": 3
   },
   "file_extension": ".py",
   "mimetype": "text/x-python",
   "name": "python",
   "nbconvert_exporter": "python",
   "pygments_lexer": "ipython3",
   "version": "3.11.7"
  }
 },
 "nbformat": 4,
 "nbformat_minor": 5
}
