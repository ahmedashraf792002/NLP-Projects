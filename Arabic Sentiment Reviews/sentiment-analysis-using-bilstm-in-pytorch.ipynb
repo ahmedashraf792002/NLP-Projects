{
 "cells": [
  {
   "cell_type": "code",
   "execution_count": 1,
   "id": "49823ca9",
   "metadata": {
    "_kg_hide-input": true,
    "_kg_hide-output": true,
    "execution": {
     "iopub.execute_input": "2025-02-28T22:00:45.533553Z",
     "iopub.status.busy": "2025-02-28T22:00:45.533226Z",
     "iopub.status.idle": "2025-02-28T22:03:14.560120Z",
     "shell.execute_reply": "2025-02-28T22:03:14.559061Z"
    },
    "papermill": {
     "duration": 149.035009,
     "end_time": "2025-02-28T22:03:14.561723",
     "exception": false,
     "start_time": "2025-02-28T22:00:45.526714",
     "status": "completed"
    },
    "tags": []
   },
   "outputs": [
    {
     "name": "stdout",
     "output_type": "stream",
     "text": [
      "Found existing installation: torch 2.5.1+cu121\r\n",
      "Uninstalling torch-2.5.1+cu121:\r\n",
      "  Successfully uninstalled torch-2.5.1+cu121\r\n",
      "\u001b[33mWARNING: Skipping torchtext as it is not installed.\u001b[0m\u001b[33m\r\n",
      "\u001b[0mFound existing installation: torchvision 0.20.1+cu121\r\n",
      "Uninstalling torchvision-0.20.1+cu121:\r\n",
      "  Successfully uninstalled torchvision-0.20.1+cu121\r\n",
      "Found existing installation: torchaudio 2.5.1+cu121\r\n",
      "Uninstalling torchaudio-2.5.1+cu121:\r\n",
      "  Successfully uninstalled torchaudio-2.5.1+cu121\r\n",
      "pytorch-ignite                     0.5.1\r\n",
      "pytorch-lightning                  2.5.0.post0\r\n",
      "torchinfo                          1.8.0\r\n",
      "torchmetrics                       1.6.1\r\n",
      "torchsummary                       1.5.1\r\n",
      "torchtune                          0.5.0\r\n",
      "Collecting torch==2.2.2\r\n",
      "  Downloading torch-2.2.2-cp310-cp310-manylinux1_x86_64.whl.metadata (26 kB)\r\n",
      "Collecting torchtext==0.17.2\r\n",
      "  Downloading torchtext-0.17.2-cp310-cp310-manylinux1_x86_64.whl.metadata (7.9 kB)\r\n",
      "Requirement already satisfied: numpy==1.26.4 in /usr/local/lib/python3.10/dist-packages (1.26.4)\r\n",
      "Requirement already satisfied: filelock in /usr/local/lib/python3.10/dist-packages (from torch==2.2.2) (3.17.0)\r\n",
      "Requirement already satisfied: typing-extensions>=4.8.0 in /usr/local/lib/python3.10/dist-packages (from torch==2.2.2) (4.12.2)\r\n",
      "Requirement already satisfied: sympy in /usr/local/lib/python3.10/dist-packages (from torch==2.2.2) (1.13.1)\r\n",
      "Requirement already satisfied: networkx in /usr/local/lib/python3.10/dist-packages (from torch==2.2.2) (3.4.2)\r\n",
      "Requirement already satisfied: jinja2 in /usr/local/lib/python3.10/dist-packages (from torch==2.2.2) (3.1.4)\r\n",
      "Requirement already satisfied: fsspec in /usr/local/lib/python3.10/dist-packages (from torch==2.2.2) (2024.12.0)\r\n",
      "Collecting nvidia-cuda-nvrtc-cu12==12.1.105 (from torch==2.2.2)\r\n",
      "  Downloading nvidia_cuda_nvrtc_cu12-12.1.105-py3-none-manylinux1_x86_64.whl.metadata (1.5 kB)\r\n",
      "Collecting nvidia-cuda-runtime-cu12==12.1.105 (from torch==2.2.2)\r\n",
      "  Downloading nvidia_cuda_runtime_cu12-12.1.105-py3-none-manylinux1_x86_64.whl.metadata (1.5 kB)\r\n",
      "Collecting nvidia-cuda-cupti-cu12==12.1.105 (from torch==2.2.2)\r\n",
      "  Downloading nvidia_cuda_cupti_cu12-12.1.105-py3-none-manylinux1_x86_64.whl.metadata (1.6 kB)\r\n",
      "Collecting nvidia-cudnn-cu12==8.9.2.26 (from torch==2.2.2)\r\n",
      "  Downloading nvidia_cudnn_cu12-8.9.2.26-py3-none-manylinux1_x86_64.whl.metadata (1.6 kB)\r\n",
      "Collecting nvidia-cublas-cu12==12.1.3.1 (from torch==2.2.2)\r\n",
      "  Downloading nvidia_cublas_cu12-12.1.3.1-py3-none-manylinux1_x86_64.whl.metadata (1.5 kB)\r\n",
      "Collecting nvidia-cufft-cu12==11.0.2.54 (from torch==2.2.2)\r\n",
      "  Downloading nvidia_cufft_cu12-11.0.2.54-py3-none-manylinux1_x86_64.whl.metadata (1.5 kB)\r\n",
      "Collecting nvidia-curand-cu12==10.3.2.106 (from torch==2.2.2)\r\n",
      "  Downloading nvidia_curand_cu12-10.3.2.106-py3-none-manylinux1_x86_64.whl.metadata (1.5 kB)\r\n",
      "Collecting nvidia-cusolver-cu12==11.4.5.107 (from torch==2.2.2)\r\n",
      "  Downloading nvidia_cusolver_cu12-11.4.5.107-py3-none-manylinux1_x86_64.whl.metadata (1.6 kB)\r\n",
      "Collecting nvidia-cusparse-cu12==12.1.0.106 (from torch==2.2.2)\r\n",
      "  Downloading nvidia_cusparse_cu12-12.1.0.106-py3-none-manylinux1_x86_64.whl.metadata (1.6 kB)\r\n",
      "Collecting nvidia-nccl-cu12==2.19.3 (from torch==2.2.2)\r\n",
      "  Downloading nvidia_nccl_cu12-2.19.3-py3-none-manylinux1_x86_64.whl.metadata (1.8 kB)\r\n",
      "Collecting nvidia-nvtx-cu12==12.1.105 (from torch==2.2.2)\r\n",
      "  Downloading nvidia_nvtx_cu12-12.1.105-py3-none-manylinux1_x86_64.whl.metadata (1.7 kB)\r\n",
      "Collecting triton==2.2.0 (from torch==2.2.2)\r\n",
      "  Downloading triton-2.2.0-cp310-cp310-manylinux_2_17_x86_64.manylinux2014_x86_64.whl.metadata (1.4 kB)\r\n",
      "Requirement already satisfied: tqdm in /usr/local/lib/python3.10/dist-packages (from torchtext==0.17.2) (4.67.1)\r\n",
      "Requirement already satisfied: requests in /usr/local/lib/python3.10/dist-packages (from torchtext==0.17.2) (2.32.3)\r\n",
      "Requirement already satisfied: mkl_fft in /usr/local/lib/python3.10/dist-packages (from numpy==1.26.4) (1.3.8)\r\n",
      "Requirement already satisfied: mkl_random in /usr/local/lib/python3.10/dist-packages (from numpy==1.26.4) (1.2.4)\r\n",
      "Requirement already satisfied: mkl_umath in /usr/local/lib/python3.10/dist-packages (from numpy==1.26.4) (0.1.1)\r\n",
      "Requirement already satisfied: mkl in /usr/local/lib/python3.10/dist-packages (from numpy==1.26.4) (2025.0.1)\r\n",
      "Requirement already satisfied: tbb4py in /usr/local/lib/python3.10/dist-packages (from numpy==1.26.4) (2022.0.0)\r\n",
      "Requirement already satisfied: mkl-service in /usr/local/lib/python3.10/dist-packages (from numpy==1.26.4) (2.4.1)\r\n",
      "Requirement already satisfied: nvidia-nvjitlink-cu12 in /usr/local/lib/python3.10/dist-packages (from nvidia-cusolver-cu12==11.4.5.107->torch==2.2.2) (12.6.85)\r\n",
      "Requirement already satisfied: MarkupSafe>=2.0 in /usr/local/lib/python3.10/dist-packages (from jinja2->torch==2.2.2) (3.0.2)\r\n",
      "Requirement already satisfied: intel-openmp>=2024 in /usr/local/lib/python3.10/dist-packages (from mkl->numpy==1.26.4) (2024.2.0)\r\n",
      "Requirement already satisfied: tbb==2022.* in /usr/local/lib/python3.10/dist-packages (from mkl->numpy==1.26.4) (2022.0.0)\r\n",
      "Requirement already satisfied: tcmlib==1.* in /usr/local/lib/python3.10/dist-packages (from tbb==2022.*->mkl->numpy==1.26.4) (1.2.0)\r\n",
      "Requirement already satisfied: intel-cmplr-lib-rt in /usr/local/lib/python3.10/dist-packages (from mkl_umath->numpy==1.26.4) (2024.2.0)\r\n",
      "Requirement already satisfied: charset-normalizer<4,>=2 in /usr/local/lib/python3.10/dist-packages (from requests->torchtext==0.17.2) (3.4.1)\r\n",
      "Requirement already satisfied: idna<4,>=2.5 in /usr/local/lib/python3.10/dist-packages (from requests->torchtext==0.17.2) (3.10)\r\n",
      "Requirement already satisfied: urllib3<3,>=1.21.1 in /usr/local/lib/python3.10/dist-packages (from requests->torchtext==0.17.2) (2.3.0)\r\n",
      "Requirement already satisfied: certifi>=2017.4.17 in /usr/local/lib/python3.10/dist-packages (from requests->torchtext==0.17.2) (2025.1.31)\r\n",
      "Requirement already satisfied: mpmath<1.4,>=1.1.0 in /usr/local/lib/python3.10/dist-packages (from sympy->torch==2.2.2) (1.3.0)\r\n",
      "Requirement already satisfied: intel-cmplr-lib-ur==2024.2.0 in /usr/local/lib/python3.10/dist-packages (from intel-openmp>=2024->mkl->numpy==1.26.4) (2024.2.0)\r\n",
      "Downloading torch-2.2.2-cp310-cp310-manylinux1_x86_64.whl (755.5 MB)\r\n",
      "\u001b[2K   \u001b[90m━━━━━━━━━━━━━━━━━━━━━━━━━━━━━━━━━━━━━━━━\u001b[0m \u001b[32m755.5/755.5 MB\u001b[0m \u001b[31m1.8 MB/s\u001b[0m eta \u001b[36m0:00:00\u001b[0m\r\n",
      "\u001b[?25hDownloading torchtext-0.17.2-cp310-cp310-manylinux1_x86_64.whl (2.0 MB)\r\n",
      "\u001b[2K   \u001b[90m━━━━━━━━━━━━━━━━━━━━━━━━━━━━━━━━━━━━━━━━\u001b[0m \u001b[32m2.0/2.0 MB\u001b[0m \u001b[31m69.8 MB/s\u001b[0m eta \u001b[36m0:00:00\u001b[0m\r\n",
      "\u001b[?25hDownloading nvidia_cublas_cu12-12.1.3.1-py3-none-manylinux1_x86_64.whl (410.6 MB)\r\n",
      "\u001b[2K   \u001b[90m━━━━━━━━━━━━━━━━━━━━━━━━━━━━━━━━━━━━━━━━\u001b[0m \u001b[32m410.6/410.6 MB\u001b[0m \u001b[31m2.0 MB/s\u001b[0m eta \u001b[36m0:00:00\u001b[0m\r\n",
      "\u001b[?25hDownloading nvidia_cuda_cupti_cu12-12.1.105-py3-none-manylinux1_x86_64.whl (14.1 MB)\r\n",
      "\u001b[2K   \u001b[90m━━━━━━━━━━━━━━━━━━━━━━━━━━━━━━━━━━━━━━━━\u001b[0m \u001b[32m14.1/14.1 MB\u001b[0m \u001b[31m96.8 MB/s\u001b[0m eta \u001b[36m0:00:00\u001b[0m\r\n",
      "\u001b[?25hDownloading nvidia_cuda_nvrtc_cu12-12.1.105-py3-none-manylinux1_x86_64.whl (23.7 MB)\r\n",
      "\u001b[2K   \u001b[90m━━━━━━━━━━━━━━━━━━━━━━━━━━━━━━━━━━━━━━━━\u001b[0m \u001b[32m23.7/23.7 MB\u001b[0m \u001b[31m79.0 MB/s\u001b[0m eta \u001b[36m0:00:00\u001b[0m\r\n",
      "\u001b[?25hDownloading nvidia_cuda_runtime_cu12-12.1.105-py3-none-manylinux1_x86_64.whl (823 kB)\r\n",
      "\u001b[2K   \u001b[90m━━━━━━━━━━━━━━━━━━━━━━━━━━━━━━━━━━━━━━━━\u001b[0m \u001b[32m823.6/823.6 kB\u001b[0m \u001b[31m44.4 MB/s\u001b[0m eta \u001b[36m0:00:00\u001b[0m\r\n",
      "\u001b[?25hDownloading nvidia_cudnn_cu12-8.9.2.26-py3-none-manylinux1_x86_64.whl (731.7 MB)\r\n",
      "\u001b[2K   \u001b[90m━━━━━━━━━━━━━━━━━━━━━━━━━━━━━━━━━━━━━━━━\u001b[0m \u001b[32m731.7/731.7 MB\u001b[0m \u001b[31m1.9 MB/s\u001b[0m eta \u001b[36m0:00:00\u001b[0m\r\n",
      "\u001b[?25hDownloading nvidia_cufft_cu12-11.0.2.54-py3-none-manylinux1_x86_64.whl (121.6 MB)\r\n",
      "\u001b[2K   \u001b[90m━━━━━━━━━━━━━━━━━━━━━━━━━━━━━━━━━━━━━━━━\u001b[0m \u001b[32m121.6/121.6 MB\u001b[0m \u001b[31m2.9 MB/s\u001b[0m eta \u001b[36m0:00:00\u001b[0m\r\n",
      "\u001b[?25hDownloading nvidia_curand_cu12-10.3.2.106-py3-none-manylinux1_x86_64.whl (56.5 MB)\r\n",
      "\u001b[2K   \u001b[90m━━━━━━━━━━━━━━━━━━━━━━━━━━━━━━━━━━━━━━━━\u001b[0m \u001b[32m56.5/56.5 MB\u001b[0m \u001b[31m6.9 MB/s\u001b[0m eta \u001b[36m0:00:00\u001b[0m\r\n",
      "\u001b[?25hDownloading nvidia_cusolver_cu12-11.4.5.107-py3-none-manylinux1_x86_64.whl (124.2 MB)\r\n",
      "\u001b[2K   \u001b[90m━━━━━━━━━━━━━━━━━━━━━━━━━━━━━━━━━━━━━━━━\u001b[0m \u001b[32m124.2/124.2 MB\u001b[0m \u001b[31m13.7 MB/s\u001b[0m eta \u001b[36m0:00:00\u001b[0m\r\n",
      "\u001b[?25hDownloading nvidia_cusparse_cu12-12.1.0.106-py3-none-manylinux1_x86_64.whl (196.0 MB)\r\n",
      "\u001b[2K   \u001b[90m━━━━━━━━━━━━━━━━━━━━━━━━━━━━━━━━━━━━━━━━\u001b[0m \u001b[32m196.0/196.0 MB\u001b[0m \u001b[31m8.8 MB/s\u001b[0m eta \u001b[36m0:00:00\u001b[0m\r\n",
      "\u001b[?25hDownloading nvidia_nccl_cu12-2.19.3-py3-none-manylinux1_x86_64.whl (166.0 MB)\r\n",
      "\u001b[2K   \u001b[90m━━━━━━━━━━━━━━━━━━━━━━━━━━━━━━━━━━━━━━━━\u001b[0m \u001b[32m166.0/166.0 MB\u001b[0m \u001b[31m10.3 MB/s\u001b[0m eta \u001b[36m0:00:00\u001b[0m\r\n",
      "\u001b[?25hDownloading nvidia_nvtx_cu12-12.1.105-py3-none-manylinux1_x86_64.whl (99 kB)\r\n",
      "\u001b[2K   \u001b[90m━━━━━━━━━━━━━━━━━━━━━━━━━━━━━━━━━━━━━━━━\u001b[0m \u001b[32m99.1/99.1 kB\u001b[0m \u001b[31m6.3 MB/s\u001b[0m eta \u001b[36m0:00:00\u001b[0m\r\n",
      "\u001b[?25hDownloading triton-2.2.0-cp310-cp310-manylinux_2_17_x86_64.manylinux2014_x86_64.whl (167.9 MB)\r\n",
      "\u001b[2K   \u001b[90m━━━━━━━━━━━━━━━━━━━━━━━━━━━━━━━━━━━━━━━━\u001b[0m \u001b[32m167.9/167.9 MB\u001b[0m \u001b[31m10.2 MB/s\u001b[0m eta \u001b[36m0:00:00\u001b[0m\r\n",
      "\u001b[?25hInstalling collected packages: triton, nvidia-nvtx-cu12, nvidia-nccl-cu12, nvidia-cusparse-cu12, nvidia-curand-cu12, nvidia-cufft-cu12, nvidia-cuda-runtime-cu12, nvidia-cuda-nvrtc-cu12, nvidia-cuda-cupti-cu12, nvidia-cublas-cu12, nvidia-cusolver-cu12, nvidia-cudnn-cu12, torch, torchtext\r\n",
      "  Attempting uninstall: nvidia-nccl-cu12\r\n",
      "    Found existing installation: nvidia-nccl-cu12 2.23.4\r\n",
      "    Uninstalling nvidia-nccl-cu12-2.23.4:\r\n",
      "      Successfully uninstalled nvidia-nccl-cu12-2.23.4\r\n",
      "  Attempting uninstall: nvidia-cusparse-cu12\r\n",
      "    Found existing installation: nvidia-cusparse-cu12 12.5.4.2\r\n",
      "    Uninstalling nvidia-cusparse-cu12-12.5.4.2:\r\n",
      "      Successfully uninstalled nvidia-cusparse-cu12-12.5.4.2\r\n",
      "  Attempting uninstall: nvidia-curand-cu12\r\n",
      "    Found existing installation: nvidia-curand-cu12 10.3.7.77\r\n",
      "    Uninstalling nvidia-curand-cu12-10.3.7.77:\r\n",
      "      Successfully uninstalled nvidia-curand-cu12-10.3.7.77\r\n",
      "  Attempting uninstall: nvidia-cufft-cu12\r\n",
      "    Found existing installation: nvidia-cufft-cu12 11.3.0.4\r\n",
      "    Uninstalling nvidia-cufft-cu12-11.3.0.4:\r\n",
      "      Successfully uninstalled nvidia-cufft-cu12-11.3.0.4\r\n",
      "  Attempting uninstall: nvidia-cuda-runtime-cu12\r\n",
      "    Found existing installation: nvidia-cuda-runtime-cu12 12.6.77\r\n",
      "    Uninstalling nvidia-cuda-runtime-cu12-12.6.77:\r\n",
      "      Successfully uninstalled nvidia-cuda-runtime-cu12-12.6.77\r\n",
      "  Attempting uninstall: nvidia-cuda-cupti-cu12\r\n",
      "    Found existing installation: nvidia-cuda-cupti-cu12 12.6.80\r\n",
      "    Uninstalling nvidia-cuda-cupti-cu12-12.6.80:\r\n",
      "      Successfully uninstalled nvidia-cuda-cupti-cu12-12.6.80\r\n",
      "  Attempting uninstall: nvidia-cublas-cu12\r\n",
      "    Found existing installation: nvidia-cublas-cu12 12.6.4.1\r\n",
      "    Uninstalling nvidia-cublas-cu12-12.6.4.1:\r\n",
      "      Successfully uninstalled nvidia-cublas-cu12-12.6.4.1\r\n",
      "  Attempting uninstall: nvidia-cusolver-cu12\r\n",
      "    Found existing installation: nvidia-cusolver-cu12 11.7.1.2\r\n",
      "    Uninstalling nvidia-cusolver-cu12-11.7.1.2:\r\n",
      "      Successfully uninstalled nvidia-cusolver-cu12-11.7.1.2\r\n",
      "  Attempting uninstall: nvidia-cudnn-cu12\r\n",
      "    Found existing installation: nvidia-cudnn-cu12 9.6.0.74\r\n",
      "    Uninstalling nvidia-cudnn-cu12-9.6.0.74:\r\n",
      "      Successfully uninstalled nvidia-cudnn-cu12-9.6.0.74\r\n",
      "\u001b[31mERROR: pip's dependency resolver does not currently take into account all the packages that are installed. This behaviour is the source of the following dependency conflicts.\r\n",
      "easyocr 1.7.2 requires torchvision>=0.5, which is not installed.\r\n",
      "fastai 2.7.18 requires torchvision>=0.11, which is not installed.\r\n",
      "timm 1.0.12 requires torchvision, which is not installed.\r\n",
      "pylibcugraph-cu12 24.10.0 requires pylibraft-cu12==24.10.*, but you have pylibraft-cu12 25.2.0 which is incompatible.\r\n",
      "pylibcugraph-cu12 24.10.0 requires rmm-cu12==24.10.*, but you have rmm-cu12 25.2.0 which is incompatible.\u001b[0m\u001b[31m\r\n",
      "\u001b[0mSuccessfully installed nvidia-cublas-cu12-12.1.3.1 nvidia-cuda-cupti-cu12-12.1.105 nvidia-cuda-nvrtc-cu12-12.1.105 nvidia-cuda-runtime-cu12-12.1.105 nvidia-cudnn-cu12-8.9.2.26 nvidia-cufft-cu12-11.0.2.54 nvidia-curand-cu12-10.3.2.106 nvidia-cusolver-cu12-11.4.5.107 nvidia-cusparse-cu12-12.1.0.106 nvidia-nccl-cu12-2.19.3 nvidia-nvtx-cu12-12.1.105 torch-2.2.2 torchtext-0.17.2 triton-2.2.0\r\n"
     ]
    }
   ],
   "source": [
    "!pip uninstall -y torch torchtext torchvision torchaudio\n",
    "!pip list | grep torch\n",
    "\n",
    "!pip install torch==2.2.2 torchtext==0.17.2 numpy==1.26.4"
   ]
  },
  {
   "cell_type": "code",
   "execution_count": 2,
   "id": "0636363d",
   "metadata": {
    "execution": {
     "iopub.execute_input": "2025-02-28T22:03:14.650088Z",
     "iopub.status.busy": "2025-02-28T22:03:14.649784Z",
     "iopub.status.idle": "2025-02-28T22:03:19.134284Z",
     "shell.execute_reply": "2025-02-28T22:03:19.133357Z"
    },
    "papermill": {
     "duration": 4.529845,
     "end_time": "2025-02-28T22:03:19.135893",
     "exception": false,
     "start_time": "2025-02-28T22:03:14.606048",
     "status": "completed"
    },
    "tags": []
   },
   "outputs": [],
   "source": [
    "import pandas as pd\n",
    "import torch\n",
    "import torch.nn as nn\n",
    "from torch.utils.data import DataLoader,Dataset\n",
    "from torch.nn.utils.rnn import pad_sequence\n",
    "from torchtext.vocab import build_vocab_from_iterator\n",
    "from torchtext.data.utils import get_tokenizer\n",
    "from torch.optim.lr_scheduler import ReduceLROnPlateau\n",
    "import torch.nn.functional as F\n",
    "from sklearn.model_selection import train_test_split\n",
    "from collections import Counter\n",
    "import re\n",
    "from torchinfo import summary\n",
    "from tqdm import tqdm\n",
    "import matplotlib.pyplot as plt\n",
    "import seaborn as sns\n",
    "from sklearn.metrics import classification_report, confusion_matrix\n",
    "import warnings \n",
    "warnings.filterwarnings(\"ignore\")"
   ]
  },
  {
   "cell_type": "code",
   "execution_count": 3,
   "id": "5e8e5d55",
   "metadata": {
    "execution": {
     "iopub.execute_input": "2025-02-28T22:03:19.244420Z",
     "iopub.status.busy": "2025-02-28T22:03:19.243914Z",
     "iopub.status.idle": "2025-02-28T22:03:19.249720Z",
     "shell.execute_reply": "2025-02-28T22:03:19.248550Z"
    },
    "papermill": {
     "duration": 0.071521,
     "end_time": "2025-02-28T22:03:19.251065",
     "exception": false,
     "start_time": "2025-02-28T22:03:19.179544",
     "status": "completed"
    },
    "tags": []
   },
   "outputs": [],
   "source": [
    "# Step 1: Data Preparation\n",
    "class ArabicSentimentDataset(Dataset):\n",
    "    def __init__(self, texts, labels, vocab):\n",
    "        self.texts = texts\n",
    "        self.labels = labels\n",
    "        self.vocab = vocab\n",
    "\n",
    "    def __len__(self):\n",
    "        return len(self.texts)\n",
    "\n",
    "    def __getitem__(self, idx):\n",
    "        text = self.texts[idx]\n",
    "        label = self.labels[idx]\n",
    "        numericalized_text = [self.vocab[word] for word in text]\n",
    "        return torch.tensor(numericalized_text, dtype=torch.long), torch.tensor(label, dtype=torch.long)"
   ]
  },
  {
   "cell_type": "code",
   "execution_count": 4,
   "id": "9eea975b",
   "metadata": {
    "execution": {
     "iopub.execute_input": "2025-02-28T22:03:19.341996Z",
     "iopub.status.busy": "2025-02-28T22:03:19.341706Z",
     "iopub.status.idle": "2025-02-28T22:03:19.345621Z",
     "shell.execute_reply": "2025-02-28T22:03:19.344992Z"
    },
    "papermill": {
     "duration": 0.048591,
     "end_time": "2025-02-28T22:03:19.346835",
     "exception": false,
     "start_time": "2025-02-28T22:03:19.298244",
     "status": "completed"
    },
    "tags": []
   },
   "outputs": [],
   "source": [
    "# Step 2: Preprocessing\n",
    "def preprocess_arabic_text(text):\n",
    "    # Remove diacritics and special characters\n",
    "    text = re.sub(r'[^\\w\\s]', '', text)  # Remove punctuation\n",
    "    text = re.sub(r'[ًٌٍَُِّْـ]', '', text)  # Remove Arabic diacritics\n",
    "    text = re.sub(r'\\b[A-Za-z]+\\b', '', text)  # Remove English words\n",
    "    text = re.sub(r'\\s+', ' ', text).strip()  # Remove extra spaces\n",
    "    return text.split()"
   ]
  },
  {
   "cell_type": "code",
   "execution_count": 5,
   "id": "1e41d730",
   "metadata": {
    "execution": {
     "iopub.execute_input": "2025-02-28T22:03:19.434007Z",
     "iopub.status.busy": "2025-02-28T22:03:19.433709Z",
     "iopub.status.idle": "2025-02-28T22:03:19.437198Z",
     "shell.execute_reply": "2025-02-28T22:03:19.436457Z"
    },
    "papermill": {
     "duration": 0.048918,
     "end_time": "2025-02-28T22:03:19.438664",
     "exception": false,
     "start_time": "2025-02-28T22:03:19.389746",
     "status": "completed"
    },
    "tags": []
   },
   "outputs": [],
   "source": [
    "# Step 3: Build vocabulary\n",
    "def yield_tokens(texts):\n",
    "    for text in texts:\n",
    "        yield text"
   ]
  },
  {
   "cell_type": "code",
   "execution_count": 6,
   "id": "2212faa5",
   "metadata": {
    "execution": {
     "iopub.execute_input": "2025-02-28T22:03:19.527644Z",
     "iopub.status.busy": "2025-02-28T22:03:19.527343Z",
     "iopub.status.idle": "2025-02-28T22:03:26.266378Z",
     "shell.execute_reply": "2025-02-28T22:03:26.265491Z"
    },
    "papermill": {
     "duration": 6.785603,
     "end_time": "2025-02-28T22:03:26.267732",
     "exception": false,
     "start_time": "2025-02-28T22:03:19.482129",
     "status": "completed"
    },
    "tags": []
   },
   "outputs": [
    {
     "data": {
      "text/html": [
       "<div>\n",
       "<style scoped>\n",
       "    .dataframe tbody tr th:only-of-type {\n",
       "        vertical-align: middle;\n",
       "    }\n",
       "\n",
       "    .dataframe tbody tr th {\n",
       "        vertical-align: top;\n",
       "    }\n",
       "\n",
       "    .dataframe thead th {\n",
       "        text-align: right;\n",
       "    }\n",
       "</style>\n",
       "<table border=\"1\" class=\"dataframe\">\n",
       "  <thead>\n",
       "    <tr style=\"text-align: right;\">\n",
       "      <th></th>\n",
       "      <th>label</th>\n",
       "      <th>content</th>\n",
       "    </tr>\n",
       "  </thead>\n",
       "  <tbody>\n",
       "    <tr>\n",
       "      <th>0</th>\n",
       "      <td>1</td>\n",
       "      <td>النعال المريحة: أرتدي هذه النعال كثيرًا!فهي دا...</td>\n",
       "    </tr>\n",
       "    <tr>\n",
       "      <th>1</th>\n",
       "      <td>1</td>\n",
       "      <td>منتج جميل ، خدمة سيئة: لقد اشتريت زوجًا من الن...</td>\n",
       "    </tr>\n",
       "    <tr>\n",
       "      <th>2</th>\n",
       "      <td>1</td>\n",
       "      <td>جيد للأشياء الصغيرة: هذا يعمل بشكل جيد لالتقاط...</td>\n",
       "    </tr>\n",
       "    <tr>\n",
       "      <th>3</th>\n",
       "      <td>0</td>\n",
       "      <td>واهية للغاية: flimsyif للغاية ، فأنت تشتريه ، ...</td>\n",
       "    </tr>\n",
       "    <tr>\n",
       "      <th>4</th>\n",
       "      <td>1</td>\n",
       "      <td>Pop for Girls and Girly Boys ، والأشخاص الذين ...</td>\n",
       "    </tr>\n",
       "  </tbody>\n",
       "</table>\n",
       "</div>"
      ],
      "text/plain": [
       "   label                                            content\n",
       "0      1  النعال المريحة: أرتدي هذه النعال كثيرًا!فهي دا...\n",
       "1      1  منتج جميل ، خدمة سيئة: لقد اشتريت زوجًا من الن...\n",
       "2      1  جيد للأشياء الصغيرة: هذا يعمل بشكل جيد لالتقاط...\n",
       "3      0  واهية للغاية: flimsyif للغاية ، فأنت تشتريه ، ...\n",
       "4      1  Pop for Girls and Girly Boys ، والأشخاص الذين ..."
      ]
     },
     "execution_count": 6,
     "metadata": {},
     "output_type": "execute_result"
    }
   ],
   "source": [
    "# Load data\n",
    "df = pd.read_csv('/kaggle/input/330k-arabic-sentiment-reviews/arabic_sentiment_reviews.csv')\n",
    "df.head()"
   ]
  },
  {
   "cell_type": "code",
   "execution_count": 7,
   "id": "8e7cc489",
   "metadata": {
    "execution": {
     "iopub.execute_input": "2025-02-28T22:03:26.408203Z",
     "iopub.status.busy": "2025-02-28T22:03:26.407836Z",
     "iopub.status.idle": "2025-02-28T22:03:26.422172Z",
     "shell.execute_reply": "2025-02-28T22:03:26.421287Z"
    },
    "papermill": {
     "duration": 0.059973,
     "end_time": "2025-02-28T22:03:26.423493",
     "exception": false,
     "start_time": "2025-02-28T22:03:26.363520",
     "status": "completed"
    },
    "tags": []
   },
   "outputs": [
    {
     "data": {
      "text/plain": [
       "label\n",
       "1    166853\n",
       "0    163147\n",
       "Name: count, dtype: int64"
      ]
     },
     "execution_count": 7,
     "metadata": {},
     "output_type": "execute_result"
    }
   ],
   "source": [
    "df.label.value_counts()"
   ]
  },
  {
   "cell_type": "code",
   "execution_count": 8,
   "id": "54742177",
   "metadata": {
    "execution": {
     "iopub.execute_input": "2025-02-28T22:03:26.511247Z",
     "iopub.status.busy": "2025-02-28T22:03:26.510911Z",
     "iopub.status.idle": "2025-02-28T22:03:46.804903Z",
     "shell.execute_reply": "2025-02-28T22:03:46.804146Z"
    },
    "papermill": {
     "duration": 20.339888,
     "end_time": "2025-02-28T22:03:46.806609",
     "exception": false,
     "start_time": "2025-02-28T22:03:26.466721",
     "status": "completed"
    },
    "tags": []
   },
   "outputs": [],
   "source": [
    "texts = df['content'].apply(preprocess_arabic_text).tolist()\n",
    "labels = df['label'].values"
   ]
  },
  {
   "cell_type": "code",
   "execution_count": 9,
   "id": "795d92ca",
   "metadata": {
    "execution": {
     "iopub.execute_input": "2025-02-28T22:03:46.907825Z",
     "iopub.status.busy": "2025-02-28T22:03:46.907485Z",
     "iopub.status.idle": "2025-02-28T22:03:57.402947Z",
     "shell.execute_reply": "2025-02-28T22:03:57.402253Z"
    },
    "papermill": {
     "duration": 10.548194,
     "end_time": "2025-02-28T22:03:57.404481",
     "exception": false,
     "start_time": "2025-02-28T22:03:46.856287",
     "status": "completed"
    },
    "tags": []
   },
   "outputs": [],
   "source": [
    "# Build vocabulary\n",
    "vocab = build_vocab_from_iterator(yield_tokens(texts), specials=['<pad>', '<unk>'])\n",
    "vocab.set_default_index(vocab['<unk>'])"
   ]
  },
  {
   "cell_type": "code",
   "execution_count": 10,
   "id": "cac6aaa8",
   "metadata": {
    "execution": {
     "iopub.execute_input": "2025-02-28T22:03:57.494964Z",
     "iopub.status.busy": "2025-02-28T22:03:57.494679Z",
     "iopub.status.idle": "2025-02-28T22:04:02.419893Z",
     "shell.execute_reply": "2025-02-28T22:04:02.418759Z"
    },
    "papermill": {
     "duration": 4.971955,
     "end_time": "2025-02-28T22:04:02.421671",
     "exception": false,
     "start_time": "2025-02-28T22:03:57.449716",
     "status": "completed"
    },
    "tags": []
   },
   "outputs": [
    {
     "name": "stdout",
     "output_type": "stream",
     "text": [
      "📌 Vocabulary Size: 978029\n",
      "🔝 Top 20 Most Common Words:\n",
      "من: 639005\n",
      "في: 510952\n",
      "على: 364256\n",
      "هذا: 364133\n",
      "أن: 323085\n",
      "لا: 191839\n",
      "إلى: 190703\n",
      "كان: 121194\n",
      "مع: 120446\n",
      "هو: 119015\n",
      "ما: 118578\n",
      "الكتاب: 117525\n",
      "التي: 109022\n",
      "هذه: 101985\n",
      "ذلك: 98159\n",
      "لم: 93631\n",
      "عن: 85602\n",
      "كنت: 81392\n",
      "أو: 77854\n",
      "الذي: 73208\n"
     ]
    }
   ],
   "source": [
    "# Get vocabulary details\n",
    "vocab_size = len(vocab)\n",
    "word_freq = Counter(word for text in texts for word in text)  # Count word frequencies\n",
    "most_common_words = word_freq.most_common(20)  # Top 20 most common words\n",
    "# Print results\n",
    "print(f\"📌 Vocabulary Size: {vocab_size}\")\n",
    "print(\"🔝 Top 20 Most Common Words:\")\n",
    "for word, freq in most_common_words:\n",
    "    print(f\"{word}: {freq}\")"
   ]
  },
  {
   "cell_type": "code",
   "execution_count": 11,
   "id": "e488f2a4",
   "metadata": {
    "execution": {
     "iopub.execute_input": "2025-02-28T22:04:02.511595Z",
     "iopub.status.busy": "2025-02-28T22:04:02.511296Z",
     "iopub.status.idle": "2025-02-28T22:04:02.649026Z",
     "shell.execute_reply": "2025-02-28T22:04:02.648058Z"
    },
    "papermill": {
     "duration": 0.184428,
     "end_time": "2025-02-28T22:04:02.650411",
     "exception": false,
     "start_time": "2025-02-28T22:04:02.465983",
     "status": "completed"
    },
    "tags": []
   },
   "outputs": [
    {
     "name": "stdout",
     "output_type": "stream",
     "text": [
      "Train Shape: 264000\n",
      "Test Shape: 33000\n",
      "Validation Shape: 33000\n"
     ]
    }
   ],
   "source": [
    "# Split data\n",
    "X_train, X_temp, y_train, y_temp = train_test_split(texts, labels, test_size=0.2)\n",
    "X_test, X_val, y_test, y_val = train_test_split(X_temp, y_temp, test_size=0.5)\n",
    "print(f\"Train Shape: {len(X_train)}\")\n",
    "print(f\"Test Shape: {len(X_test)}\")\n",
    "print(f\"Validation Shape: {len(X_val)}\")"
   ]
  },
  {
   "cell_type": "code",
   "execution_count": 12,
   "id": "880f1e04",
   "metadata": {
    "execution": {
     "iopub.execute_input": "2025-02-28T22:04:02.742575Z",
     "iopub.status.busy": "2025-02-28T22:04:02.742275Z",
     "iopub.status.idle": "2025-02-28T22:04:02.745877Z",
     "shell.execute_reply": "2025-02-28T22:04:02.745214Z"
    },
    "papermill": {
     "duration": 0.049218,
     "end_time": "2025-02-28T22:04:02.747005",
     "exception": false,
     "start_time": "2025-02-28T22:04:02.697787",
     "status": "completed"
    },
    "tags": []
   },
   "outputs": [],
   "source": [
    "# Create datasets\n",
    "train_dataset = ArabicSentimentDataset(X_train, y_train, vocab)\n",
    "test_dataset = ArabicSentimentDataset(X_test, y_test, vocab)\n",
    "val_dataset = ArabicSentimentDataset(X_val, y_val, vocab)"
   ]
  },
  {
   "cell_type": "code",
   "execution_count": 13,
   "id": "841c4e58",
   "metadata": {
    "execution": {
     "iopub.execute_input": "2025-02-28T22:04:02.835725Z",
     "iopub.status.busy": "2025-02-28T22:04:02.835416Z",
     "iopub.status.idle": "2025-02-28T22:04:02.840602Z",
     "shell.execute_reply": "2025-02-28T22:04:02.839899Z"
    },
    "papermill": {
     "duration": 0.051047,
     "end_time": "2025-02-28T22:04:02.841818",
     "exception": false,
     "start_time": "2025-02-28T22:04:02.790771",
     "status": "completed"
    },
    "tags": []
   },
   "outputs": [],
   "source": [
    "# Create dataloaders with padding\n",
    "# Step 5: Define collate function\n",
    "def collate_fn(batch):\n",
    "    texts, labels = zip(*batch)\n",
    "    padded_texts = pad_sequence([torch.tensor(text) for text in texts], batch_first=True, padding_value=vocab['<pad>'])\n",
    "    return padded_texts, torch.tensor(labels, dtype=torch.long)\n",
    "\n",
    "train_loader = DataLoader(train_dataset, batch_size=32, shuffle=True, collate_fn=collate_fn)\n",
    "test_loader = DataLoader(test_dataset, batch_size=32, collate_fn=collate_fn)\n",
    "val_loader = DataLoader(val_dataset, batch_size=32, collate_fn=collate_fn)"
   ]
  },
  {
   "cell_type": "code",
   "execution_count": 14,
   "id": "f1fda90b",
   "metadata": {
    "execution": {
     "iopub.execute_input": "2025-02-28T22:04:02.930497Z",
     "iopub.status.busy": "2025-02-28T22:04:02.930192Z",
     "iopub.status.idle": "2025-02-28T22:04:02.936098Z",
     "shell.execute_reply": "2025-02-28T22:04:02.935369Z"
    },
    "papermill": {
     "duration": 0.05213,
     "end_time": "2025-02-28T22:04:02.937418",
     "exception": false,
     "start_time": "2025-02-28T22:04:02.885288",
     "status": "completed"
    },
    "tags": []
   },
   "outputs": [],
   "source": [
    "# Step 4: Model Definition\n",
    "class SentimentLSTM(nn.Module):\n",
    "    def __init__(self, vocab_size, embedding_dim,hidden_dim, output_dim=2, n_layers=1):\n",
    "        super().__init__()\n",
    "        self.embedding = nn.Embedding(vocab_size, embedding_dim)\n",
    "        self.lstm = nn.LSTM(embedding_dim, hidden_dim, n_layers, batch_first=True, bidirectional=True)\n",
    "        self.batch_norm = nn.BatchNorm1d(hidden_dim * 2)\n",
    "        self.dropout = nn.Dropout(0.3)\n",
    "        self.fc = nn.Linear(hidden_dim*2, output_dim)\n",
    "        \n",
    "    def forward(self, x):\n",
    "        embedded = self.embedding(x)\n",
    "        output, (hidden, _) = self.lstm(embedded)\n",
    "        hidden = self.batch_norm(torch.cat((hidden[-2,:,:], hidden[-1,:,:]), dim=1))\n",
    "        hidden = self.dropout(hidden)\n",
    "        return self.fc(hidden)"
   ]
  },
  {
   "cell_type": "code",
   "execution_count": 15,
   "id": "0b10fe37",
   "metadata": {
    "execution": {
     "iopub.execute_input": "2025-02-28T22:04:03.027118Z",
     "iopub.status.busy": "2025-02-28T22:04:03.026807Z",
     "iopub.status.idle": "2025-02-28T22:04:03.033615Z",
     "shell.execute_reply": "2025-02-28T22:04:03.032933Z"
    },
    "papermill": {
     "duration": 0.052914,
     "end_time": "2025-02-28T22:04:03.034826",
     "exception": false,
     "start_time": "2025-02-28T22:04:02.981912",
     "status": "completed"
    },
    "tags": []
   },
   "outputs": [],
   "source": [
    "# Step 5: Callbacks\n",
    "class Callback:\n",
    "    def __init__(self, patience=3, min_delta=0.001, lr_scheduler=None, factor=0.1, lr_patience=2):\n",
    "        \"\"\"\n",
    "        Args:\n",
    "            patience (int): Number of epochs to wait before early stopping if no improvement.\n",
    "            min_delta (float): Minimum change in validation loss to qualify as an improvement.\n",
    "            lr_scheduler (torch.optim.lr_scheduler.ReduceLROnPlateau): Learning rate scheduler.\n",
    "            factor (float): Factor by which to reduce learning rate.\n",
    "            lr_patience (int): Number of epochs to wait before reducing learning rate.\n",
    "        \"\"\"\n",
    "        self.patience = patience\n",
    "        self.min_delta = min_delta\n",
    "        self.best_loss = float('inf')\n",
    "        self.counter = 0\n",
    "        self.early_stop = False\n",
    "        # Learning Rate Scheduler\n",
    "        self.lr_scheduler = lr_scheduler\n",
    "        self.lr_patience = lr_patience\n",
    "        self.lr_counter = 0  # Tracks epochs without improvement for LR scheduling\n",
    "        self.factor = factor\n",
    "\n",
    "    def on_epoch_end(self, val_loss, model, optimizer):\n",
    "        \"\"\"\n",
    "        Called at the end of each epoch.\n",
    "        \n",
    "        Args:\n",
    "            val_loss (float): Validation loss.\n",
    "            model (torch.nn.Module): The model being trained.\n",
    "            optimizer (torch.optim.Optimizer): The optimizer being used.\n",
    "        \"\"\"\n",
    "        if val_loss < self.best_loss - self.min_delta:\n",
    "            self.best_loss = val_loss\n",
    "            self.counter = 0\n",
    "            self.lr_counter = 0  # Reset LR counter\n",
    "            torch.save(model,'best_model.pth') # Save best model\n",
    "            print(f\"Best model saved with validation loss: {val_loss:.4f}\")\n",
    "        else:\n",
    "            self.counter += 1\n",
    "            self.lr_counter += 1\n",
    "            # Reduce learning rate if no improvement for `lr_patience` epochs\n",
    "            if self.lr_scheduler and self.lr_counter >= self.lr_patience:\n",
    "                self.lr_scheduler.step(val_loss)\n",
    "                self.lr_counter = 0  # Reset LR counter\n",
    "            # Trigger early stopping if no improvement for `patience` epochs\n",
    "            if self.counter >= self.patience:\n",
    "                self.early_stop = True"
   ]
  },
  {
   "cell_type": "code",
   "execution_count": 16,
   "id": "a25ba0e9",
   "metadata": {
    "execution": {
     "iopub.execute_input": "2025-02-28T22:04:03.123891Z",
     "iopub.status.busy": "2025-02-28T22:04:03.123593Z",
     "iopub.status.idle": "2025-02-28T22:04:03.129020Z",
     "shell.execute_reply": "2025-02-28T22:04:03.128359Z"
    },
    "papermill": {
     "duration": 0.051875,
     "end_time": "2025-02-28T22:04:03.130168",
     "exception": false,
     "start_time": "2025-02-28T22:04:03.078293",
     "status": "completed"
    },
    "tags": []
   },
   "outputs": [],
   "source": [
    "# Step 6: Training Function\n",
    "def train_epoch(model, optimizer, loss_fn, data_loader, device):\n",
    "    \"\"\"\n",
    "    Trains the model for one epoch and calculates training loss & accuracy.\n",
    "\n",
    "    Args:\n",
    "        model (torch.nn.Module): The model being trained.\n",
    "        optimizer (torch.optim.Optimizer): Optimizer for updating weights.\n",
    "        loss_fn (torch.nn.Module): Loss function.\n",
    "        data_loader (DataLoader): DataLoader for training data.\n",
    "        device (str): Device to use ('cuda' or 'cpu').\n",
    "\n",
    "    Returns:\n",
    "        tuple: (Average Training Loss, Training Accuracy)\n",
    "    \"\"\"\n",
    "    # Initialize loss and accuracy variables\n",
    "    training_loss = 0.0\n",
    "    correct = 0\n",
    "    total = 0\n",
    "    # Set the model to training mode\n",
    "    model.train()\n",
    "    # Loop through batches\n",
    "    for inputs, targets in tqdm(data_loader, desc=\"Training\", leave=False):\n",
    "        # Move inputs & targets to the same device\n",
    "        inputs, targets = inputs.to(device), targets.to(device)\n",
    "        # Zero the gradients\n",
    "        optimizer.zero_grad()\n",
    "        # Forward pass\n",
    "        outputs = model(inputs)\n",
    "        # Compute loss\n",
    "        loss = loss_fn(outputs, targets)\n",
    "        # Backward pass and optimization\n",
    "        loss.backward()\n",
    "        optimizer.step()\n",
    "        # Update cumulative loss\n",
    "        training_loss += loss.item() * inputs.size(0)\n",
    "        # Compute correct predictions\n",
    "        predictions = torch.argmax(outputs, dim=1)\n",
    "        correct += (predictions == targets).sum().item()\n",
    "        total += targets.size(0)\n",
    "    # Compute average loss & accuracy\n",
    "    avg_loss = training_loss / len(data_loader.dataset)\n",
    "    train_accuracy = correct / total\n",
    "    return avg_loss, train_accuracy"
   ]
  },
  {
   "cell_type": "code",
   "execution_count": 17,
   "id": "71ecb0a6",
   "metadata": {
    "execution": {
     "iopub.execute_input": "2025-02-28T22:04:03.218647Z",
     "iopub.status.busy": "2025-02-28T22:04:03.218314Z",
     "iopub.status.idle": "2025-02-28T22:04:03.223317Z",
     "shell.execute_reply": "2025-02-28T22:04:03.222416Z"
    },
    "papermill": {
     "duration": 0.050727,
     "end_time": "2025-02-28T22:04:03.224636",
     "exception": false,
     "start_time": "2025-02-28T22:04:03.173909",
     "status": "completed"
    },
    "tags": []
   },
   "outputs": [],
   "source": [
    "# Step 7: Prediction Function\n",
    "def predict(model, data_loader,device):\n",
    "    # This tensor will store all of the predictions.\n",
    "    all_probs = torch.tensor([],device=device)\n",
    "    # We set the model to evaluation mode. This mode is the opposite of\n",
    "    # train mode we set in the train_epoch function.\n",
    "    model.eval()\n",
    "    # Since we're not training, we don't need any gradient calculations.\n",
    "    # This tells PyTorch not to calculate any gradients, which speeds up\n",
    "    # some calculations.\n",
    "    with torch.no_grad():\n",
    "        # Again, we iterate over the batches in the data loader and feed\n",
    "        # them into the model for the forward pass.\n",
    "        for inputs, targets in tqdm(data_loader, desc=\"Predicting\", leave=False):\n",
    "            # add inputs to same device\n",
    "            inputs = inputs.to(device)\n",
    "            output = model(inputs)\n",
    "            # The model produces the logits.  This softmax function turns the\n",
    "            # logits into probabilities.  These probabilities are concatenated\n",
    "            # into the `all_probs` tensor.\n",
    "            probs = F.softmax(output, dim=1)\n",
    "            all_probs = torch.cat((all_probs, probs), dim=0)\n",
    "    return all_probs"
   ]
  },
  {
   "cell_type": "code",
   "execution_count": 18,
   "id": "56c19c0f",
   "metadata": {
    "execution": {
     "iopub.execute_input": "2025-02-28T22:04:03.313264Z",
     "iopub.status.busy": "2025-02-28T22:04:03.312954Z",
     "iopub.status.idle": "2025-02-28T22:04:03.317967Z",
     "shell.execute_reply": "2025-02-28T22:04:03.317279Z"
    },
    "papermill": {
     "duration": 0.050724,
     "end_time": "2025-02-28T22:04:03.319255",
     "exception": false,
     "start_time": "2025-02-28T22:04:03.268531",
     "status": "completed"
    },
    "tags": []
   },
   "outputs": [],
   "source": [
    "# Step 8: Score Function\n",
    "def score(model, data_loader, loss_fn,device):\n",
    "    # Initialize the total loss (cross entropy) and the number of correct\n",
    "    # predictions. We'll increment these values as we loop through the\n",
    "    # data.\n",
    "    total_loss = 0\n",
    "    total_correct = 0\n",
    "    # We set the model to evaluation mode. This mode is the opposite of\n",
    "    # train mode we set in the train_epoch function.\n",
    "    #model.eval()\n",
    "    # Since we're not training, we don't need any gradient calculations.\n",
    "    # This tells PyTorch not to calculate any gradients, which speeds up\n",
    "    # some calculations.\n",
    "    with torch.no_grad():\n",
    "        # We iterate over the batches in the data loader and feed\n",
    "        # them into the model for the forward pass.\n",
    "        for inputs, targets in tqdm(data_loader, desc=\"Scoring\", leave=False):\n",
    "            # add inputs and targets to same device\n",
    "            inputs = inputs.to(device)\n",
    "            targets = targets.to(device)\n",
    "            output = model(inputs)\n",
    "            # Calculating the loss function for this batch\n",
    "            loss = loss_fn(output, targets)\n",
    "            total_loss += loss.data.item() * inputs.size(0)\n",
    "            # Calculating the correct predictions for this batch\n",
    "            correct = torch.eq(torch.argmax(output, dim=1), targets)\n",
    "            total_correct += torch.sum(correct).item()\n",
    "    return total_loss / len(data_loader.dataset), total_correct / len(\n",
    "        data_loader.dataset\n",
    "    )"
   ]
  },
  {
   "cell_type": "code",
   "execution_count": 19,
   "id": "a402a7f2",
   "metadata": {
    "execution": {
     "iopub.execute_input": "2025-02-28T22:04:03.407859Z",
     "iopub.status.busy": "2025-02-28T22:04:03.407549Z",
     "iopub.status.idle": "2025-02-28T22:04:03.413083Z",
     "shell.execute_reply": "2025-02-28T22:04:03.412378Z"
    },
    "papermill": {
     "duration": 0.051174,
     "end_time": "2025-02-28T22:04:03.414404",
     "exception": false,
     "start_time": "2025-02-28T22:04:03.363230",
     "status": "completed"
    },
    "tags": []
   },
   "outputs": [],
   "source": [
    "# Step 6: Combine all Training Function\n",
    "def train_model(model, train_loader, val_loader, optimizer, criterion, scheduler, epochs=10, device=\"cuda\"):\n",
    "    \"\"\"\n",
    "    Trains the model and evaluates on validation set after each epoch.\n",
    "    Returns:\n",
    "        pd.DataFrame with training loss, validation loss, training accuracy, validation accuracy, and LR.\n",
    "    \"\"\"\n",
    "    # Initialize early stopping & learning rate scheduler\n",
    "    callback = Callback(patience=5, min_delta=0.001, lr_scheduler=scheduler, lr_patience=2)\n",
    "    # Store results\n",
    "    results = pd.DataFrame(columns=['Epoch', 'Train Loss', 'Train Acc', 'Val Loss', 'Val Acc', 'LR'])\n",
    "    for epoch in range(1, epochs + 1):\n",
    "        # Train for one epoch\n",
    "        train_loss, train_acc = train_epoch(model, optimizer, criterion, train_loader, device)\n",
    "        # Evaluate on validation set\n",
    "        val_loss, val_accuracy = score(model, val_loader, criterion, device)\n",
    "        # Get current learning rate\n",
    "        current_lr = optimizer.param_groups[0]['lr']\n",
    "        # Store results\n",
    "        results.loc[epoch] = [epoch, train_loss, train_acc, val_loss, val_accuracy, current_lr]\n",
    "        # Print epoch summary\n",
    "        print(f\"Epoch {epoch}/{epochs}: Train Loss = {train_loss:.4f}, Train Acc = {train_acc:.4%}, \"\n",
    "              f\"Val Loss = {val_loss:.4f}, Val Acc = {val_accuracy:.4%}, LR = {current_lr:.6f}\")\n",
    "        # Apply early stopping and learning rate scheduler\n",
    "        callback.on_epoch_end(val_loss, model, optimizer)\n",
    "        if callback.early_stop:\n",
    "            print(f\"Early stopping triggered at epoch {epoch}\")\n",
    "            break\n",
    "    return results        "
   ]
  },
  {
   "cell_type": "code",
   "execution_count": 20,
   "id": "71c8b544",
   "metadata": {
    "execution": {
     "iopub.execute_input": "2025-02-28T22:04:03.505347Z",
     "iopub.status.busy": "2025-02-28T22:04:03.505007Z",
     "iopub.status.idle": "2025-02-28T22:04:04.647894Z",
     "shell.execute_reply": "2025-02-28T22:04:04.647116Z"
    },
    "papermill": {
     "duration": 1.189551,
     "end_time": "2025-02-28T22:04:04.649282",
     "exception": false,
     "start_time": "2025-02-28T22:04:03.459731",
     "status": "completed"
    },
    "tags": []
   },
   "outputs": [
    {
     "data": {
      "text/plain": [
       "SentimentLSTM(\n",
       "  (embedding): Embedding(978029, 128)\n",
       "  (lstm): LSTM(128, 64, num_layers=3, batch_first=True, bidirectional=True)\n",
       "  (batch_norm): BatchNorm1d(128, eps=1e-05, momentum=0.1, affine=True, track_running_stats=True)\n",
       "  (dropout): Dropout(p=0.3, inplace=False)\n",
       "  (fc): Linear(in_features=128, out_features=2, bias=True)\n",
       ")"
      ]
     },
     "execution_count": 20,
     "metadata": {},
     "output_type": "execute_result"
    }
   ],
   "source": [
    "# Initialize model\n",
    "vocab_size = len(vocab)\n",
    "model = SentimentLSTM(vocab_size=vocab_size,\n",
    "                     embedding_dim=128,\n",
    "                     hidden_dim=64,\n",
    "                     output_dim=2,\n",
    "                     n_layers=3)\n",
    "model"
   ]
  },
  {
   "cell_type": "code",
   "execution_count": 21,
   "id": "fa1de25f",
   "metadata": {
    "execution": {
     "iopub.execute_input": "2025-02-28T22:04:04.740921Z",
     "iopub.status.busy": "2025-02-28T22:04:04.740522Z",
     "iopub.status.idle": "2025-02-28T22:04:04.820297Z",
     "shell.execute_reply": "2025-02-28T22:04:04.819543Z"
    },
    "papermill": {
     "duration": 0.127698,
     "end_time": "2025-02-28T22:04:04.821657",
     "exception": false,
     "start_time": "2025-02-28T22:04:04.693959",
     "status": "completed"
    },
    "tags": []
   },
   "outputs": [
    {
     "data": {
      "text/plain": [
       "=================================================================\n",
       "Layer (type:depth-idx)                   Param #\n",
       "=================================================================\n",
       "SentimentLSTM                            --\n",
       "├─Embedding: 1-1                         125,187,712\n",
       "├─LSTM: 1-2                              297,984\n",
       "├─BatchNorm1d: 1-3                       256\n",
       "├─Dropout: 1-4                           --\n",
       "├─Linear: 1-5                            258\n",
       "=================================================================\n",
       "Total params: 125,486,210\n",
       "Trainable params: 125,486,210\n",
       "Non-trainable params: 0\n",
       "================================================================="
      ]
     },
     "execution_count": 21,
     "metadata": {},
     "output_type": "execute_result"
    }
   ],
   "source": [
    "summary(model)"
   ]
  },
  {
   "cell_type": "code",
   "execution_count": 22,
   "id": "c3e74bbd",
   "metadata": {
    "execution": {
     "iopub.execute_input": "2025-02-28T22:04:04.913711Z",
     "iopub.status.busy": "2025-02-28T22:04:04.913390Z",
     "iopub.status.idle": "2025-02-28T22:04:08.322209Z",
     "shell.execute_reply": "2025-02-28T22:04:08.321307Z"
    },
    "papermill": {
     "duration": 3.457121,
     "end_time": "2025-02-28T22:04:08.323614",
     "exception": false,
     "start_time": "2025-02-28T22:04:04.866493",
     "status": "completed"
    },
    "tags": []
   },
   "outputs": [
    {
     "data": {
      "text/plain": [
       "SentimentLSTM(\n",
       "  (embedding): Embedding(978029, 128)\n",
       "  (lstm): LSTM(128, 64, num_layers=3, batch_first=True, bidirectional=True)\n",
       "  (batch_norm): BatchNorm1d(128, eps=1e-05, momentum=0.1, affine=True, track_running_stats=True)\n",
       "  (dropout): Dropout(p=0.3, inplace=False)\n",
       "  (fc): Linear(in_features=128, out_features=2, bias=True)\n",
       ")"
      ]
     },
     "execution_count": 22,
     "metadata": {},
     "output_type": "execute_result"
    }
   ],
   "source": [
    "optimizer = torch.optim.Adam(model.parameters(), lr=0.001)\n",
    "criterion = nn.CrossEntropyLoss()\n",
    "lr_scheduler = ReduceLROnPlateau(optimizer, mode='min', factor=0.1, patience=2, verbose=True)\n",
    "device = torch.device(\"cuda\" if torch.cuda.is_available() else \"cpu\")\n",
    "model.to(device)"
   ]
  },
  {
   "cell_type": "code",
   "execution_count": 23,
   "id": "72d1642e",
   "metadata": {
    "execution": {
     "iopub.execute_input": "2025-02-28T22:04:08.419171Z",
     "iopub.status.busy": "2025-02-28T22:04:08.418638Z",
     "iopub.status.idle": "2025-02-28T22:30:56.828758Z",
     "shell.execute_reply": "2025-02-28T22:30:56.827743Z"
    },
    "papermill": {
     "duration": 1608.460834,
     "end_time": "2025-02-28T22:30:56.830000",
     "exception": false,
     "start_time": "2025-02-28T22:04:08.369166",
     "status": "completed"
    },
    "tags": []
   },
   "outputs": [
    {
     "name": "stderr",
     "output_type": "stream",
     "text": [
      "                                                             \r"
     ]
    },
    {
     "name": "stdout",
     "output_type": "stream",
     "text": [
      "Epoch 1/20: Train Loss = 0.3306, Train Acc = 85.5367%, Val Loss = 0.2533, Val Acc = 89.9182%, LR = 0.001000\n",
      "Best model saved with validation loss: 0.2533\n"
     ]
    },
    {
     "name": "stderr",
     "output_type": "stream",
     "text": [
      "                                                             \r"
     ]
    },
    {
     "name": "stdout",
     "output_type": "stream",
     "text": [
      "Epoch 2/20: Train Loss = 0.1939, Train Acc = 92.6670%, Val Loss = 0.2458, Val Acc = 90.5364%, LR = 0.001000\n",
      "Best model saved with validation loss: 0.2458\n"
     ]
    },
    {
     "name": "stderr",
     "output_type": "stream",
     "text": [
      "                                                             \r"
     ]
    },
    {
     "name": "stdout",
     "output_type": "stream",
     "text": [
      "Epoch 3/20: Train Loss = 0.1163, Train Acc = 96.0379%, Val Loss = 0.2829, Val Acc = 90.3091%, LR = 0.001000\n"
     ]
    },
    {
     "name": "stderr",
     "output_type": "stream",
     "text": [
      "                                                             \r"
     ]
    },
    {
     "name": "stdout",
     "output_type": "stream",
     "text": [
      "Epoch 4/20: Train Loss = 0.0662, Train Acc = 97.9451%, Val Loss = 0.3673, Val Acc = 89.8545%, LR = 0.001000\n"
     ]
    },
    {
     "name": "stderr",
     "output_type": "stream",
     "text": [
      "                                                             \r"
     ]
    },
    {
     "name": "stdout",
     "output_type": "stream",
     "text": [
      "Epoch 5/20: Train Loss = 0.0424, Train Acc = 98.7837%, Val Loss = 0.4300, Val Acc = 89.4909%, LR = 0.001000\n"
     ]
    },
    {
     "name": "stderr",
     "output_type": "stream",
     "text": [
      "                                                             \r"
     ]
    },
    {
     "name": "stdout",
     "output_type": "stream",
     "text": [
      "Epoch 6/20: Train Loss = 0.0314, Train Acc = 99.1049%, Val Loss = 0.4754, Val Acc = 89.4455%, LR = 0.001000\n"
     ]
    },
    {
     "name": "stderr",
     "output_type": "stream",
     "text": [
      "                                                             "
     ]
    },
    {
     "name": "stdout",
     "output_type": "stream",
     "text": [
      "Epoch 7/20: Train Loss = 0.0264, Train Acc = 99.2496%, Val Loss = 0.4669, Val Acc = 89.6636%, LR = 0.001000\n",
      "Early stopping triggered at epoch 7\n"
     ]
    },
    {
     "name": "stderr",
     "output_type": "stream",
     "text": [
      "\r"
     ]
    }
   ],
   "source": [
    "# Train model\n",
    "results = train_model(model, train_loader, val_loader, optimizer, criterion, lr_scheduler, epochs=20, device=device)"
   ]
  },
  {
   "cell_type": "code",
   "execution_count": 24,
   "id": "f4155aca",
   "metadata": {
    "execution": {
     "iopub.execute_input": "2025-02-28T22:30:58.347859Z",
     "iopub.status.busy": "2025-02-28T22:30:58.347535Z",
     "iopub.status.idle": "2025-02-28T22:30:58.353432Z",
     "shell.execute_reply": "2025-02-28T22:30:58.352530Z"
    },
    "papermill": {
     "duration": 0.791409,
     "end_time": "2025-02-28T22:30:58.354842",
     "exception": false,
     "start_time": "2025-02-28T22:30:57.563433",
     "status": "completed"
    },
    "tags": []
   },
   "outputs": [],
   "source": [
    "# After the training loop, plot the results\n",
    "def plot_results(results):\n",
    "    # Set a dark background style\n",
    "    plt.style.use('dark_background')\n",
    "    # Create subplots for training and validation losses and accuracy\n",
    "    fig, ax = plt.subplots(1, 2, figsize=(14, 6))\n",
    "    # Plot training and validation losses\n",
    "    ax[0].plot(results['Epoch'], results['Train Loss'], label='Training Loss')\n",
    "    ax[0].plot(results['Epoch'], results['Val Loss'], label='Validation Loss')\n",
    "    ax[0].set_title('Losses Over Epochs')\n",
    "    ax[0].set_xlabel('Epoch')\n",
    "    ax[0].set_ylabel('Loss')\n",
    "    ax[0].legend()\n",
    "    # Plot validation accuracy\n",
    "    ax[1].plot(results['Epoch'], results['Train Acc'], label='Training Accuracy')\n",
    "    ax[1].plot(results['Epoch'], results['Val Acc'], label='Validation Accuracy')\n",
    "    ax[1].set_title('Accuracy Over Epochs')\n",
    "    ax[1].set_xlabel('Epoch')\n",
    "    ax[1].set_ylabel('Accuracy')\n",
    "    ax[1].legend()\n",
    "    # Show the plots\n",
    "    plt.tight_layout()\n",
    "    plt.show()"
   ]
  },
  {
   "cell_type": "code",
   "execution_count": 25,
   "id": "c61531e4",
   "metadata": {
    "execution": {
     "iopub.execute_input": "2025-02-28T22:30:59.985594Z",
     "iopub.status.busy": "2025-02-28T22:30:59.985255Z",
     "iopub.status.idle": "2025-02-28T22:30:59.997622Z",
     "shell.execute_reply": "2025-02-28T22:30:59.996790Z"
    },
    "papermill": {
     "duration": 0.848787,
     "end_time": "2025-02-28T22:30:59.998978",
     "exception": false,
     "start_time": "2025-02-28T22:30:59.150191",
     "status": "completed"
    },
    "tags": []
   },
   "outputs": [
    {
     "data": {
      "text/html": [
       "<div>\n",
       "<style scoped>\n",
       "    .dataframe tbody tr th:only-of-type {\n",
       "        vertical-align: middle;\n",
       "    }\n",
       "\n",
       "    .dataframe tbody tr th {\n",
       "        vertical-align: top;\n",
       "    }\n",
       "\n",
       "    .dataframe thead th {\n",
       "        text-align: right;\n",
       "    }\n",
       "</style>\n",
       "<table border=\"1\" class=\"dataframe\">\n",
       "  <thead>\n",
       "    <tr style=\"text-align: right;\">\n",
       "      <th></th>\n",
       "      <th>Epoch</th>\n",
       "      <th>Train Loss</th>\n",
       "      <th>Train Acc</th>\n",
       "      <th>Val Loss</th>\n",
       "      <th>Val Acc</th>\n",
       "      <th>LR</th>\n",
       "    </tr>\n",
       "  </thead>\n",
       "  <tbody>\n",
       "    <tr>\n",
       "      <th>1</th>\n",
       "      <td>1.0</td>\n",
       "      <td>0.330559</td>\n",
       "      <td>0.855367</td>\n",
       "      <td>0.253285</td>\n",
       "      <td>0.899182</td>\n",
       "      <td>0.001</td>\n",
       "    </tr>\n",
       "    <tr>\n",
       "      <th>2</th>\n",
       "      <td>2.0</td>\n",
       "      <td>0.193855</td>\n",
       "      <td>0.926670</td>\n",
       "      <td>0.245825</td>\n",
       "      <td>0.905364</td>\n",
       "      <td>0.001</td>\n",
       "    </tr>\n",
       "    <tr>\n",
       "      <th>3</th>\n",
       "      <td>3.0</td>\n",
       "      <td>0.116292</td>\n",
       "      <td>0.960379</td>\n",
       "      <td>0.282890</td>\n",
       "      <td>0.903091</td>\n",
       "      <td>0.001</td>\n",
       "    </tr>\n",
       "    <tr>\n",
       "      <th>4</th>\n",
       "      <td>4.0</td>\n",
       "      <td>0.066245</td>\n",
       "      <td>0.979451</td>\n",
       "      <td>0.367319</td>\n",
       "      <td>0.898545</td>\n",
       "      <td>0.001</td>\n",
       "    </tr>\n",
       "    <tr>\n",
       "      <th>5</th>\n",
       "      <td>5.0</td>\n",
       "      <td>0.042372</td>\n",
       "      <td>0.987837</td>\n",
       "      <td>0.429984</td>\n",
       "      <td>0.894909</td>\n",
       "      <td>0.001</td>\n",
       "    </tr>\n",
       "    <tr>\n",
       "      <th>6</th>\n",
       "      <td>6.0</td>\n",
       "      <td>0.031423</td>\n",
       "      <td>0.991049</td>\n",
       "      <td>0.475439</td>\n",
       "      <td>0.894455</td>\n",
       "      <td>0.001</td>\n",
       "    </tr>\n",
       "    <tr>\n",
       "      <th>7</th>\n",
       "      <td>7.0</td>\n",
       "      <td>0.026439</td>\n",
       "      <td>0.992496</td>\n",
       "      <td>0.466938</td>\n",
       "      <td>0.896636</td>\n",
       "      <td>0.001</td>\n",
       "    </tr>\n",
       "  </tbody>\n",
       "</table>\n",
       "</div>"
      ],
      "text/plain": [
       "   Epoch  Train Loss  Train Acc  Val Loss   Val Acc     LR\n",
       "1    1.0    0.330559   0.855367  0.253285  0.899182  0.001\n",
       "2    2.0    0.193855   0.926670  0.245825  0.905364  0.001\n",
       "3    3.0    0.116292   0.960379  0.282890  0.903091  0.001\n",
       "4    4.0    0.066245   0.979451  0.367319  0.898545  0.001\n",
       "5    5.0    0.042372   0.987837  0.429984  0.894909  0.001\n",
       "6    6.0    0.031423   0.991049  0.475439  0.894455  0.001\n",
       "7    7.0    0.026439   0.992496  0.466938  0.896636  0.001"
      ]
     },
     "execution_count": 25,
     "metadata": {},
     "output_type": "execute_result"
    }
   ],
   "source": [
    "results"
   ]
  },
  {
   "cell_type": "code",
   "execution_count": 26,
   "id": "0b72926f",
   "metadata": {
    "execution": {
     "iopub.execute_input": "2025-02-28T22:31:01.572350Z",
     "iopub.status.busy": "2025-02-28T22:31:01.571969Z",
     "iopub.status.idle": "2025-02-28T22:31:02.124994Z",
     "shell.execute_reply": "2025-02-28T22:31:02.124161Z"
    },
    "papermill": {
     "duration": 1.346809,
     "end_time": "2025-02-28T22:31:02.126767",
     "exception": false,
     "start_time": "2025-02-28T22:31:00.779958",
     "status": "completed"
    },
    "tags": []
   },
   "outputs": [
    {
     "data": {
      "image/png": "[encoded data removed]",
      "text/plain": [
       "<Figure size 1400x600 with 2 Axes>"
      ]
     },
     "metadata": {},
     "output_type": "display_data"
    }
   ],
   "source": [
    "plot_results(results)"
   ]
  },
  {
   "cell_type": "code",
   "execution_count": 27,
   "id": "4a9fbc47",
   "metadata": {
    "execution": {
     "iopub.execute_input": "2025-02-28T22:31:03.631538Z",
     "iopub.status.busy": "2025-02-28T22:31:03.631226Z",
     "iopub.status.idle": "2025-02-28T22:31:04.139732Z",
     "shell.execute_reply": "2025-02-28T22:31:04.138872Z"
    },
    "papermill": {
     "duration": 1.232073,
     "end_time": "2025-02-28T22:31:04.141164",
     "exception": false,
     "start_time": "2025-02-28T22:31:02.909091",
     "status": "completed"
    },
    "tags": []
   },
   "outputs": [
    {
     "data": {
      "text/plain": [
       "SentimentLSTM(\n",
       "  (embedding): Embedding(978029, 128)\n",
       "  (lstm): LSTM(128, 64, num_layers=3, batch_first=True, bidirectional=True)\n",
       "  (batch_norm): BatchNorm1d(128, eps=1e-05, momentum=0.1, affine=True, track_running_stats=True)\n",
       "  (dropout): Dropout(p=0.3, inplace=False)\n",
       "  (fc): Linear(in_features=128, out_features=2, bias=True)\n",
       ")"
      ]
     },
     "execution_count": 27,
     "metadata": {},
     "output_type": "execute_result"
    }
   ],
   "source": [
    "model = torch.load('best_model.pth',weights_only=False)\n",
    "model.to(device)"
   ]
  },
  {
   "cell_type": "code",
   "execution_count": 28,
   "id": "4d6ab1f4",
   "metadata": {
    "execution": {
     "iopub.execute_input": "2025-02-28T22:31:05.736579Z",
     "iopub.status.busy": "2025-02-28T22:31:05.736241Z",
     "iopub.status.idle": "2025-02-28T22:31:10.883340Z",
     "shell.execute_reply": "2025-02-28T22:31:10.882333Z"
    },
    "papermill": {
     "duration": 5.949935,
     "end_time": "2025-02-28T22:31:10.884890",
     "exception": false,
     "start_time": "2025-02-28T22:31:04.934955",
     "status": "completed"
    },
    "tags": []
   },
   "outputs": [
    {
     "name": "stderr",
     "output_type": "stream",
     "text": [
      "                                                             "
     ]
    },
    {
     "name": "stdout",
     "output_type": "stream",
     "text": [
      "Testing Loss: 0.2444, Testing Accuracy: 0.9063\n"
     ]
    },
    {
     "name": "stderr",
     "output_type": "stream",
     "text": [
      "\r"
     ]
    }
   ],
   "source": [
    "### Make a Score for each text in the validation set.\n",
    "test_loss, test_accuracy = score(model, test_loader, criterion,device)\n",
    "# Print out the results\n",
    "print(f\"Testing Loss: {test_loss:.4f}, Testing Accuracy: {test_accuracy:.4f}\")"
   ]
  },
  {
   "cell_type": "code",
   "execution_count": 29,
   "id": "4a30ae1c",
   "metadata": {
    "execution": {
     "iopub.execute_input": "2025-02-28T22:31:12.512291Z",
     "iopub.status.busy": "2025-02-28T22:31:12.511935Z",
     "iopub.status.idle": "2025-02-28T22:31:16.414741Z",
     "shell.execute_reply": "2025-02-28T22:31:16.413689Z"
    },
    "papermill": {
     "duration": 4.736175,
     "end_time": "2025-02-28T22:31:16.416413",
     "exception": false,
     "start_time": "2025-02-28T22:31:11.680238",
     "status": "completed"
    },
    "tags": []
   },
   "outputs": [
    {
     "name": "stderr",
     "output_type": "stream",
     "text": [
      "                                                                "
     ]
    },
    {
     "name": "stdout",
     "output_type": "stream",
     "text": [
      "tensor([1, 0, 0, 1, 0, 1, 0, 1, 1, 1], device='cuda:0')\n"
     ]
    },
    {
     "name": "stderr",
     "output_type": "stream",
     "text": [
      "\r"
     ]
    }
   ],
   "source": [
    "### Make a prediction for each text in the validation set.\n",
    "probabilities_test = predict(model, test_loader,device)\n",
    "predictions_test = torch.argmax(probabilities_test, dim=1)\n",
    "print(predictions_test[:10])"
   ]
  },
  {
   "cell_type": "code",
   "execution_count": 30,
   "id": "66878539",
   "metadata": {
    "execution": {
     "iopub.execute_input": "2025-02-28T22:31:18.129443Z",
     "iopub.status.busy": "2025-02-28T22:31:18.129029Z",
     "iopub.status.idle": "2025-02-28T22:31:21.055789Z",
     "shell.execute_reply": "2025-02-28T22:31:21.054877Z"
    },
    "papermill": {
     "duration": 3.822706,
     "end_time": "2025-02-28T22:31:21.057311",
     "exception": false,
     "start_time": "2025-02-28T22:31:17.234605",
     "status": "completed"
    },
    "tags": []
   },
   "outputs": [
    {
     "name": "stderr",
     "output_type": "stream",
     "text": [
      "Testing Labels: 100%|██████████| 1032/1032 [00:02<00:00, 354.16it/s]\n"
     ]
    },
    {
     "data": {
      "text/plain": [
       "tensor([1, 0, 0, 1, 0, 1, 0, 1, 1, 0])"
      ]
     },
     "execution_count": 30,
     "metadata": {},
     "output_type": "execute_result"
    }
   ],
   "source": [
    "test_labels = torch.cat([labels for _, labels in tqdm(test_loader,desc=\"Testing Labels\")], dim=0)\n",
    "test_labels[:10]"
   ]
  },
  {
   "cell_type": "code",
   "execution_count": 31,
   "id": "ce5fad20",
   "metadata": {
    "execution": {
     "iopub.execute_input": "2025-02-28T22:31:22.731754Z",
     "iopub.status.busy": "2025-02-28T22:31:22.731302Z",
     "iopub.status.idle": "2025-02-28T22:31:22.968235Z",
     "shell.execute_reply": "2025-02-28T22:31:22.967180Z"
    },
    "papermill": {
     "duration": 1.055498,
     "end_time": "2025-02-28T22:31:22.969908",
     "exception": false,
     "start_time": "2025-02-28T22:31:21.914410",
     "status": "completed"
    },
    "tags": []
   },
   "outputs": [
    {
     "data": {
      "image/png": "[encoded data removed]",
      "text/plain": [
       "<Figure size 600x500 with 2 Axes>"
      ]
     },
     "metadata": {},
     "output_type": "display_data"
    }
   ],
   "source": [
    "# Generate confusion matrix\n",
    "conf_matrix = confusion_matrix(test_labels.numpy(), predictions_test.cpu().numpy())\n",
    "plt.figure(figsize=(6, 5))\n",
    "sns.heatmap(conf_matrix, annot=True, fmt=\"d\", cmap=\"Blues\",\n",
    "            xticklabels=['Negative', 'Positive'], \n",
    "            yticklabels=['Negative', 'Positive'])\n",
    "plt.title('Confusion Matrix')\n",
    "plt.xlabel('Predicted')\n",
    "plt.ylabel('True')\n",
    "plt.show()"
   ]
  },
  {
   "cell_type": "code",
   "execution_count": 32,
   "id": "f49753b6",
   "metadata": {
    "execution": {
     "iopub.execute_input": "2025-02-28T22:31:24.666770Z",
     "iopub.status.busy": "2025-02-28T22:31:24.666467Z",
     "iopub.status.idle": "2025-02-28T22:31:24.689373Z",
     "shell.execute_reply": "2025-02-28T22:31:24.688453Z"
    },
    "papermill": {
     "duration": 0.84792,
     "end_time": "2025-02-28T22:31:24.690720",
     "exception": false,
     "start_time": "2025-02-28T22:31:23.842800",
     "status": "completed"
    },
    "tags": []
   },
   "outputs": [
    {
     "name": "stdout",
     "output_type": "stream",
     "text": [
      "Classification Report :\n",
      "               precision    recall  f1-score   support\n",
      "\n",
      "    Negative       0.91      0.91      0.91     16260\n",
      "    Positive       0.91      0.91      0.91     16740\n",
      "\n",
      "    accuracy                           0.91     33000\n",
      "   macro avg       0.91      0.91      0.91     33000\n",
      "weighted avg       0.91      0.91      0.91     33000\n",
      "\n"
     ]
    }
   ],
   "source": [
    "report = classification_report(test_labels.numpy(), predictions_test.cpu().numpy(), target_names=['Negative', 'Positive'])\n",
    "print(\"Classification Report :\\n\",report)"
   ]
  },
  {
   "cell_type": "code",
   "execution_count": 33,
   "id": "7adc8ce2",
   "metadata": {
    "execution": {
     "iopub.execute_input": "2025-02-28T22:31:26.211906Z",
     "iopub.status.busy": "2025-02-28T22:31:26.211596Z",
     "iopub.status.idle": "2025-02-28T22:31:26.216826Z",
     "shell.execute_reply": "2025-02-28T22:31:26.216046Z"
    },
    "papermill": {
     "duration": 0.795553,
     "end_time": "2025-02-28T22:31:26.218113",
     "exception": false,
     "start_time": "2025-02-28T22:31:25.422560",
     "status": "completed"
    },
    "tags": []
   },
   "outputs": [],
   "source": [
    "def test_example(model, text, vocab, device):\n",
    "    model.eval()  \n",
    "    tokens = preprocess_arabic_text(text) \n",
    "    numericalized_text = [vocab[word] if word in vocab else 0 for word in tokens] \n",
    "    input_tensor = torch.tensor(numericalized_text, dtype=torch.long).unsqueeze(0).to(device) \n",
    "    with torch.no_grad():\n",
    "        output = model(input_tensor)\n",
    "        probs = F.softmax(output, dim=1)\n",
    "        prediction = torch.argmax(probs, dim=1).item()\n",
    "    labels = ['Negative', 'Positive']\n",
    "    return labels[prediction], probs.cpu().numpy()"
   ]
  },
  {
   "cell_type": "code",
   "execution_count": 34,
   "id": "a983cdf0",
   "metadata": {
    "execution": {
     "iopub.execute_input": "2025-02-28T22:31:27.740761Z",
     "iopub.status.busy": "2025-02-28T22:31:27.740258Z",
     "iopub.status.idle": "2025-02-28T22:31:27.751864Z",
     "shell.execute_reply": "2025-02-28T22:31:27.750858Z"
    },
    "papermill": {
     "duration": 0.745726,
     "end_time": "2025-02-28T22:31:27.753186",
     "exception": false,
     "start_time": "2025-02-28T22:31:27.007460",
     "status": "completed"
    },
    "tags": []
   },
   "outputs": [
    {
     "name": "stdout",
     "output_type": "stream",
     "text": [
      "🔹 التوقع: Positive\n",
      "📊 الاحتمالات: [[0.03644883 0.96355116]]\n"
     ]
    }
   ],
   "source": [
    "example_text = \"هذا المنتج رائع جدًا وأحببته كثيرًا\"\n",
    "predicted_label, probabilities = test_example(model, example_text, vocab, device)\n",
    "print(f\"🔹 التوقع: {predicted_label}\")\n",
    "print(f\"📊 الاحتمالات: {probabilities}\")"
   ]
  },
  {
   "cell_type": "code",
   "execution_count": 35,
   "id": "9100df77",
   "metadata": {
    "_kg_hide-input": false,
    "execution": {
     "iopub.execute_input": "2025-02-28T22:31:29.382517Z",
     "iopub.status.busy": "2025-02-28T22:31:29.382218Z",
     "iopub.status.idle": "2025-02-28T22:31:29.389193Z",
     "shell.execute_reply": "2025-02-28T22:31:29.388128Z"
    },
    "papermill": {
     "duration": 0.839012,
     "end_time": "2025-02-28T22:31:29.390490",
     "exception": false,
     "start_time": "2025-02-28T22:31:28.551478",
     "status": "completed"
    },
    "tags": []
   },
   "outputs": [
    {
     "name": "stdout",
     "output_type": "stream",
     "text": [
      "🔹 التوقع: Negative\n",
      "📊 الاحتمالات: [[0.96786267 0.0321373 ]]\n"
     ]
    }
   ],
   "source": [
    "example_text = \"الخدمة كانت سيئة جدًا والتعامل غير احترافي\"\n",
    "predicted_label, probabilities = test_example(model, example_text, vocab, device)\n",
    "print(f\"🔹 التوقع: {predicted_label}\")\n",
    "print(f\"📊 الاحتمالات: {probabilities}\")"
   ]
  }
 ],
 "metadata": {
  "kaggle": {
   "accelerator": "gpu",
   "dataSources": [
    {
     "datasetId": 5577640,
     "sourceId": 9222859,
     "sourceType": "datasetVersion"
    }
   ],
   "dockerImageVersionId": 30919,
   "isGpuEnabled": true,
   "isInternetEnabled": true,
   "language": "python",
   "sourceType": "notebook"
  },
  "kernelspec": {
   "display_name": "Python 3 (ipykernel)",
   "language": "python",
   "name": "python3"
  },
  "language_info": {
   "codemirror_mode": {
    "name": "ipython",
    "version": 3
   },
   "file_extension": ".py",
   "mimetype": "text/x-python",
   "name": "python",
   "nbconvert_exporter": "python",
   "pygments_lexer": "ipython3",
   "version": "3.11.7"
  },
  "papermill": {
   "default_parameters": {},
   "duration": 1850.006766,
   "end_time": "2025-02-28T22:31:32.842208",
   "environment_variables": {},
   "exception": null,
   "input_path": "__notebook__.ipynb",
   "output_path": "__notebook__.ipynb",
   "parameters": {},
   "start_time": "2025-02-28T22:00:42.835442",
   "version": "2.6.0"
  }
 },
 "nbformat": 4,
 "nbformat_minor": 5
}
