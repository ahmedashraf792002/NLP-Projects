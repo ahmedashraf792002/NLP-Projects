{
 "cells": [
  {
   "cell_type": "markdown",
   "id": "a35d8f92",
   "metadata": {
    "papermill": {
     "duration": 0.008219,
     "end_time": "2024-09-13T00:18:46.886749",
     "exception": false,
     "start_time": "2024-09-13T00:18:46.878530",
     "status": "completed"
    },
    "tags": []
   },
   "source": [
    "<h1><b><p style=\"background-image: url(https://i.postimg.cc/0Qwf8YX6/2927262.jpg);font-family:camtasia;font-size:110%;color:white;text-align:center;border-radius:15px 50px; padding:7px; border:solid 2px #09375b; box-shadow: 10px 10px 10px #042b4c\">Project Title: Arabic Sentiment Reviews</p></b></h1>\n",
    "\n",
    "### Tabel of Contents:\n",
    "\n",
    "* [Import Libraries](#1)\n",
    "* [Load Dataset](#2)\n",
    "* [Preprocessing](#3)\n",
    "* [Sequences Model](#4)\n",
    "* [Evaluation](#5)\n",
    "* [SentimentIntensityAnalyzer](#7)\n",
    "* [Like this? Upvote and comment! 🌊 End](#6)"
   ]
  },
  {
   "cell_type": "markdown",
   "id": "deebf495",
   "metadata": {
    "papermill": {
     "duration": 0.007517,
     "end_time": "2024-09-13T00:18:46.902016",
     "exception": false,
     "start_time": "2024-09-13T00:18:46.894499",
     "status": "completed"
    },
    "tags": []
   },
   "source": [
    "**<a id=\"1\"></a>\n",
    "<h1><b><p style=\"background-image: url(https://i.postimg.cc/0Qwf8YX6/2927262.jpg);font-family:camtasia;font-size:110%;color:white;text-align:center;border-radius:15px 50px; padding:7px; border:solid 2px #09375b; box-shadow: 10px 10px 10px #042b4c\">Import Libraries</p></b></h1>\n",
    "<a class=\"btn\" href=\"#home\">Tabel of Contents</a>"
   ]
  },
  {
   "cell_type": "code",
   "execution_count": 1,
   "id": "dbf730b6",
   "metadata": {
    "execution": {
     "iopub.execute_input": "2024-09-13T00:18:46.918274Z",
     "iopub.status.busy": "2024-09-13T00:18:46.917949Z",
     "iopub.status.idle": "2024-09-13T00:19:01.310317Z",
     "shell.execute_reply": "2024-09-13T00:19:01.309480Z"
    },
    "papermill": {
     "duration": 14.403094,
     "end_time": "2024-09-13T00:19:01.312633",
     "exception": false,
     "start_time": "2024-09-13T00:18:46.909539",
     "status": "completed"
    },
    "tags": []
   },
   "outputs": [
    {
     "name": "stderr",
     "output_type": "stream",
     "text": [
      "/opt/conda/lib/python3.10/site-packages/nltk/twitter/__init__.py:20: UserWarning: The twython library has not been installed. Some functionality from the twitter package will not be available.\n",
      "  warnings.warn(\"The twython library has not been installed. \"\n"
     ]
    }
   ],
   "source": [
    "from tqdm import tqdm\n",
    "import re\n",
    "import pandas as pd\n",
    "import numpy as np\n",
    "import matplotlib.pyplot as plt\n",
    "import seaborn as sns\n",
    "from sklearn.metrics import confusion_matrix\n",
    "from sklearn.metrics import classification_report\n",
    "from sklearn.metrics import confusion_matrix,classification_report\n",
    "from sklearn.model_selection import train_test_split\n",
    "from nltk.sentiment.vader import SentimentIntensityAnalyzer\n",
    "from tensorflow.keras.preprocessing.text import Tokenizer\n",
    "from tensorflow.keras.preprocessing.sequence import pad_sequences\n",
    "from tensorflow.keras.models import Sequential\n",
    "from tensorflow.keras.layers import Dense,LSTM,Dropout,Embedding\n",
    "from keras.callbacks import ModelCheckpoint\n",
    "import warnings\n",
    "warnings.filterwarnings('ignore')"
   ]
  },
  {
   "cell_type": "markdown",
   "id": "4a449740",
   "metadata": {
    "papermill": {
     "duration": 0.007546,
     "end_time": "2024-09-13T00:19:01.328203",
     "exception": false,
     "start_time": "2024-09-13T00:19:01.320657",
     "status": "completed"
    },
    "tags": []
   },
   "source": [
    "**<a id=\"2\"></a>\n",
    "<h1><b><p style=\"background-image: url(https://i.postimg.cc/0Qwf8YX6/2927262.jpg);font-family:camtasia;font-size:110%;color:white;text-align:center;border-radius:15px 50px; padding:7px; border:solid 2px #09375b; box-shadow: 10px 10px 10px #042b4c\">Load Dataset</p></b></h1>\n",
    "<a class=\"btn\" href=\"#home\">Tabel of Contents</a>"
   ]
  },
  {
   "cell_type": "code",
   "execution_count": 2,
   "id": "d64a4b15",
   "metadata": {
    "execution": {
     "iopub.execute_input": "2024-09-13T00:19:01.345311Z",
     "iopub.status.busy": "2024-09-13T00:19:01.344172Z",
     "iopub.status.idle": "2024-09-13T00:19:06.990951Z",
     "shell.execute_reply": "2024-09-13T00:19:06.989990Z"
    },
    "papermill": {
     "duration": 5.657443,
     "end_time": "2024-09-13T00:19:06.993166",
     "exception": false,
     "start_time": "2024-09-13T00:19:01.335723",
     "status": "completed"
    },
    "tags": []
   },
   "outputs": [
    {
     "data": {
      "text/html": [
       "<div>\n",
       "<style scoped>\n",
       "    .dataframe tbody tr th:only-of-type {\n",
       "        vertical-align: middle;\n",
       "    }\n",
       "\n",
       "    .dataframe tbody tr th {\n",
       "        vertical-align: top;\n",
       "    }\n",
       "\n",
       "    .dataframe thead th {\n",
       "        text-align: right;\n",
       "    }\n",
       "</style>\n",
       "<table border=\"1\" class=\"dataframe\">\n",
       "  <thead>\n",
       "    <tr style=\"text-align: right;\">\n",
       "      <th></th>\n",
       "      <th>label</th>\n",
       "      <th>content</th>\n",
       "    </tr>\n",
       "  </thead>\n",
       "  <tbody>\n",
       "    <tr>\n",
       "      <th>0</th>\n",
       "      <td>1</td>\n",
       "      <td>النعال المريحة: أرتدي هذه النعال كثيرًا!فهي دا...</td>\n",
       "    </tr>\n",
       "    <tr>\n",
       "      <th>1</th>\n",
       "      <td>1</td>\n",
       "      <td>منتج جميل ، خدمة سيئة: لقد اشتريت زوجًا من الن...</td>\n",
       "    </tr>\n",
       "    <tr>\n",
       "      <th>2</th>\n",
       "      <td>1</td>\n",
       "      <td>جيد للأشياء الصغيرة: هذا يعمل بشكل جيد لالتقاط...</td>\n",
       "    </tr>\n",
       "    <tr>\n",
       "      <th>3</th>\n",
       "      <td>0</td>\n",
       "      <td>واهية للغاية: flimsyif للغاية ، فأنت تشتريه ، ...</td>\n",
       "    </tr>\n",
       "    <tr>\n",
       "      <th>4</th>\n",
       "      <td>1</td>\n",
       "      <td>Pop for Girls and Girly Boys ، والأشخاص الذين ...</td>\n",
       "    </tr>\n",
       "  </tbody>\n",
       "</table>\n",
       "</div>"
      ],
      "text/plain": [
       "   label                                            content\n",
       "0      1  النعال المريحة: أرتدي هذه النعال كثيرًا!فهي دا...\n",
       "1      1  منتج جميل ، خدمة سيئة: لقد اشتريت زوجًا من الن...\n",
       "2      1  جيد للأشياء الصغيرة: هذا يعمل بشكل جيد لالتقاط...\n",
       "3      0  واهية للغاية: flimsyif للغاية ، فأنت تشتريه ، ...\n",
       "4      1  Pop for Girls and Girly Boys ، والأشخاص الذين ..."
      ]
     },
     "execution_count": 2,
     "metadata": {},
     "output_type": "execute_result"
    }
   ],
   "source": [
    "dataset = pd.read_csv('/kaggle/input/330k-arabic-sentiment-reviews/arabic_sentiment_reviews.csv')\n",
    "dataset.head()"
   ]
  },
  {
   "cell_type": "code",
   "execution_count": 3,
   "id": "cc30ede0",
   "metadata": {
    "execution": {
     "iopub.execute_input": "2024-09-13T00:19:07.011045Z",
     "iopub.status.busy": "2024-09-13T00:19:07.010675Z",
     "iopub.status.idle": "2024-09-13T00:19:07.016623Z",
     "shell.execute_reply": "2024-09-13T00:19:07.015756Z"
    },
    "papermill": {
     "duration": 0.01727,
     "end_time": "2024-09-13T00:19:07.018616",
     "exception": false,
     "start_time": "2024-09-13T00:19:07.001346",
     "status": "completed"
    },
    "tags": []
   },
   "outputs": [
    {
     "data": {
      "text/plain": [
       "(330000, 2)"
      ]
     },
     "execution_count": 3,
     "metadata": {},
     "output_type": "execute_result"
    }
   ],
   "source": [
    "dataset.shape"
   ]
  },
  {
   "cell_type": "code",
   "execution_count": 4,
   "id": "a2eaf469",
   "metadata": {
    "execution": {
     "iopub.execute_input": "2024-09-13T00:19:07.035728Z",
     "iopub.status.busy": "2024-09-13T00:19:07.035459Z",
     "iopub.status.idle": "2024-09-13T00:19:07.099916Z",
     "shell.execute_reply": "2024-09-13T00:19:07.098674Z"
    },
    "papermill": {
     "duration": 0.075381,
     "end_time": "2024-09-13T00:19:07.101900",
     "exception": false,
     "start_time": "2024-09-13T00:19:07.026519",
     "status": "completed"
    },
    "tags": []
   },
   "outputs": [
    {
     "name": "stdout",
     "output_type": "stream",
     "text": [
      "<class 'pandas.core.frame.DataFrame'>\n",
      "RangeIndex: 330000 entries, 0 to 329999\n",
      "Data columns (total 2 columns):\n",
      " #   Column   Non-Null Count   Dtype \n",
      "---  ------   --------------   ----- \n",
      " 0   label    330000 non-null  int64 \n",
      " 1   content  330000 non-null  object\n",
      "dtypes: int64(1), object(1)\n",
      "memory usage: 5.0+ MB\n"
     ]
    }
   ],
   "source": [
    "dataset.info()"
   ]
  },
  {
   "cell_type": "code",
   "execution_count": 5,
   "id": "6a2a790b",
   "metadata": {
    "execution": {
     "iopub.execute_input": "2024-09-13T00:19:07.119038Z",
     "iopub.status.busy": "2024-09-13T00:19:07.118752Z",
     "iopub.status.idle": "2024-09-13T00:19:07.128995Z",
     "shell.execute_reply": "2024-09-13T00:19:07.128183Z"
    },
    "papermill": {
     "duration": 0.021035,
     "end_time": "2024-09-13T00:19:07.130954",
     "exception": false,
     "start_time": "2024-09-13T00:19:07.109919",
     "status": "completed"
    },
    "tags": []
   },
   "outputs": [
    {
     "data": {
      "text/plain": [
       "label\n",
       "1    166853\n",
       "0    163147\n",
       "Name: count, dtype: int64"
      ]
     },
     "execution_count": 5,
     "metadata": {},
     "output_type": "execute_result"
    }
   ],
   "source": [
    "dataset.label.value_counts()"
   ]
  },
  {
   "cell_type": "code",
   "execution_count": 6,
   "id": "c12460e2",
   "metadata": {
    "execution": {
     "iopub.execute_input": "2024-09-13T00:19:07.148342Z",
     "iopub.status.busy": "2024-09-13T00:19:07.148054Z",
     "iopub.status.idle": "2024-09-13T00:19:07.454865Z",
     "shell.execute_reply": "2024-09-13T00:19:07.453865Z"
    },
    "papermill": {
     "duration": 0.318029,
     "end_time": "2024-09-13T00:19:07.457296",
     "exception": false,
     "start_time": "2024-09-13T00:19:07.139267",
     "status": "completed"
    },
    "tags": []
   },
   "outputs": [
    {
     "data": {
      "image/png": "[encoded data removed]",
      "text/plain": [
       "<Figure size 640x480 with 1 Axes>"
      ]
     },
     "metadata": {},
     "output_type": "display_data"
    }
   ],
   "source": [
    "plt.style.use('dark_background')\n",
    "ax = sns.countplot(x='label', data=dataset, palette='Set1')\n",
    "plt.title('Distribution Of Target', fontsize=20)\n",
    "plt.xlabel('Target', fontsize=20)\n",
    "plt.ylabel('Count', fontsize=20)\n",
    "ax.set_xticklabels(['Negative','Positive'])\n",
    "plt.grid(True)\n",
    "plt.xticks(rotation=45)\n",
    "plt.yticks(rotation=45)\n",
    "for p in ax.patches:\n",
    "    ax.annotate(f'{p.get_height()}', (p.get_x() + p.get_width() / 2., p.get_height()), \n",
    "                ha='center', va='baseline', fontsize=12)\n",
    "plt.show()"
   ]
  },
  {
   "cell_type": "markdown",
   "id": "68f82b6b",
   "metadata": {
    "papermill": {
     "duration": 0.008899,
     "end_time": "2024-09-13T00:19:07.475482",
     "exception": false,
     "start_time": "2024-09-13T00:19:07.466583",
     "status": "completed"
    },
    "tags": []
   },
   "source": [
    "**<a id=\"3\"></a>\n",
    "<h1><b><p style=\"background-image: url(https://i.postimg.cc/0Qwf8YX6/2927262.jpg);font-family:camtasia;font-size:110%;color:white;text-align:center;border-radius:15px 50px; padding:7px; border:solid 2px #09375b; box-shadow: 10px 10px 10px #042b4c\">Preprocessing</p></b></h1>\n",
    "<a class=\"btn\" href=\"#home\">Tabel of Contents</a>"
   ]
  },
  {
   "cell_type": "code",
   "execution_count": 7,
   "id": "e978581e",
   "metadata": {
    "execution": {
     "iopub.execute_input": "2024-09-13T00:19:07.495372Z",
     "iopub.status.busy": "2024-09-13T00:19:07.494745Z",
     "iopub.status.idle": "2024-09-13T00:19:07.499651Z",
     "shell.execute_reply": "2024-09-13T00:19:07.498811Z"
    },
    "id": "ypT8KGM6d9F-",
    "papermill": {
     "duration": 0.017245,
     "end_time": "2024-09-13T00:19:07.501525",
     "exception": false,
     "start_time": "2024-09-13T00:19:07.484280",
     "status": "completed"
    },
    "tags": []
   },
   "outputs": [],
   "source": [
    "def clean_arabic_text(text):\n",
    "    # Remove non-Arabic alphabetic characters and extra whitespace\n",
    "    text = re.sub(r'[^\\u0600-\\u06FF\\s]', '', text)  # Keeps only Arabic characters and spaces\n",
    "    # Convert multiple whitespace characters to a single space\n",
    "    text = re.sub(r'\\s+', ' ', text)\n",
    "    # Remove leading and trailing spaces\n",
    "    text = text.strip()\n",
    "    return text"
   ]
  },
  {
   "cell_type": "code",
   "execution_count": 8,
   "id": "a51b9015",
   "metadata": {
    "execution": {
     "iopub.execute_input": "2024-09-13T00:19:07.520080Z",
     "iopub.status.busy": "2024-09-13T00:19:07.519785Z",
     "iopub.status.idle": "2024-09-13T00:19:07.526038Z",
     "shell.execute_reply": "2024-09-13T00:19:07.525106Z"
    },
    "id": "txEqacW4eFKe",
    "outputId": "be2efb0d-7440-4a6b-921f-b39d3fa23543",
    "papermill": {
     "duration": 0.017663,
     "end_time": "2024-09-13T00:19:07.527923",
     "exception": false,
     "start_time": "2024-09-13T00:19:07.510260",
     "status": "completed"
    },
    "tags": []
   },
   "outputs": [
    {
     "data": {
      "text/plain": [
       "(1,\n",
       " 'آمين!: أوافق على أن الحلقات التجريبية يجب تضمينها في مجموعة مربع الموسم الأول ، لا يتم تقديمها هنا بمفردها.كما أنها باهظة الثمن بعض الشيء.حتى Farscape أعطاك حلقتين لعشرة دولارات عندما بدأوا في إطلاق سراح DVD والشريط.ومع ذلك ، قد يكون تاريخ الإصدار قليلاً من أدنى فكرة عن قرص DVD ثنائي القاع.على الأرجح أنهم يحاولون صقل الأعمال التجارية للعرض قبل العرض الصيفي في السنة الثانية. كما هو الحال بالنسبة للعرض ، أعجبتني ككل.منحت ، من الواضح أنها استنساخ ستارغيت.الشخصيات هي الشخصيات التي رأيناها جميعًا من قبل ، وعندما تقارنها بالأصول الأصلية ، فإنها تأتي في المرتبة الثانية.لكن لإعادة صياغة حلقة Stargate SG-1 ، كنت سأستمع إلى رودني حتى لو كان كل ما يفعله هو قراءة دفتر الهاتف \".إنه ممتع ، ما زلت أشتري هذا ، لكن غير مستعملة فقط.')"
      ]
     },
     "execution_count": 8,
     "metadata": {},
     "output_type": "execute_result"
    }
   ],
   "source": [
    "dataset.label[50],dataset.content[50]"
   ]
  },
  {
   "cell_type": "code",
   "execution_count": 9,
   "id": "e6aa98ac",
   "metadata": {
    "execution": {
     "iopub.execute_input": "2024-09-13T00:19:07.546842Z",
     "iopub.status.busy": "2024-09-13T00:19:07.546558Z",
     "iopub.status.idle": "2024-09-13T00:19:07.552591Z",
     "shell.execute_reply": "2024-09-13T00:19:07.551887Z"
    },
    "id": "8YJznZpueIS1",
    "outputId": "6debbf34-616a-487b-f1fb-5d837add3beb",
    "papermill": {
     "duration": 0.017689,
     "end_time": "2024-09-13T00:19:07.554570",
     "exception": false,
     "start_time": "2024-09-13T00:19:07.536881",
     "status": "completed"
    },
    "tags": []
   },
   "outputs": [
    {
     "data": {
      "text/plain": [
       "(1,\n",
       " 'آمين أوافق على أن الحلقات التجريبية يجب تضمينها في مجموعة مربع الموسم الأول ، لا يتم تقديمها هنا بمفردهاكما أنها باهظة الثمن بعض الشيءحتى أعطاك حلقتين لعشرة دولارات عندما بدأوا في إطلاق سراح والشريطومع ذلك ، قد يكون تاريخ الإصدار قليلاً من أدنى فكرة عن قرص ثنائي القاععلى الأرجح أنهم يحاولون صقل الأعمال التجارية للعرض قبل العرض الصيفي في السنة الثانية كما هو الحال بالنسبة للعرض ، أعجبتني ككلمنحت ، من الواضح أنها استنساخ ستارغيتالشخصيات هي الشخصيات التي رأيناها جميعًا من قبل ، وعندما تقارنها بالأصول الأصلية ، فإنها تأتي في المرتبة الثانيةلكن لإعادة صياغة حلقة ، كنت سأستمع إلى رودني حتى لو كان كل ما يفعله هو قراءة دفتر الهاتف إنه ممتع ، ما زلت أشتري هذا ، لكن غير مستعملة فقط')"
      ]
     },
     "execution_count": 9,
     "metadata": {},
     "output_type": "execute_result"
    }
   ],
   "source": [
    "dataset.label[50],clean_arabic_text(dataset.content[50])"
   ]
  },
  {
   "cell_type": "code",
   "execution_count": 10,
   "id": "e11a340d",
   "metadata": {
    "execution": {
     "iopub.execute_input": "2024-09-13T00:19:07.573659Z",
     "iopub.status.busy": "2024-09-13T00:19:07.573397Z",
     "iopub.status.idle": "2024-09-13T00:19:24.361819Z",
     "shell.execute_reply": "2024-09-13T00:19:24.360902Z"
    },
    "id": "2pXfPwqHerNc",
    "outputId": "da864222-cd1a-4c92-8544-71eb152373c5",
    "papermill": {
     "duration": 16.800485,
     "end_time": "2024-09-13T00:19:24.364006",
     "exception": false,
     "start_time": "2024-09-13T00:19:07.563521",
     "status": "completed"
    },
    "tags": []
   },
   "outputs": [
    {
     "data": {
      "text/html": [
       "<div>\n",
       "<style scoped>\n",
       "    .dataframe tbody tr th:only-of-type {\n",
       "        vertical-align: middle;\n",
       "    }\n",
       "\n",
       "    .dataframe tbody tr th {\n",
       "        vertical-align: top;\n",
       "    }\n",
       "\n",
       "    .dataframe thead th {\n",
       "        text-align: right;\n",
       "    }\n",
       "</style>\n",
       "<table border=\"1\" class=\"dataframe\">\n",
       "  <thead>\n",
       "    <tr style=\"text-align: right;\">\n",
       "      <th></th>\n",
       "      <th>label</th>\n",
       "      <th>content</th>\n",
       "    </tr>\n",
       "  </thead>\n",
       "  <tbody>\n",
       "    <tr>\n",
       "      <th>0</th>\n",
       "      <td>1</td>\n",
       "      <td>النعال المريحة أرتدي هذه النعال كثيرًافهي دافئ...</td>\n",
       "    </tr>\n",
       "    <tr>\n",
       "      <th>1</th>\n",
       "      <td>1</td>\n",
       "      <td>منتج جميل ، خدمة سيئة لقد اشتريت زوجًا من النع...</td>\n",
       "    </tr>\n",
       "    <tr>\n",
       "      <th>2</th>\n",
       "      <td>1</td>\n",
       "      <td>جيد للأشياء الصغيرة هذا يعمل بشكل جيد لالتقاط ...</td>\n",
       "    </tr>\n",
       "    <tr>\n",
       "      <th>3</th>\n",
       "      <td>0</td>\n",
       "      <td>واهية للغاية للغاية ، فأنت تشتريه ، كن حذرًا ج...</td>\n",
       "    </tr>\n",
       "    <tr>\n",
       "      <th>4</th>\n",
       "      <td>1</td>\n",
       "      <td>، والأشخاص الذين يحبون الضحك عليك فقط أن تبتسم...</td>\n",
       "    </tr>\n",
       "  </tbody>\n",
       "</table>\n",
       "</div>"
      ],
      "text/plain": [
       "   label                                            content\n",
       "0      1  النعال المريحة أرتدي هذه النعال كثيرًافهي دافئ...\n",
       "1      1  منتج جميل ، خدمة سيئة لقد اشتريت زوجًا من النع...\n",
       "2      1  جيد للأشياء الصغيرة هذا يعمل بشكل جيد لالتقاط ...\n",
       "3      0  واهية للغاية للغاية ، فأنت تشتريه ، كن حذرًا ج...\n",
       "4      1  ، والأشخاص الذين يحبون الضحك عليك فقط أن تبتسم..."
      ]
     },
     "execution_count": 10,
     "metadata": {},
     "output_type": "execute_result"
    }
   ],
   "source": [
    "dataset.content = dataset.content.apply(clean_arabic_text)\n",
    "dataset.head()"
   ]
  },
  {
   "cell_type": "code",
   "execution_count": 11,
   "id": "c6bbb771",
   "metadata": {
    "execution": {
     "iopub.execute_input": "2024-09-13T00:19:24.384831Z",
     "iopub.status.busy": "2024-09-13T00:19:24.384129Z",
     "iopub.status.idle": "2024-09-13T00:19:58.459700Z",
     "shell.execute_reply": "2024-09-13T00:19:58.458693Z"
    },
    "id": "CEsTwSo3ewhN",
    "papermill": {
     "duration": 34.088187,
     "end_time": "2024-09-13T00:19:58.462113",
     "exception": false,
     "start_time": "2024-09-13T00:19:24.373926",
     "status": "completed"
    },
    "tags": []
   },
   "outputs": [],
   "source": [
    "### Tokeniztion & pad_sequences\n",
    "voc_size = 20000\n",
    "max_length = 200\n",
    "tokenizer = Tokenizer(num_words=voc_size)\n",
    "tokenizer.fit_on_texts(dataset.content)\n",
    "word_index = tokenizer.word_index"
   ]
  },
  {
   "cell_type": "code",
   "execution_count": 12,
   "id": "1e23b247",
   "metadata": {
    "execution": {
     "iopub.execute_input": "2024-09-13T00:19:58.482603Z",
     "iopub.status.busy": "2024-09-13T00:19:58.482278Z",
     "iopub.status.idle": "2024-09-13T00:20:27.736107Z",
     "shell.execute_reply": "2024-09-13T00:20:27.735074Z"
    },
    "id": "NsDSpMmRe8bF",
    "papermill": {
     "duration": 29.266394,
     "end_time": "2024-09-13T00:20:27.738334",
     "exception": false,
     "start_time": "2024-09-13T00:19:58.471940",
     "status": "completed"
    },
    "tags": []
   },
   "outputs": [],
   "source": [
    "train = tokenizer.texts_to_sequences(dataset.content)\n",
    "train = pad_sequences(train, maxlen=max_length)"
   ]
  },
  {
   "cell_type": "code",
   "execution_count": 13,
   "id": "55dc7fb8",
   "metadata": {
    "execution": {
     "iopub.execute_input": "2024-09-13T00:20:27.758565Z",
     "iopub.status.busy": "2024-09-13T00:20:27.758238Z",
     "iopub.status.idle": "2024-09-13T00:20:27.984403Z",
     "shell.execute_reply": "2024-09-13T00:20:27.983084Z"
    },
    "papermill": {
     "duration": 0.238906,
     "end_time": "2024-09-13T00:20:27.986812",
     "exception": false,
     "start_time": "2024-09-13T00:20:27.747906",
     "status": "completed"
    },
    "tags": []
   },
   "outputs": [
    {
     "name": "stdout",
     "output_type": "stream",
     "text": [
      "X_train shape is  (313500, 200)\n",
      "X_test shape is  (16500, 200)\n",
      "y_train shape is  (313500,)\n",
      "y_test shape is  (16500,)\n"
     ]
    }
   ],
   "source": [
    "### Split\n",
    "X_train, X_test, y_train, y_test = train_test_split(train, dataset.label, test_size=0.05, random_state=44, shuffle =True,stratify=dataset.label)\n",
    "print('X_train shape is ' , X_train.shape)\n",
    "print('X_test shape is ' , X_test.shape)\n",
    "print('y_train shape is ' , y_train.shape)\n",
    "print('y_test shape is ' , y_test.shape)"
   ]
  },
  {
   "cell_type": "markdown",
   "id": "9838d32e",
   "metadata": {
    "papermill": {
     "duration": 0.009761,
     "end_time": "2024-09-13T00:20:28.007940",
     "exception": false,
     "start_time": "2024-09-13T00:20:27.998179",
     "status": "completed"
    },
    "tags": []
   },
   "source": [
    "**<a id=\"4\"></a>\n",
    "<h1><b><p style=\"background-image: url(https://i.postimg.cc/0Qwf8YX6/2927262.jpg);font-family:camtasia;font-size:110%;color:white;text-align:center;border-radius:15px 50px; padding:7px; border:solid 2px #09375b; box-shadow: 10px 10px 10px #042b4c\">Sequences Model</p></b></h1>\n",
    "<a class=\"btn\" href=\"#home\">Tabel of Contents</a>"
   ]
  },
  {
   "cell_type": "code",
   "execution_count": 14,
   "id": "b143fcd2",
   "metadata": {
    "execution": {
     "iopub.execute_input": "2024-09-13T00:20:28.029017Z",
     "iopub.status.busy": "2024-09-13T00:20:28.028661Z",
     "iopub.status.idle": "2024-09-13T00:20:28.734636Z",
     "shell.execute_reply": "2024-09-13T00:20:28.733757Z"
    },
    "id": "X2qcZkzMfE1m",
    "outputId": "ce19ccf1-0a97-4f64-895e-83c5be04febf",
    "papermill": {
     "duration": 0.718584,
     "end_time": "2024-09-13T00:20:28.736598",
     "exception": false,
     "start_time": "2024-09-13T00:20:28.018014",
     "status": "completed"
    },
    "tags": []
   },
   "outputs": [
    {
     "data": {
      "text/html": [
       "<pre style=\"white-space:pre;overflow-x:auto;line-height:normal;font-family:Menlo,'DejaVu Sans Mono',consolas,'Courier New',monospace\"><span style=\"font-weight: bold\">Model: \"sequential\"</span>\n",
       "</pre>\n"
      ],
      "text/plain": [
       "\u001b[1mModel: \"sequential\"\u001b[0m\n"
      ]
     },
     "metadata": {},
     "output_type": "display_data"
    },
    {
     "data": {
      "text/html": [
       "<pre style=\"white-space:pre;overflow-x:auto;line-height:normal;font-family:Menlo,'DejaVu Sans Mono',consolas,'Courier New',monospace\">┏━━━━━━━━━━━━━━━━━━━━━━━━━━━━━━━━━┳━━━━━━━━━━━━━━━━━━━━━━━━┳━━━━━━━━━━━━━━━┓\n",
       "┃<span style=\"font-weight: bold\"> Layer (type)                    </span>┃<span style=\"font-weight: bold\"> Output Shape           </span>┃<span style=\"font-weight: bold\">       Param # </span>┃\n",
       "┡━━━━━━━━━━━━━━━━━━━━━━━━━━━━━━━━━╇━━━━━━━━━━━━━━━━━━━━━━━━╇━━━━━━━━━━━━━━━┩\n",
       "│ embedding (<span style=\"color: #0087ff; text-decoration-color: #0087ff\">Embedding</span>)           │ ?                      │   <span style=\"color: #00af00; text-decoration-color: #00af00\">0</span> (unbuilt) │\n",
       "├─────────────────────────────────┼────────────────────────┼───────────────┤\n",
       "│ lstm (<span style=\"color: #0087ff; text-decoration-color: #0087ff\">LSTM</span>)                     │ ?                      │   <span style=\"color: #00af00; text-decoration-color: #00af00\">0</span> (unbuilt) │\n",
       "├─────────────────────────────────┼────────────────────────┼───────────────┤\n",
       "│ dropout (<span style=\"color: #0087ff; text-decoration-color: #0087ff\">Dropout</span>)               │ ?                      │   <span style=\"color: #00af00; text-decoration-color: #00af00\">0</span> (unbuilt) │\n",
       "├─────────────────────────────────┼────────────────────────┼───────────────┤\n",
       "│ lstm_1 (<span style=\"color: #0087ff; text-decoration-color: #0087ff\">LSTM</span>)                   │ ?                      │   <span style=\"color: #00af00; text-decoration-color: #00af00\">0</span> (unbuilt) │\n",
       "├─────────────────────────────────┼────────────────────────┼───────────────┤\n",
       "│ dense (<span style=\"color: #0087ff; text-decoration-color: #0087ff\">Dense</span>)                   │ ?                      │   <span style=\"color: #00af00; text-decoration-color: #00af00\">0</span> (unbuilt) │\n",
       "└─────────────────────────────────┴────────────────────────┴───────────────┘\n",
       "</pre>\n"
      ],
      "text/plain": [
       "┏━━━━━━━━━━━━━━━━━━━━━━━━━━━━━━━━━┳━━━━━━━━━━━━━━━━━━━━━━━━┳━━━━━━━━━━━━━━━┓\n",
       "┃\u001b[1m \u001b[0m\u001b[1mLayer (type)                   \u001b[0m\u001b[1m \u001b[0m┃\u001b[1m \u001b[0m\u001b[1mOutput Shape          \u001b[0m\u001b[1m \u001b[0m┃\u001b[1m \u001b[0m\u001b[1m      Param #\u001b[0m\u001b[1m \u001b[0m┃\n",
       "┡━━━━━━━━━━━━━━━━━━━━━━━━━━━━━━━━━╇━━━━━━━━━━━━━━━━━━━━━━━━╇━━━━━━━━━━━━━━━┩\n",
       "│ embedding (\u001b[38;5;33mEmbedding\u001b[0m)           │ ?                      │   \u001b[38;5;34m0\u001b[0m (unbuilt) │\n",
       "├─────────────────────────────────┼────────────────────────┼───────────────┤\n",
       "│ lstm (\u001b[38;5;33mLSTM\u001b[0m)                     │ ?                      │   \u001b[38;5;34m0\u001b[0m (unbuilt) │\n",
       "├─────────────────────────────────┼────────────────────────┼───────────────┤\n",
       "│ dropout (\u001b[38;5;33mDropout\u001b[0m)               │ ?                      │   \u001b[38;5;34m0\u001b[0m (unbuilt) │\n",
       "├─────────────────────────────────┼────────────────────────┼───────────────┤\n",
       "│ lstm_1 (\u001b[38;5;33mLSTM\u001b[0m)                   │ ?                      │   \u001b[38;5;34m0\u001b[0m (unbuilt) │\n",
       "├─────────────────────────────────┼────────────────────────┼───────────────┤\n",
       "│ dense (\u001b[38;5;33mDense\u001b[0m)                   │ ?                      │   \u001b[38;5;34m0\u001b[0m (unbuilt) │\n",
       "└─────────────────────────────────┴────────────────────────┴───────────────┘\n"
      ]
     },
     "metadata": {},
     "output_type": "display_data"
    },
    {
     "data": {
      "text/html": [
       "<pre style=\"white-space:pre;overflow-x:auto;line-height:normal;font-family:Menlo,'DejaVu Sans Mono',consolas,'Courier New',monospace\"><span style=\"font-weight: bold\"> Total params: </span><span style=\"color: #00af00; text-decoration-color: #00af00\">0</span> (0.00 B)\n",
       "</pre>\n"
      ],
      "text/plain": [
       "\u001b[1m Total params: \u001b[0m\u001b[38;5;34m0\u001b[0m (0.00 B)\n"
      ]
     },
     "metadata": {},
     "output_type": "display_data"
    },
    {
     "data": {
      "text/html": [
       "<pre style=\"white-space:pre;overflow-x:auto;line-height:normal;font-family:Menlo,'DejaVu Sans Mono',consolas,'Courier New',monospace\"><span style=\"font-weight: bold\"> Trainable params: </span><span style=\"color: #00af00; text-decoration-color: #00af00\">0</span> (0.00 B)\n",
       "</pre>\n"
      ],
      "text/plain": [
       "\u001b[1m Trainable params: \u001b[0m\u001b[38;5;34m0\u001b[0m (0.00 B)\n"
      ]
     },
     "metadata": {},
     "output_type": "display_data"
    },
    {
     "data": {
      "text/html": [
       "<pre style=\"white-space:pre;overflow-x:auto;line-height:normal;font-family:Menlo,'DejaVu Sans Mono',consolas,'Courier New',monospace\"><span style=\"font-weight: bold\"> Non-trainable params: </span><span style=\"color: #00af00; text-decoration-color: #00af00\">0</span> (0.00 B)\n",
       "</pre>\n"
      ],
      "text/plain": [
       "\u001b[1m Non-trainable params: \u001b[0m\u001b[38;5;34m0\u001b[0m (0.00 B)\n"
      ]
     },
     "metadata": {},
     "output_type": "display_data"
    }
   ],
   "source": [
    "model = Sequential()\n",
    "model.add(Embedding(input_dim=voc_size, output_dim=256, input_length=max_length))\n",
    "model.add(LSTM(units=32, return_sequences=True))\n",
    "model.add(Dropout(rate=0.3))  \n",
    "model.add(LSTM(units=32))\n",
    "model.add(Dense(1,activation='sigmoid'))\n",
    "model.summary()"
   ]
  },
  {
   "cell_type": "code",
   "execution_count": 15,
   "id": "467ef7aa",
   "metadata": {
    "execution": {
     "iopub.execute_input": "2024-09-13T00:20:28.758433Z",
     "iopub.status.busy": "2024-09-13T00:20:28.758124Z",
     "iopub.status.idle": "2024-09-13T02:35:57.640546Z",
     "shell.execute_reply": "2024-09-13T02:35:57.639627Z"
    },
    "id": "aZuwWB5tfNrd",
    "outputId": "a686bd46-7ca2-4b2b-c344-ab53e702b532",
    "papermill": {
     "duration": 8128.895728,
     "end_time": "2024-09-13T02:35:57.642891",
     "exception": false,
     "start_time": "2024-09-13T00:20:28.747163",
     "status": "completed"
    },
    "tags": []
   },
   "outputs": [
    {
     "name": "stdout",
     "output_type": "stream",
     "text": [
      "Epoch 1/50\n",
      "\u001b[1m7838/7838\u001b[0m \u001b[32m━━━━━━━━━━━━━━━━━━━━\u001b[0m\u001b[37m\u001b[0m \u001b[1m164s\u001b[0m 20ms/step - accuracy: 0.8553 - loss: 0.3295 - val_accuracy: 0.8724 - val_loss: 0.2952\n",
      "Epoch 2/50\n",
      "\u001b[1m7838/7838\u001b[0m \u001b[32m━━━━━━━━━━━━━━━━━━━━\u001b[0m\u001b[37m\u001b[0m \u001b[1m159s\u001b[0m 20ms/step - accuracy: 0.9274 - loss: 0.1884 - val_accuracy: 0.9087 - val_loss: 0.2316\n",
      "Epoch 3/50\n",
      "\u001b[1m7838/7838\u001b[0m \u001b[32m━━━━━━━━━━━━━━━━━━━━\u001b[0m\u001b[37m\u001b[0m \u001b[1m160s\u001b[0m 20ms/step - accuracy: 0.9511 - loss: 0.1337 - val_accuracy: 0.9037 - val_loss: 0.2540\n",
      "Epoch 4/50\n",
      "\u001b[1m7838/7838\u001b[0m \u001b[32m━━━━━━━━━━━━━━━━━━━━\u001b[0m\u001b[37m\u001b[0m \u001b[1m160s\u001b[0m 20ms/step - accuracy: 0.9687 - loss: 0.0923 - val_accuracy: 0.9004 - val_loss: 0.2854\n",
      "Epoch 5/50\n",
      "\u001b[1m7838/7838\u001b[0m \u001b[32m━━━━━━━━━━━━━━━━━━━━\u001b[0m\u001b[37m\u001b[0m \u001b[1m160s\u001b[0m 20ms/step - accuracy: 0.9780 - loss: 0.0663 - val_accuracy: 0.8983 - val_loss: 0.3402\n",
      "Epoch 6/50\n",
      "\u001b[1m7838/7838\u001b[0m \u001b[32m━━━━━━━━━━━━━━━━━━━━\u001b[0m\u001b[37m\u001b[0m \u001b[1m160s\u001b[0m 20ms/step - accuracy: 0.9844 - loss: 0.0489 - val_accuracy: 0.8943 - val_loss: 0.4133\n",
      "Epoch 7/50\n",
      "\u001b[1m7838/7838\u001b[0m \u001b[32m━━━━━━━━━━━━━━━━━━━━\u001b[0m\u001b[37m\u001b[0m \u001b[1m160s\u001b[0m 20ms/step - accuracy: 0.9886 - loss: 0.0371 - val_accuracy: 0.8944 - val_loss: 0.4086\n",
      "Epoch 8/50\n",
      "\u001b[1m7838/7838\u001b[0m \u001b[32m━━━━━━━━━━━━━━━━━━━━\u001b[0m\u001b[37m\u001b[0m \u001b[1m159s\u001b[0m 20ms/step - accuracy: 0.9907 - loss: 0.0295 - val_accuracy: 0.8950 - val_loss: 0.4211\n",
      "Epoch 9/50\n",
      "\u001b[1m7838/7838\u001b[0m \u001b[32m━━━━━━━━━━━━━━━━━━━━\u001b[0m\u001b[37m\u001b[0m \u001b[1m159s\u001b[0m 20ms/step - accuracy: 0.9928 - loss: 0.0229 - val_accuracy: 0.8904 - val_loss: 0.4532\n",
      "Epoch 10/50\n",
      "\u001b[1m7838/7838\u001b[0m \u001b[32m━━━━━━━━━━━━━━━━━━━━\u001b[0m\u001b[37m\u001b[0m \u001b[1m160s\u001b[0m 20ms/step - accuracy: 0.9939 - loss: 0.0193 - val_accuracy: 0.8919 - val_loss: 0.4791\n",
      "Epoch 11/50\n",
      "\u001b[1m7838/7838\u001b[0m \u001b[32m━━━━━━━━━━━━━━━━━━━━\u001b[0m\u001b[37m\u001b[0m \u001b[1m160s\u001b[0m 20ms/step - accuracy: 0.9948 - loss: 0.0166 - val_accuracy: 0.8911 - val_loss: 0.5089\n",
      "Epoch 12/50\n",
      "\u001b[1m7838/7838\u001b[0m \u001b[32m━━━━━━━━━━━━━━━━━━━━\u001b[0m\u001b[37m\u001b[0m \u001b[1m162s\u001b[0m 21ms/step - accuracy: 0.9950 - loss: 0.0158 - val_accuracy: 0.8917 - val_loss: 0.5279\n",
      "Epoch 13/50\n",
      "\u001b[1m7838/7838\u001b[0m \u001b[32m━━━━━━━━━━━━━━━━━━━━\u001b[0m\u001b[37m\u001b[0m \u001b[1m162s\u001b[0m 21ms/step - accuracy: 0.9959 - loss: 0.0132 - val_accuracy: 0.8918 - val_loss: 0.4996\n",
      "Epoch 14/50\n",
      "\u001b[1m7838/7838\u001b[0m \u001b[32m━━━━━━━━━━━━━━━━━━━━\u001b[0m\u001b[37m\u001b[0m \u001b[1m162s\u001b[0m 21ms/step - accuracy: 0.9966 - loss: 0.0113 - val_accuracy: 0.8906 - val_loss: 0.5147\n",
      "Epoch 15/50\n",
      "\u001b[1m7838/7838\u001b[0m \u001b[32m━━━━━━━━━━━━━━━━━━━━\u001b[0m\u001b[37m\u001b[0m \u001b[1m162s\u001b[0m 21ms/step - accuracy: 0.9967 - loss: 0.0104 - val_accuracy: 0.8917 - val_loss: 0.5884\n",
      "Epoch 16/50\n",
      "\u001b[1m7838/7838\u001b[0m \u001b[32m━━━━━━━━━━━━━━━━━━━━\u001b[0m\u001b[37m\u001b[0m \u001b[1m163s\u001b[0m 21ms/step - accuracy: 0.9971 - loss: 0.0090 - val_accuracy: 0.8938 - val_loss: 0.5776\n",
      "Epoch 17/50\n",
      "\u001b[1m7838/7838\u001b[0m \u001b[32m━━━━━━━━━━━━━━━━━━━━\u001b[0m\u001b[37m\u001b[0m \u001b[1m162s\u001b[0m 21ms/step - accuracy: 0.9974 - loss: 0.0085 - val_accuracy: 0.8902 - val_loss: 0.5514\n",
      "Epoch 18/50\n",
      "\u001b[1m7838/7838\u001b[0m \u001b[32m━━━━━━━━━━━━━━━━━━━━\u001b[0m\u001b[37m\u001b[0m \u001b[1m162s\u001b[0m 21ms/step - accuracy: 0.9974 - loss: 0.0080 - val_accuracy: 0.8927 - val_loss: 0.5549\n",
      "Epoch 19/50\n",
      "\u001b[1m7838/7838\u001b[0m \u001b[32m━━━━━━━━━━━━━━━━━━━━\u001b[0m\u001b[37m\u001b[0m \u001b[1m202s\u001b[0m 21ms/step - accuracy: 0.9976 - loss: 0.0075 - val_accuracy: 0.8919 - val_loss: 0.5998\n",
      "Epoch 20/50\n",
      "\u001b[1m7838/7838\u001b[0m \u001b[32m━━━━━━━━━━━━━━━━━━━━\u001b[0m\u001b[37m\u001b[0m \u001b[1m162s\u001b[0m 21ms/step - accuracy: 0.9976 - loss: 0.0077 - val_accuracy: 0.8913 - val_loss: 0.5844\n",
      "Epoch 21/50\n",
      "\u001b[1m7838/7838\u001b[0m \u001b[32m━━━━━━━━━━━━━━━━━━━━\u001b[0m\u001b[37m\u001b[0m \u001b[1m162s\u001b[0m 21ms/step - accuracy: 0.9979 - loss: 0.0068 - val_accuracy: 0.8903 - val_loss: 0.6040\n",
      "Epoch 22/50\n",
      "\u001b[1m7838/7838\u001b[0m \u001b[32m━━━━━━━━━━━━━━━━━━━━\u001b[0m\u001b[37m\u001b[0m \u001b[1m162s\u001b[0m 21ms/step - accuracy: 0.9980 - loss: 0.0062 - val_accuracy: 0.8922 - val_loss: 0.6125\n",
      "Epoch 23/50\n",
      "\u001b[1m7838/7838\u001b[0m \u001b[32m━━━━━━━━━━━━━━━━━━━━\u001b[0m\u001b[37m\u001b[0m \u001b[1m162s\u001b[0m 21ms/step - accuracy: 0.9979 - loss: 0.0067 - val_accuracy: 0.8889 - val_loss: 0.6255\n",
      "Epoch 24/50\n",
      "\u001b[1m7838/7838\u001b[0m \u001b[32m━━━━━━━━━━━━━━━━━━━━\u001b[0m\u001b[37m\u001b[0m \u001b[1m162s\u001b[0m 21ms/step - accuracy: 0.9982 - loss: 0.0058 - val_accuracy: 0.8923 - val_loss: 0.6527\n",
      "Epoch 25/50\n",
      "\u001b[1m7838/7838\u001b[0m \u001b[32m━━━━━━━━━━━━━━━━━━━━\u001b[0m\u001b[37m\u001b[0m \u001b[1m160s\u001b[0m 20ms/step - accuracy: 0.9983 - loss: 0.0050 - val_accuracy: 0.8907 - val_loss: 0.6129\n",
      "Epoch 26/50\n",
      "\u001b[1m7838/7838\u001b[0m \u001b[32m━━━━━━━━━━━━━━━━━━━━\u001b[0m\u001b[37m\u001b[0m \u001b[1m162s\u001b[0m 21ms/step - accuracy: 0.9980 - loss: 0.0063 - val_accuracy: 0.8912 - val_loss: 0.6379\n",
      "Epoch 27/50\n",
      "\u001b[1m7838/7838\u001b[0m \u001b[32m━━━━━━━━━━━━━━━━━━━━\u001b[0m\u001b[37m\u001b[0m \u001b[1m162s\u001b[0m 21ms/step - accuracy: 0.9983 - loss: 0.0051 - val_accuracy: 0.8922 - val_loss: 0.6764\n",
      "Epoch 28/50\n",
      "\u001b[1m7838/7838\u001b[0m \u001b[32m━━━━━━━━━━━━━━━━━━━━\u001b[0m\u001b[37m\u001b[0m \u001b[1m163s\u001b[0m 21ms/step - accuracy: 0.9984 - loss: 0.0050 - val_accuracy: 0.8886 - val_loss: 0.6314\n",
      "Epoch 29/50\n",
      "\u001b[1m7838/7838\u001b[0m \u001b[32m━━━━━━━━━━━━━━━━━━━━\u001b[0m\u001b[37m\u001b[0m \u001b[1m161s\u001b[0m 21ms/step - accuracy: 0.9983 - loss: 0.0054 - val_accuracy: 0.8910 - val_loss: 0.6526\n",
      "Epoch 30/50\n",
      "\u001b[1m7838/7838\u001b[0m \u001b[32m━━━━━━━━━━━━━━━━━━━━\u001b[0m\u001b[37m\u001b[0m \u001b[1m161s\u001b[0m 21ms/step - accuracy: 0.9985 - loss: 0.0045 - val_accuracy: 0.8925 - val_loss: 0.6317\n",
      "Epoch 31/50\n",
      "\u001b[1m7838/7838\u001b[0m \u001b[32m━━━━━━━━━━━━━━━━━━━━\u001b[0m\u001b[37m\u001b[0m \u001b[1m162s\u001b[0m 21ms/step - accuracy: 0.9982 - loss: 0.0054 - val_accuracy: 0.8915 - val_loss: 0.5993\n",
      "Epoch 32/50\n",
      "\u001b[1m7838/7838\u001b[0m \u001b[32m━━━━━━━━━━━━━━━━━━━━\u001b[0m\u001b[37m\u001b[0m \u001b[1m161s\u001b[0m 21ms/step - accuracy: 0.9985 - loss: 0.0047 - val_accuracy: 0.8924 - val_loss: 0.6348\n",
      "Epoch 33/50\n",
      "\u001b[1m7838/7838\u001b[0m \u001b[32m━━━━━━━━━━━━━━━━━━━━\u001b[0m\u001b[37m\u001b[0m \u001b[1m162s\u001b[0m 21ms/step - accuracy: 0.9984 - loss: 0.0046 - val_accuracy: 0.8907 - val_loss: 0.6336\n",
      "Epoch 34/50\n",
      "\u001b[1m7838/7838\u001b[0m \u001b[32m━━━━━━━━━━━━━━━━━━━━\u001b[0m\u001b[37m\u001b[0m \u001b[1m163s\u001b[0m 21ms/step - accuracy: 0.9986 - loss: 0.0044 - val_accuracy: 0.8876 - val_loss: 0.6136\n",
      "Epoch 35/50\n",
      "\u001b[1m7838/7838\u001b[0m \u001b[32m━━━━━━━━━━━━━━━━━━━━\u001b[0m\u001b[37m\u001b[0m \u001b[1m163s\u001b[0m 21ms/step - accuracy: 0.9987 - loss: 0.0043 - val_accuracy: 0.8918 - val_loss: 0.6846\n",
      "Epoch 36/50\n",
      "\u001b[1m7838/7838\u001b[0m \u001b[32m━━━━━━━━━━━━━━━━━━━━\u001b[0m\u001b[37m\u001b[0m \u001b[1m163s\u001b[0m 21ms/step - accuracy: 0.9986 - loss: 0.0046 - val_accuracy: 0.8898 - val_loss: 0.6736\n",
      "Epoch 37/50\n",
      "\u001b[1m7838/7838\u001b[0m \u001b[32m━━━━━━━━━━━━━━━━━━━━\u001b[0m\u001b[37m\u001b[0m \u001b[1m163s\u001b[0m 21ms/step - accuracy: 0.9988 - loss: 0.0038 - val_accuracy: 0.8909 - val_loss: 0.6392\n",
      "Epoch 38/50\n",
      "\u001b[1m7838/7838\u001b[0m \u001b[32m━━━━━━━━━━━━━━━━━━━━\u001b[0m\u001b[37m\u001b[0m \u001b[1m161s\u001b[0m 21ms/step - accuracy: 0.9985 - loss: 0.0042 - val_accuracy: 0.8896 - val_loss: 0.6929\n",
      "Epoch 39/50\n",
      "\u001b[1m7838/7838\u001b[0m \u001b[32m━━━━━━━━━━━━━━━━━━━━\u001b[0m\u001b[37m\u001b[0m \u001b[1m160s\u001b[0m 20ms/step - accuracy: 0.9986 - loss: 0.0047 - val_accuracy: 0.8885 - val_loss: 0.6339\n",
      "Epoch 40/50\n",
      "\u001b[1m7838/7838\u001b[0m \u001b[32m━━━━━━━━━━━━━━━━━━━━\u001b[0m\u001b[37m\u001b[0m \u001b[1m162s\u001b[0m 21ms/step - accuracy: 0.9986 - loss: 0.0042 - val_accuracy: 0.8889 - val_loss: 0.6706\n",
      "Epoch 41/50\n",
      "\u001b[1m7838/7838\u001b[0m \u001b[32m━━━━━━━━━━━━━━━━━━━━\u001b[0m\u001b[37m\u001b[0m \u001b[1m161s\u001b[0m 21ms/step - accuracy: 0.9985 - loss: 0.0045 - val_accuracy: 0.8891 - val_loss: 0.6414\n",
      "Epoch 42/50\n",
      "\u001b[1m7838/7838\u001b[0m \u001b[32m━━━━━━━━━━━━━━━━━━━━\u001b[0m\u001b[37m\u001b[0m \u001b[1m163s\u001b[0m 21ms/step - accuracy: 0.9986 - loss: 0.0040 - val_accuracy: 0.8884 - val_loss: 0.6230\n",
      "Epoch 43/50\n",
      "\u001b[1m7838/7838\u001b[0m \u001b[32m━━━━━━━━━━━━━━━━━━━━\u001b[0m\u001b[37m\u001b[0m \u001b[1m163s\u001b[0m 21ms/step - accuracy: 0.9984 - loss: 0.0045 - val_accuracy: 0.8917 - val_loss: 0.6525\n",
      "Epoch 44/50\n",
      "\u001b[1m7838/7838\u001b[0m \u001b[32m━━━━━━━━━━━━━━━━━━━━\u001b[0m\u001b[37m\u001b[0m \u001b[1m164s\u001b[0m 21ms/step - accuracy: 0.9988 - loss: 0.0035 - val_accuracy: 0.8916 - val_loss: 0.6917\n",
      "Epoch 45/50\n",
      "\u001b[1m7838/7838\u001b[0m \u001b[32m━━━━━━━━━━━━━━━━━━━━\u001b[0m\u001b[37m\u001b[0m \u001b[1m164s\u001b[0m 21ms/step - accuracy: 0.9988 - loss: 0.0037 - val_accuracy: 0.8900 - val_loss: 0.6358\n",
      "Epoch 46/50\n",
      "\u001b[1m7838/7838\u001b[0m \u001b[32m━━━━━━━━━━━━━━━━━━━━\u001b[0m\u001b[37m\u001b[0m \u001b[1m165s\u001b[0m 21ms/step - accuracy: 0.9987 - loss: 0.0039 - val_accuracy: 0.8912 - val_loss: 0.6349\n",
      "Epoch 47/50\n",
      "\u001b[1m7838/7838\u001b[0m \u001b[32m━━━━━━━━━━━━━━━━━━━━\u001b[0m\u001b[37m\u001b[0m \u001b[1m164s\u001b[0m 21ms/step - accuracy: 0.9988 - loss: 0.0039 - val_accuracy: 0.8905 - val_loss: 0.6316\n",
      "Epoch 48/50\n",
      "\u001b[1m7838/7838\u001b[0m \u001b[32m━━━━━━━━━━━━━━━━━━━━\u001b[0m\u001b[37m\u001b[0m \u001b[1m163s\u001b[0m 21ms/step - accuracy: 0.9988 - loss: 0.0037 - val_accuracy: 0.8893 - val_loss: 0.6779\n",
      "Epoch 49/50\n",
      "\u001b[1m7838/7838\u001b[0m \u001b[32m━━━━━━━━━━━━━━━━━━━━\u001b[0m\u001b[37m\u001b[0m \u001b[1m163s\u001b[0m 21ms/step - accuracy: 0.9986 - loss: 0.0044 - val_accuracy: 0.8867 - val_loss: 0.6969\n",
      "Epoch 50/50\n",
      "\u001b[1m7838/7838\u001b[0m \u001b[32m━━━━━━━━━━━━━━━━━━━━\u001b[0m\u001b[37m\u001b[0m \u001b[1m162s\u001b[0m 21ms/step - accuracy: 0.9987 - loss: 0.0042 - val_accuracy: 0.8906 - val_loss: 0.6159\n"
     ]
    }
   ],
   "source": [
    "checkpoint_cb =ModelCheckpoint(\"model_arabic.keras\", save_best_only=True)\n",
    "model.compile(loss='binary_crossentropy',optimizer='adam',metrics=['accuracy'])\n",
    "history = model.fit(X_train, y_train, epochs=50,\n",
    "                    validation_split=.2,\n",
    "                    callbacks=[checkpoint_cb])"
   ]
  },
  {
   "cell_type": "code",
   "execution_count": 16,
   "id": "6563e6f8",
   "metadata": {
    "execution": {
     "iopub.execute_input": "2024-09-13T02:36:20.113973Z",
     "iopub.status.busy": "2024-09-13T02:36:20.113572Z",
     "iopub.status.idle": "2024-09-13T02:36:20.133599Z",
     "shell.execute_reply": "2024-09-13T02:36:20.132730Z"
    },
    "papermill": {
     "duration": 11.200416,
     "end_time": "2024-09-13T02:36:20.135421",
     "exception": false,
     "start_time": "2024-09-13T02:36:08.935005",
     "status": "completed"
    },
    "tags": []
   },
   "outputs": [
    {
     "data": {
      "text/html": [
       "<div>\n",
       "<style scoped>\n",
       "    .dataframe tbody tr th:only-of-type {\n",
       "        vertical-align: middle;\n",
       "    }\n",
       "\n",
       "    .dataframe tbody tr th {\n",
       "        vertical-align: top;\n",
       "    }\n",
       "\n",
       "    .dataframe thead th {\n",
       "        text-align: right;\n",
       "    }\n",
       "</style>\n",
       "<table border=\"1\" class=\"dataframe\">\n",
       "  <thead>\n",
       "    <tr style=\"text-align: right;\">\n",
       "      <th></th>\n",
       "      <th>accuracy</th>\n",
       "      <th>loss</th>\n",
       "      <th>val_accuracy</th>\n",
       "      <th>val_loss</th>\n",
       "    </tr>\n",
       "  </thead>\n",
       "  <tbody>\n",
       "    <tr>\n",
       "      <th>0</th>\n",
       "      <td>0.884593</td>\n",
       "      <td>0.277076</td>\n",
       "      <td>0.872392</td>\n",
       "      <td>0.295190</td>\n",
       "    </tr>\n",
       "    <tr>\n",
       "      <th>1</th>\n",
       "      <td>0.926220</td>\n",
       "      <td>0.190287</td>\n",
       "      <td>0.908724</td>\n",
       "      <td>0.231553</td>\n",
       "    </tr>\n",
       "    <tr>\n",
       "      <th>2</th>\n",
       "      <td>0.947667</td>\n",
       "      <td>0.141292</td>\n",
       "      <td>0.903732</td>\n",
       "      <td>0.254028</td>\n",
       "    </tr>\n",
       "    <tr>\n",
       "      <th>3</th>\n",
       "      <td>0.964490</td>\n",
       "      <td>0.101401</td>\n",
       "      <td>0.900447</td>\n",
       "      <td>0.285360</td>\n",
       "    </tr>\n",
       "    <tr>\n",
       "      <th>4</th>\n",
       "      <td>0.975060</td>\n",
       "      <td>0.073546</td>\n",
       "      <td>0.898293</td>\n",
       "      <td>0.340173</td>\n",
       "    </tr>\n",
       "    <tr>\n",
       "      <th>5</th>\n",
       "      <td>0.982428</td>\n",
       "      <td>0.053990</td>\n",
       "      <td>0.894306</td>\n",
       "      <td>0.413279</td>\n",
       "    </tr>\n",
       "    <tr>\n",
       "      <th>6</th>\n",
       "      <td>0.986579</td>\n",
       "      <td>0.042510</td>\n",
       "      <td>0.894370</td>\n",
       "      <td>0.408568</td>\n",
       "    </tr>\n",
       "    <tr>\n",
       "      <th>7</th>\n",
       "      <td>0.989298</td>\n",
       "      <td>0.033719</td>\n",
       "      <td>0.894960</td>\n",
       "      <td>0.421101</td>\n",
       "    </tr>\n",
       "    <tr>\n",
       "      <th>8</th>\n",
       "      <td>0.991312</td>\n",
       "      <td>0.026919</td>\n",
       "      <td>0.890383</td>\n",
       "      <td>0.453240</td>\n",
       "    </tr>\n",
       "    <tr>\n",
       "      <th>9</th>\n",
       "      <td>0.992572</td>\n",
       "      <td>0.023430</td>\n",
       "      <td>0.891850</td>\n",
       "      <td>0.479132</td>\n",
       "    </tr>\n",
       "    <tr>\n",
       "      <th>10</th>\n",
       "      <td>0.993628</td>\n",
       "      <td>0.019976</td>\n",
       "      <td>0.891053</td>\n",
       "      <td>0.508883</td>\n",
       "    </tr>\n",
       "    <tr>\n",
       "      <th>11</th>\n",
       "      <td>0.993935</td>\n",
       "      <td>0.019027</td>\n",
       "      <td>0.891707</td>\n",
       "      <td>0.527892</td>\n",
       "    </tr>\n",
       "    <tr>\n",
       "      <th>12</th>\n",
       "      <td>0.994956</td>\n",
       "      <td>0.015910</td>\n",
       "      <td>0.891802</td>\n",
       "      <td>0.499579</td>\n",
       "    </tr>\n",
       "    <tr>\n",
       "      <th>13</th>\n",
       "      <td>0.995494</td>\n",
       "      <td>0.014126</td>\n",
       "      <td>0.890590</td>\n",
       "      <td>0.514735</td>\n",
       "    </tr>\n",
       "    <tr>\n",
       "      <th>14</th>\n",
       "      <td>0.995781</td>\n",
       "      <td>0.013216</td>\n",
       "      <td>0.891707</td>\n",
       "      <td>0.588368</td>\n",
       "    </tr>\n",
       "    <tr>\n",
       "      <th>15</th>\n",
       "      <td>0.996340</td>\n",
       "      <td>0.011520</td>\n",
       "      <td>0.893812</td>\n",
       "      <td>0.577552</td>\n",
       "    </tr>\n",
       "    <tr>\n",
       "      <th>16</th>\n",
       "      <td>0.996459</td>\n",
       "      <td>0.011185</td>\n",
       "      <td>0.890175</td>\n",
       "      <td>0.551359</td>\n",
       "    </tr>\n",
       "    <tr>\n",
       "      <th>17</th>\n",
       "      <td>0.996631</td>\n",
       "      <td>0.010398</td>\n",
       "      <td>0.892679</td>\n",
       "      <td>0.554928</td>\n",
       "    </tr>\n",
       "    <tr>\n",
       "      <th>18</th>\n",
       "      <td>0.996806</td>\n",
       "      <td>0.009692</td>\n",
       "      <td>0.891914</td>\n",
       "      <td>0.599844</td>\n",
       "    </tr>\n",
       "    <tr>\n",
       "      <th>19</th>\n",
       "      <td>0.996922</td>\n",
       "      <td>0.009668</td>\n",
       "      <td>0.891340</td>\n",
       "      <td>0.584395</td>\n",
       "    </tr>\n",
       "    <tr>\n",
       "      <th>20</th>\n",
       "      <td>0.997245</td>\n",
       "      <td>0.008504</td>\n",
       "      <td>0.890335</td>\n",
       "      <td>0.603966</td>\n",
       "    </tr>\n",
       "    <tr>\n",
       "      <th>21</th>\n",
       "      <td>0.997261</td>\n",
       "      <td>0.008350</td>\n",
       "      <td>0.892153</td>\n",
       "      <td>0.612530</td>\n",
       "    </tr>\n",
       "    <tr>\n",
       "      <th>22</th>\n",
       "      <td>0.997372</td>\n",
       "      <td>0.008111</td>\n",
       "      <td>0.888931</td>\n",
       "      <td>0.625528</td>\n",
       "    </tr>\n",
       "    <tr>\n",
       "      <th>23</th>\n",
       "      <td>0.997464</td>\n",
       "      <td>0.007746</td>\n",
       "      <td>0.892313</td>\n",
       "      <td>0.652693</td>\n",
       "    </tr>\n",
       "    <tr>\n",
       "      <th>24</th>\n",
       "      <td>0.997767</td>\n",
       "      <td>0.006812</td>\n",
       "      <td>0.890734</td>\n",
       "      <td>0.612935</td>\n",
       "    </tr>\n",
       "    <tr>\n",
       "      <th>25</th>\n",
       "      <td>0.997568</td>\n",
       "      <td>0.007306</td>\n",
       "      <td>0.891228</td>\n",
       "      <td>0.637939</td>\n",
       "    </tr>\n",
       "    <tr>\n",
       "      <th>26</th>\n",
       "      <td>0.997871</td>\n",
       "      <td>0.006437</td>\n",
       "      <td>0.892185</td>\n",
       "      <td>0.676372</td>\n",
       "    </tr>\n",
       "    <tr>\n",
       "      <th>27</th>\n",
       "      <td>0.997811</td>\n",
       "      <td>0.006697</td>\n",
       "      <td>0.888612</td>\n",
       "      <td>0.631389</td>\n",
       "    </tr>\n",
       "    <tr>\n",
       "      <th>28</th>\n",
       "      <td>0.997907</td>\n",
       "      <td>0.006547</td>\n",
       "      <td>0.890989</td>\n",
       "      <td>0.652584</td>\n",
       "    </tr>\n",
       "    <tr>\n",
       "      <th>29</th>\n",
       "      <td>0.997963</td>\n",
       "      <td>0.006139</td>\n",
       "      <td>0.892456</td>\n",
       "      <td>0.631724</td>\n",
       "    </tr>\n",
       "    <tr>\n",
       "      <th>30</th>\n",
       "      <td>0.997775</td>\n",
       "      <td>0.006641</td>\n",
       "      <td>0.891467</td>\n",
       "      <td>0.599291</td>\n",
       "    </tr>\n",
       "    <tr>\n",
       "      <th>31</th>\n",
       "      <td>0.998010</td>\n",
       "      <td>0.006203</td>\n",
       "      <td>0.892440</td>\n",
       "      <td>0.634823</td>\n",
       "    </tr>\n",
       "    <tr>\n",
       "      <th>32</th>\n",
       "      <td>0.998098</td>\n",
       "      <td>0.005720</td>\n",
       "      <td>0.890654</td>\n",
       "      <td>0.633596</td>\n",
       "    </tr>\n",
       "    <tr>\n",
       "      <th>33</th>\n",
       "      <td>0.997899</td>\n",
       "      <td>0.006430</td>\n",
       "      <td>0.887624</td>\n",
       "      <td>0.613590</td>\n",
       "    </tr>\n",
       "    <tr>\n",
       "      <th>34</th>\n",
       "      <td>0.998226</td>\n",
       "      <td>0.005595</td>\n",
       "      <td>0.891802</td>\n",
       "      <td>0.684561</td>\n",
       "    </tr>\n",
       "    <tr>\n",
       "      <th>35</th>\n",
       "      <td>0.998146</td>\n",
       "      <td>0.005833</td>\n",
       "      <td>0.889840</td>\n",
       "      <td>0.673636</td>\n",
       "    </tr>\n",
       "    <tr>\n",
       "      <th>36</th>\n",
       "      <td>0.998166</td>\n",
       "      <td>0.005468</td>\n",
       "      <td>0.890861</td>\n",
       "      <td>0.639239</td>\n",
       "    </tr>\n",
       "    <tr>\n",
       "      <th>37</th>\n",
       "      <td>0.998190</td>\n",
       "      <td>0.005426</td>\n",
       "      <td>0.889633</td>\n",
       "      <td>0.692853</td>\n",
       "    </tr>\n",
       "    <tr>\n",
       "      <th>38</th>\n",
       "      <td>0.998158</td>\n",
       "      <td>0.005714</td>\n",
       "      <td>0.888485</td>\n",
       "      <td>0.633875</td>\n",
       "    </tr>\n",
       "    <tr>\n",
       "      <th>39</th>\n",
       "      <td>0.998357</td>\n",
       "      <td>0.005275</td>\n",
       "      <td>0.888931</td>\n",
       "      <td>0.670620</td>\n",
       "    </tr>\n",
       "    <tr>\n",
       "      <th>40</th>\n",
       "      <td>0.998226</td>\n",
       "      <td>0.005305</td>\n",
       "      <td>0.889139</td>\n",
       "      <td>0.641430</td>\n",
       "    </tr>\n",
       "    <tr>\n",
       "      <th>41</th>\n",
       "      <td>0.998190</td>\n",
       "      <td>0.005495</td>\n",
       "      <td>0.888373</td>\n",
       "      <td>0.623027</td>\n",
       "    </tr>\n",
       "    <tr>\n",
       "      <th>42</th>\n",
       "      <td>0.998110</td>\n",
       "      <td>0.005421</td>\n",
       "      <td>0.891707</td>\n",
       "      <td>0.652482</td>\n",
       "    </tr>\n",
       "    <tr>\n",
       "      <th>43</th>\n",
       "      <td>0.998329</td>\n",
       "      <td>0.005049</td>\n",
       "      <td>0.891611</td>\n",
       "      <td>0.691716</td>\n",
       "    </tr>\n",
       "    <tr>\n",
       "      <th>44</th>\n",
       "      <td>0.998337</td>\n",
       "      <td>0.005221</td>\n",
       "      <td>0.889952</td>\n",
       "      <td>0.635768</td>\n",
       "    </tr>\n",
       "    <tr>\n",
       "      <th>45</th>\n",
       "      <td>0.998321</td>\n",
       "      <td>0.004985</td>\n",
       "      <td>0.891196</td>\n",
       "      <td>0.634907</td>\n",
       "    </tr>\n",
       "    <tr>\n",
       "      <th>46</th>\n",
       "      <td>0.998333</td>\n",
       "      <td>0.005195</td>\n",
       "      <td>0.890494</td>\n",
       "      <td>0.631551</td>\n",
       "    </tr>\n",
       "    <tr>\n",
       "      <th>47</th>\n",
       "      <td>0.998441</td>\n",
       "      <td>0.004813</td>\n",
       "      <td>0.889330</td>\n",
       "      <td>0.677942</td>\n",
       "    </tr>\n",
       "    <tr>\n",
       "      <th>48</th>\n",
       "      <td>0.998190</td>\n",
       "      <td>0.005730</td>\n",
       "      <td>0.886715</td>\n",
       "      <td>0.696853</td>\n",
       "    </tr>\n",
       "    <tr>\n",
       "      <th>49</th>\n",
       "      <td>0.998186</td>\n",
       "      <td>0.005559</td>\n",
       "      <td>0.890622</td>\n",
       "      <td>0.615891</td>\n",
       "    </tr>\n",
       "  </tbody>\n",
       "</table>\n",
       "</div>"
      ],
      "text/plain": [
       "    accuracy      loss  val_accuracy  val_loss\n",
       "0   0.884593  0.277076      0.872392  0.295190\n",
       "1   0.926220  0.190287      0.908724  0.231553\n",
       "2   0.947667  0.141292      0.903732  0.254028\n",
       "3   0.964490  0.101401      0.900447  0.285360\n",
       "4   0.975060  0.073546      0.898293  0.340173\n",
       "5   0.982428  0.053990      0.894306  0.413279\n",
       "6   0.986579  0.042510      0.894370  0.408568\n",
       "7   0.989298  0.033719      0.894960  0.421101\n",
       "8   0.991312  0.026919      0.890383  0.453240\n",
       "9   0.992572  0.023430      0.891850  0.479132\n",
       "10  0.993628  0.019976      0.891053  0.508883\n",
       "11  0.993935  0.019027      0.891707  0.527892\n",
       "12  0.994956  0.015910      0.891802  0.499579\n",
       "13  0.995494  0.014126      0.890590  0.514735\n",
       "14  0.995781  0.013216      0.891707  0.588368\n",
       "15  0.996340  0.011520      0.893812  0.577552\n",
       "16  0.996459  0.011185      0.890175  0.551359\n",
       "17  0.996631  0.010398      0.892679  0.554928\n",
       "18  0.996806  0.009692      0.891914  0.599844\n",
       "19  0.996922  0.009668      0.891340  0.584395\n",
       "20  0.997245  0.008504      0.890335  0.603966\n",
       "21  0.997261  0.008350      0.892153  0.612530\n",
       "22  0.997372  0.008111      0.888931  0.625528\n",
       "23  0.997464  0.007746      0.892313  0.652693\n",
       "24  0.997767  0.006812      0.890734  0.612935\n",
       "25  0.997568  0.007306      0.891228  0.637939\n",
       "26  0.997871  0.006437      0.892185  0.676372\n",
       "27  0.997811  0.006697      0.888612  0.631389\n",
       "28  0.997907  0.006547      0.890989  0.652584\n",
       "29  0.997963  0.006139      0.892456  0.631724\n",
       "30  0.997775  0.006641      0.891467  0.599291\n",
       "31  0.998010  0.006203      0.892440  0.634823\n",
       "32  0.998098  0.005720      0.890654  0.633596\n",
       "33  0.997899  0.006430      0.887624  0.613590\n",
       "34  0.998226  0.005595      0.891802  0.684561\n",
       "35  0.998146  0.005833      0.889840  0.673636\n",
       "36  0.998166  0.005468      0.890861  0.639239\n",
       "37  0.998190  0.005426      0.889633  0.692853\n",
       "38  0.998158  0.005714      0.888485  0.633875\n",
       "39  0.998357  0.005275      0.888931  0.670620\n",
       "40  0.998226  0.005305      0.889139  0.641430\n",
       "41  0.998190  0.005495      0.888373  0.623027\n",
       "42  0.998110  0.005421      0.891707  0.652482\n",
       "43  0.998329  0.005049      0.891611  0.691716\n",
       "44  0.998337  0.005221      0.889952  0.635768\n",
       "45  0.998321  0.004985      0.891196  0.634907\n",
       "46  0.998333  0.005195      0.890494  0.631551\n",
       "47  0.998441  0.004813      0.889330  0.677942\n",
       "48  0.998190  0.005730      0.886715  0.696853\n",
       "49  0.998186  0.005559      0.890622  0.615891"
      ]
     },
     "execution_count": 16,
     "metadata": {},
     "output_type": "execute_result"
    }
   ],
   "source": [
    "history_dict = history.history\n",
    "pd.DataFrame(history_dict)"
   ]
  },
  {
   "cell_type": "code",
   "execution_count": 17,
   "id": "6bc51b34",
   "metadata": {
    "execution": {
     "iopub.execute_input": "2024-09-13T02:36:42.492311Z",
     "iopub.status.busy": "2024-09-13T02:36:42.491926Z",
     "iopub.status.idle": "2024-09-13T02:36:43.082478Z",
     "shell.execute_reply": "2024-09-13T02:36:43.081567Z"
    },
    "papermill": {
     "duration": 11.660082,
     "end_time": "2024-09-13T02:36:43.085102",
     "exception": false,
     "start_time": "2024-09-13T02:36:31.425020",
     "status": "completed"
    },
    "tags": []
   },
   "outputs": [
    {
     "data": {
      "image/png": "[encoded data removed]",
      "text/plain": [
       "<Figure size 1400x600 with 2 Axes>"
      ]
     },
     "metadata": {},
     "output_type": "display_data"
    }
   ],
   "source": [
    "accuracy = history_dict['accuracy']\n",
    "val_accuracy = history_dict['val_accuracy']\n",
    "loss = history_dict['loss']\n",
    "val_loss = history_dict['val_loss']\n",
    "epochs = range(1, len(accuracy) + 1)\n",
    "plt.figure(figsize=(14, 6))\n",
    "plt.subplot(1, 2, 1)\n",
    "sns.lineplot(x=epochs, y=loss, label='Training Loss')\n",
    "sns.lineplot(x=epochs, y=val_loss, label='Validation Loss')\n",
    "plt.title('Training and Validation Loss')\n",
    "plt.xlabel('Epochs')\n",
    "plt.ylabel('Loss')\n",
    "plt.legend()\n",
    "plt.subplot(1, 2, 2)\n",
    "sns.lineplot(x=epochs, y=accuracy, label='Training Accuracy')\n",
    "sns.lineplot(x=epochs, y=val_accuracy, label='Validation Accuracy')\n",
    "plt.title('Training and Validation Accuracy')\n",
    "plt.xlabel('Epochs')\n",
    "plt.ylabel('Accuracy')\n",
    "plt.legend()\n",
    "plt.tight_layout()\n",
    "plt.show()"
   ]
  },
  {
   "cell_type": "markdown",
   "id": "7fe279f0",
   "metadata": {
    "papermill": {
     "duration": 11.187811,
     "end_time": "2024-09-13T02:37:05.375177",
     "exception": false,
     "start_time": "2024-09-13T02:36:54.187366",
     "status": "completed"
    },
    "tags": []
   },
   "source": [
    "**<a id=\"5\"></a>\n",
    "<h1><b><p style=\"background-image: url(https://i.postimg.cc/0Qwf8YX6/2927262.jpg);font-family:camtasia;font-size:110%;color:white;text-align:center;border-radius:15px 50px; padding:7px; border:solid 2px #09375b; box-shadow: 10px 10px 10px #042b4c\">Evaluation</p></b></h1>\n",
    "<a class=\"btn\" href=\"#home\">Tabel of Contents</a>"
   ]
  },
  {
   "cell_type": "code",
   "execution_count": 18,
   "id": "2f90741d",
   "metadata": {
    "execution": {
     "iopub.execute_input": "2024-09-13T02:37:27.455411Z",
     "iopub.status.busy": "2024-09-13T02:37:27.454522Z",
     "iopub.status.idle": "2024-09-13T02:37:31.114825Z",
     "shell.execute_reply": "2024-09-13T02:37:31.113859Z"
    },
    "id": "2Ua91fy2gxbf",
    "outputId": "a647d10a-9761-44e2-9a84-b60bc2eb4614",
    "papermill": {
     "duration": 14.631349,
     "end_time": "2024-09-13T02:37:31.116844",
     "exception": false,
     "start_time": "2024-09-13T02:37:16.485495",
     "status": "completed"
    },
    "tags": []
   },
   "outputs": [
    {
     "name": "stdout",
     "output_type": "stream",
     "text": [
      "\u001b[1m516/516\u001b[0m \u001b[32m━━━━━━━━━━━━━━━━━━━━\u001b[0m\u001b[37m\u001b[0m \u001b[1m4s\u001b[0m 7ms/step - accuracy: 0.8917 - loss: 0.6107\n",
      "Loss: 0.6068593263626099\n",
      "Accuracy: 0.8913939595222473\n"
     ]
    }
   ],
   "source": [
    "loss,accuracy = model.evaluate(X_test, y_test)\n",
    "print(\"Loss:\", loss)\n",
    "print(\"Accuracy:\", accuracy)"
   ]
  },
  {
   "cell_type": "code",
   "execution_count": 19,
   "id": "c3719bb1",
   "metadata": {
    "execution": {
     "iopub.execute_input": "2024-09-13T02:37:53.428395Z",
     "iopub.status.busy": "2024-09-13T02:37:53.428011Z",
     "iopub.status.idle": "2024-09-13T02:37:57.139631Z",
     "shell.execute_reply": "2024-09-13T02:37:57.138639Z"
    },
    "papermill": {
     "duration": 14.855668,
     "end_time": "2024-09-13T02:37:57.141689",
     "exception": false,
     "start_time": "2024-09-13T02:37:42.286021",
     "status": "completed"
    },
    "tags": []
   },
   "outputs": [
    {
     "name": "stdout",
     "output_type": "stream",
     "text": [
      "\u001b[1m516/516\u001b[0m \u001b[32m━━━━━━━━━━━━━━━━━━━━\u001b[0m\u001b[37m\u001b[0m \u001b[1m3s\u001b[0m 6ms/step\n"
     ]
    },
    {
     "data": {
      "text/html": [
       "<div>\n",
       "<style scoped>\n",
       "    .dataframe tbody tr th:only-of-type {\n",
       "        vertical-align: middle;\n",
       "    }\n",
       "\n",
       "    .dataframe tbody tr th {\n",
       "        vertical-align: top;\n",
       "    }\n",
       "\n",
       "    .dataframe thead th {\n",
       "        text-align: right;\n",
       "    }\n",
       "</style>\n",
       "<table border=\"1\" class=\"dataframe\">\n",
       "  <thead>\n",
       "    <tr style=\"text-align: right;\">\n",
       "      <th></th>\n",
       "      <th>actual</th>\n",
       "      <th>pred</th>\n",
       "    </tr>\n",
       "  </thead>\n",
       "  <tbody>\n",
       "    <tr>\n",
       "      <th>277056</th>\n",
       "      <td>1</td>\n",
       "      <td>1</td>\n",
       "    </tr>\n",
       "    <tr>\n",
       "      <th>108512</th>\n",
       "      <td>1</td>\n",
       "      <td>1</td>\n",
       "    </tr>\n",
       "    <tr>\n",
       "      <th>128547</th>\n",
       "      <td>1</td>\n",
       "      <td>1</td>\n",
       "    </tr>\n",
       "    <tr>\n",
       "      <th>141658</th>\n",
       "      <td>0</td>\n",
       "      <td>0</td>\n",
       "    </tr>\n",
       "    <tr>\n",
       "      <th>231023</th>\n",
       "      <td>1</td>\n",
       "      <td>1</td>\n",
       "    </tr>\n",
       "    <tr>\n",
       "      <th>...</th>\n",
       "      <td>...</td>\n",
       "      <td>...</td>\n",
       "    </tr>\n",
       "    <tr>\n",
       "      <th>289994</th>\n",
       "      <td>0</td>\n",
       "      <td>0</td>\n",
       "    </tr>\n",
       "    <tr>\n",
       "      <th>229281</th>\n",
       "      <td>0</td>\n",
       "      <td>0</td>\n",
       "    </tr>\n",
       "    <tr>\n",
       "      <th>46600</th>\n",
       "      <td>1</td>\n",
       "      <td>0</td>\n",
       "    </tr>\n",
       "    <tr>\n",
       "      <th>261799</th>\n",
       "      <td>1</td>\n",
       "      <td>1</td>\n",
       "    </tr>\n",
       "    <tr>\n",
       "      <th>10191</th>\n",
       "      <td>0</td>\n",
       "      <td>0</td>\n",
       "    </tr>\n",
       "  </tbody>\n",
       "</table>\n",
       "<p>16500 rows × 2 columns</p>\n",
       "</div>"
      ],
      "text/plain": [
       "        actual  pred\n",
       "277056       1     1\n",
       "108512       1     1\n",
       "128547       1     1\n",
       "141658       0     0\n",
       "231023       1     1\n",
       "...        ...   ...\n",
       "289994       0     0\n",
       "229281       0     0\n",
       "46600        1     0\n",
       "261799       1     1\n",
       "10191        0     0\n",
       "\n",
       "[16500 rows x 2 columns]"
      ]
     },
     "execution_count": 19,
     "metadata": {},
     "output_type": "execute_result"
    }
   ],
   "source": [
    "prediction=model.predict(X_test)\n",
    "y_pred=np.where(prediction>=.5,1,0)\n",
    "df=pd.DataFrame()\n",
    "df['actual'],df['pred']=y_test,y_pred\n",
    "df"
   ]
  },
  {
   "cell_type": "code",
   "execution_count": 20,
   "id": "d5d28a1f",
   "metadata": {
    "execution": {
     "iopub.execute_input": "2024-09-13T02:38:19.316396Z",
     "iopub.status.busy": "2024-09-13T02:38:19.316006Z",
     "iopub.status.idle": "2024-09-13T02:38:19.582035Z",
     "shell.execute_reply": "2024-09-13T02:38:19.581053Z"
    },
    "papermill": {
     "duration": 11.262808,
     "end_time": "2024-09-13T02:38:19.584014",
     "exception": false,
     "start_time": "2024-09-13T02:38:08.321206",
     "status": "completed"
    },
    "tags": []
   },
   "outputs": [
    {
     "data": {
      "image/png": "[encoded data removed]",
      "text/plain": [
       "<Figure size 640x480 with 2 Axes>"
      ]
     },
     "metadata": {},
     "output_type": "display_data"
    },
    {
     "data": {
      "text/plain": [
       "array([[7281,  876],\n",
       "       [ 916, 7427]])"
      ]
     },
     "execution_count": 20,
     "metadata": {},
     "output_type": "execute_result"
    }
   ],
   "source": [
    "CM = confusion_matrix(y_test, y_pred)\n",
    "labels = ['Negative', 'Positive']\n",
    "sns.heatmap(CM, annot=True, center=True, fmt='g', cmap='Blues',\n",
    "            xticklabels=labels, yticklabels=labels)\n",
    "plt.xlabel('Predicted')\n",
    "plt.ylabel('Actual')\n",
    "plt.show()\n",
    "CM"
   ]
  },
  {
   "cell_type": "code",
   "execution_count": 21,
   "id": "eb196f74",
   "metadata": {
    "execution": {
     "iopub.execute_input": "2024-09-13T02:38:41.766990Z",
     "iopub.status.busy": "2024-09-13T02:38:41.766118Z",
     "iopub.status.idle": "2024-09-13T02:38:41.786287Z",
     "shell.execute_reply": "2024-09-13T02:38:41.785378Z"
    },
    "papermill": {
     "duration": 11.131648,
     "end_time": "2024-09-13T02:38:41.788109",
     "exception": false,
     "start_time": "2024-09-13T02:38:30.656461",
     "status": "completed"
    },
    "tags": []
   },
   "outputs": [
    {
     "name": "stdout",
     "output_type": "stream",
     "text": [
      "Classification Report is :                precision    recall  f1-score   support\n",
      "\n",
      "    Negative       0.89      0.89      0.89      8157\n",
      "    Positive       0.89      0.89      0.89      8343\n",
      "\n",
      "    accuracy                           0.89     16500\n",
      "   macro avg       0.89      0.89      0.89     16500\n",
      "weighted avg       0.89      0.89      0.89     16500\n",
      "\n"
     ]
    }
   ],
   "source": [
    "ClassificationReport = classification_report(y_test, y_pred, target_names=labels)\n",
    "print('Classification Report is : ', ClassificationReport) "
   ]
  },
  {
   "cell_type": "markdown",
   "id": "5c8d36a8",
   "metadata": {
    "papermill": {
     "duration": 11.004724,
     "end_time": "2024-09-13T02:39:04.044107",
     "exception": false,
     "start_time": "2024-09-13T02:38:53.039383",
     "status": "completed"
    },
    "tags": []
   },
   "source": [
    "**<a id=\"7\"></a>\n",
    "<h1><b><p style=\"background-image: url(https://i.postimg.cc/0Qwf8YX6/2927262.jpg);font-family:camtasia;font-size:110%;color:white;text-align:center;border-radius:15px 50px; padding:7px; border:solid 2px #09375b; box-shadow: 10px 10px 10px #042b4c\">SentimentIntensityAnalyzer</p></b></h1>\n",
    "<a class=\"btn\" href=\"#home\">Tabel of Contents</a>"
   ]
  },
  {
   "cell_type": "code",
   "execution_count": 22,
   "id": "a865eb4d",
   "metadata": {
    "execution": {
     "iopub.execute_input": "2024-09-13T02:39:26.250992Z",
     "iopub.status.busy": "2024-09-13T02:39:26.250297Z",
     "iopub.status.idle": "2024-09-13T02:43:55.964927Z",
     "shell.execute_reply": "2024-09-13T02:43:55.963941Z"
    },
    "papermill": {
     "duration": 292.191505,
     "end_time": "2024-09-13T02:44:07.310465",
     "exception": false,
     "start_time": "2024-09-13T02:39:15.118960",
     "status": "completed"
    },
    "tags": []
   },
   "outputs": [
    {
     "data": {
      "text/html": [
       "<div>\n",
       "<style scoped>\n",
       "    .dataframe tbody tr th:only-of-type {\n",
       "        vertical-align: middle;\n",
       "    }\n",
       "\n",
       "    .dataframe tbody tr th {\n",
       "        vertical-align: top;\n",
       "    }\n",
       "\n",
       "    .dataframe thead th {\n",
       "        text-align: right;\n",
       "    }\n",
       "</style>\n",
       "<table border=\"1\" class=\"dataframe\">\n",
       "  <thead>\n",
       "    <tr style=\"text-align: right;\">\n",
       "      <th></th>\n",
       "      <th>label</th>\n",
       "      <th>content</th>\n",
       "      <th>score</th>\n",
       "      <th>sentiment</th>\n",
       "    </tr>\n",
       "  </thead>\n",
       "  <tbody>\n",
       "    <tr>\n",
       "      <th>0</th>\n",
       "      <td>1</td>\n",
       "      <td>النعال المريحة أرتدي هذه النعال كثيرًافهي دافئ...</td>\n",
       "      <td>0.0</td>\n",
       "      <td>0</td>\n",
       "    </tr>\n",
       "    <tr>\n",
       "      <th>1</th>\n",
       "      <td>1</td>\n",
       "      <td>منتج جميل ، خدمة سيئة لقد اشتريت زوجًا من النع...</td>\n",
       "      <td>0.0</td>\n",
       "      <td>0</td>\n",
       "    </tr>\n",
       "    <tr>\n",
       "      <th>2</th>\n",
       "      <td>1</td>\n",
       "      <td>جيد للأشياء الصغيرة هذا يعمل بشكل جيد لالتقاط ...</td>\n",
       "      <td>0.0</td>\n",
       "      <td>0</td>\n",
       "    </tr>\n",
       "    <tr>\n",
       "      <th>3</th>\n",
       "      <td>0</td>\n",
       "      <td>واهية للغاية للغاية ، فأنت تشتريه ، كن حذرًا ج...</td>\n",
       "      <td>0.0</td>\n",
       "      <td>0</td>\n",
       "    </tr>\n",
       "    <tr>\n",
       "      <th>4</th>\n",
       "      <td>1</td>\n",
       "      <td>، والأشخاص الذين يحبون الضحك عليك فقط أن تبتسم...</td>\n",
       "      <td>0.0</td>\n",
       "      <td>0</td>\n",
       "    </tr>\n",
       "  </tbody>\n",
       "</table>\n",
       "</div>"
      ],
      "text/plain": [
       "   label                                            content  score  sentiment\n",
       "0      1  النعال المريحة أرتدي هذه النعال كثيرًافهي دافئ...    0.0          0\n",
       "1      1  منتج جميل ، خدمة سيئة لقد اشتريت زوجًا من النع...    0.0          0\n",
       "2      1  جيد للأشياء الصغيرة هذا يعمل بشكل جيد لالتقاط ...    0.0          0\n",
       "3      0  واهية للغاية للغاية ، فأنت تشتريه ، كن حذرًا ج...    0.0          0\n",
       "4      1  ، والأشخاص الذين يحبون الضحك عليك فقط أن تبتسم...    0.0          0"
      ]
     },
     "execution_count": 22,
     "metadata": {},
     "output_type": "execute_result"
    }
   ],
   "source": [
    "data = dataset.copy()\n",
    "sen = SentimentIntensityAnalyzer()\n",
    "data['score'] = data['content'].apply(lambda text: sen.polarity_scores(text)['compound'])\n",
    "data['sentiment'] = data['score'].apply(lambda x: 1 if x >= 0.5 else 0)\n",
    "data.head()"
   ]
  },
  {
   "cell_type": "code",
   "execution_count": 23,
   "id": "ac59e2b6",
   "metadata": {
    "execution": {
     "iopub.execute_input": "2024-09-13T02:44:29.612966Z",
     "iopub.status.busy": "2024-09-13T02:44:29.612331Z",
     "iopub.status.idle": "2024-09-13T02:44:29.868060Z",
     "shell.execute_reply": "2024-09-13T02:44:29.867070Z"
    },
    "papermill": {
     "duration": 11.441476,
     "end_time": "2024-09-13T02:44:29.870094",
     "exception": false,
     "start_time": "2024-09-13T02:44:18.428618",
     "status": "completed"
    },
    "tags": []
   },
   "outputs": [
    {
     "data": {
      "image/png": "[encoded data removed]",
      "text/plain": [
       "<Figure size 640x480 with 2 Axes>"
      ]
     },
     "metadata": {},
     "output_type": "display_data"
    },
    {
     "data": {
      "text/plain": [
       "array([[163147,      0],\n",
       "       [166853,      0]])"
      ]
     },
     "execution_count": 23,
     "metadata": {},
     "output_type": "execute_result"
    }
   ],
   "source": [
    "CM = confusion_matrix(data.label, data.sentiment)\n",
    "labels = ['Negative', 'Positive']\n",
    "sns.heatmap(CM, annot=True, center=True, fmt='g', cmap='Blues',\n",
    "            xticklabels=labels, yticklabels=labels)\n",
    "plt.xlabel('Predicted')\n",
    "plt.ylabel('Actual')\n",
    "plt.show()\n",
    "CM"
   ]
  },
  {
   "cell_type": "code",
   "execution_count": 24,
   "id": "bbfa52fe",
   "metadata": {
    "execution": {
     "iopub.execute_input": "2024-09-13T02:44:52.396297Z",
     "iopub.status.busy": "2024-09-13T02:44:52.395525Z",
     "iopub.status.idle": "2024-09-13T02:44:52.715139Z",
     "shell.execute_reply": "2024-09-13T02:44:52.714166Z"
    },
    "papermill": {
     "duration": 11.664083,
     "end_time": "2024-09-13T02:44:52.717264",
     "exception": false,
     "start_time": "2024-09-13T02:44:41.053181",
     "status": "completed"
    },
    "tags": []
   },
   "outputs": [
    {
     "name": "stdout",
     "output_type": "stream",
     "text": [
      "Classification Report is :                precision    recall  f1-score   support\n",
      "\n",
      "    Negative       0.49      1.00      0.66    163147\n",
      "    Positive       0.00      0.00      0.00    166853\n",
      "\n",
      "    accuracy                           0.49    330000\n",
      "   macro avg       0.25      0.50      0.33    330000\n",
      "weighted avg       0.24      0.49      0.33    330000\n",
      "\n"
     ]
    }
   ],
   "source": [
    "ClassificationReport = classification_report(data.label, data.sentiment, target_names=labels)\n",
    "print('Classification Report is : ', ClassificationReport) "
   ]
  },
  {
   "cell_type": "markdown",
   "id": "f60ac713",
   "metadata": {
    "papermill": {
     "duration": 11.001007,
     "end_time": "2024-09-13T02:45:14.945172",
     "exception": false,
     "start_time": "2024-09-13T02:45:03.944165",
     "status": "completed"
    },
    "tags": []
   },
   "source": [
    "**<a id=\"6\"></a>\n",
    "<h1><b><p style=\"background-image: url(https://i.postimg.cc/0Qwf8YX6/2927262.jpg);font-family:camtasia;font-size:110%;color:white;text-align:center;border-radius:15px 50px; padding:7px; border:solid 2px #09375b; box-shadow: 10px 10px 10px #042b4c\">Like this? Upvote and comment! 🌊 End</p></b></h1>\n",
    "<a class=\"btn\" href=\"#home\">Tabel of Contents</a>"
   ]
  }
 ],
 "metadata": {
  "kaggle": {
   "accelerator": "gpu",
   "dataSources": [
    {
     "datasetId": 5577640,
     "sourceId": 9222859,
     "sourceType": "datasetVersion"
    }
   ],
   "dockerImageVersionId": 30762,
   "isGpuEnabled": true,
   "isInternetEnabled": true,
   "language": "python",
   "sourceType": "notebook"
  },
  "kernelspec": {
   "display_name": "Python 3",
   "language": "python",
   "name": "python3"
  },
  "language_info": {
   "codemirror_mode": {
    "name": "ipython",
    "version": 3
   },
   "file_extension": ".py",
   "mimetype": "text/x-python",
   "name": "python",
   "nbconvert_exporter": "python",
   "pygments_lexer": "ipython3",
   "version": "3.10.14"
  },
  "papermill": {
   "default_parameters": {},
   "duration": 8804.95772,
   "end_time": "2024-09-13T02:45:29.147662",
   "environment_variables": {},
   "exception": null,
   "input_path": "__notebook__.ipynb",
   "output_path": "__notebook__.ipynb",
   "parameters": {},
   "start_time": "2024-09-13T00:18:44.189942",
   "version": "2.4.0"
  }
 },
 "nbformat": 4,
 "nbformat_minor": 5
}
