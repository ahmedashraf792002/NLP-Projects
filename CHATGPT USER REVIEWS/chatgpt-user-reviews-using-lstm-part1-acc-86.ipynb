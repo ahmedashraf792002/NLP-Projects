{
 "cells": [
  {
   "cell_type": "markdown",
   "id": "6dde4bef",
   "metadata": {
    "papermill": {
     "duration": 0.010235,
     "end_time": "2024-10-04T19:40:22.116851",
     "exception": false,
     "start_time": "2024-10-04T19:40:22.106616",
     "status": "completed"
    },
    "tags": []
   },
   "source": [
    "<h1><b><p style=\"background-image: url(https://i.postimg.cc/0Qwf8YX6/2927262.jpg);font-family:camtasia;font-size:110%;color:white;text-align:center;border-radius:15px 50px; padding:7px; border:solid 2px #09375b; box-shadow: 10px 10px 10px #042b4c\">Project Title: Arabic Sentiment Reviews</p></b></h1>\n",
    "\n",
    "### Tabel of Contents:\n",
    "\n",
    "* [Import Libraries](#1)\n",
    "* [Load Dataset](#2)\n",
    "* [Preprocessing](#3)\n",
    "* [Sequences Model](#4)\n",
    "* [Evaluation](#5)\n",
    "* [SentimentIntensityAnalyzer](#7)\n",
    "* [Like this? Upvote and comment! 🌊 End](#6)"
   ]
  },
  {
   "cell_type": "markdown",
   "id": "73e59c40",
   "metadata": {
    "papermill": {
     "duration": 0.009751,
     "end_time": "2024-10-04T19:40:22.135623",
     "exception": false,
     "start_time": "2024-10-04T19:40:22.125872",
     "status": "completed"
    },
    "tags": []
   },
   "source": [
    "**<a id=\"1\"></a>\n",
    "<h1><b><p style=\"background-image: url(https://i.postimg.cc/0Qwf8YX6/2927262.jpg);font-family:camtasia;font-size:110%;color:white;text-align:center;border-radius:15px 50px; padding:7px; border:solid 2px #09375b; box-shadow: 10px 10px 10px #042b4c\">Import Libraries</p></b></h1>\n",
    "<a class=\"btn\" href=\"#home\">Tabel of Contents</a>"
   ]
  },
  {
   "cell_type": "code",
   "execution_count": 1,
   "id": "800d14cd",
   "metadata": {
    "execution": {
     "iopub.execute_input": "2024-10-04T19:40:22.155686Z",
     "iopub.status.busy": "2024-10-04T19:40:22.154784Z",
     "iopub.status.idle": "2024-10-04T19:40:37.137089Z",
     "shell.execute_reply": "2024-10-04T19:40:37.136099Z"
    },
    "papermill": {
     "duration": 14.99505,
     "end_time": "2024-10-04T19:40:37.139508",
     "exception": false,
     "start_time": "2024-10-04T19:40:22.144458",
     "status": "completed"
    },
    "tags": []
   },
   "outputs": [
    {
     "name": "stderr",
     "output_type": "stream",
     "text": [
      "/opt/conda/lib/python3.10/site-packages/nltk/twitter/__init__.py:20: UserWarning: The twython library has not been installed. Some functionality from the twitter package will not be available.\n",
      "  warnings.warn(\"The twython library has not been installed. \"\n"
     ]
    }
   ],
   "source": [
    "from tqdm import tqdm\n",
    "import re\n",
    "import pandas as pd\n",
    "import numpy as np\n",
    "import matplotlib.pyplot as plt\n",
    "import seaborn as sns\n",
    "from sklearn.metrics import confusion_matrix\n",
    "from sklearn.metrics import classification_report\n",
    "from sklearn.metrics import confusion_matrix,classification_report\n",
    "from sklearn.model_selection import train_test_split\n",
    "from sklearn.preprocessing import LabelEncoder\n",
    "from nltk.sentiment.vader import SentimentIntensityAnalyzer\n",
    "from nltk.corpus import stopwords\n",
    "from tensorflow.keras.models import Sequential\n",
    "from tensorflow.keras.layers import Dense,LSTM,Dropout,Embedding,SpatialDropout1D\n",
    "from keras.callbacks import ModelCheckpoint,EarlyStopping\n",
    "from sklearn.feature_extraction.text import TfidfVectorizer,CountVectorizer\n",
    "import warnings\n",
    "warnings.filterwarnings('ignore')"
   ]
  },
  {
   "cell_type": "markdown",
   "id": "cf461b8e",
   "metadata": {
    "papermill": {
     "duration": 0.008684,
     "end_time": "2024-10-04T19:40:37.157484",
     "exception": false,
     "start_time": "2024-10-04T19:40:37.148800",
     "status": "completed"
    },
    "tags": []
   },
   "source": [
    "**<a id=\"2\"></a>\n",
    "<h1><b><p style=\"background-image: url(https://i.postimg.cc/0Qwf8YX6/2927262.jpg);font-family:camtasia;font-size:110%;color:white;text-align:center;border-radius:15px 50px; padding:7px; border:solid 2px #09375b; box-shadow: 10px 10px 10px #042b4c\">Load Dataset</p></b></h1>\n",
    "<a class=\"btn\" href=\"#home\">Tabel of Contents</a>"
   ]
  },
  {
   "cell_type": "code",
   "execution_count": 2,
   "id": "91ddb8be",
   "metadata": {
    "execution": {
     "iopub.execute_input": "2024-10-04T19:40:37.177230Z",
     "iopub.status.busy": "2024-10-04T19:40:37.176614Z",
     "iopub.status.idle": "2024-10-04T19:40:37.215787Z",
     "shell.execute_reply": "2024-10-04T19:40:37.214864Z"
    },
    "papermill": {
     "duration": 0.051551,
     "end_time": "2024-10-04T19:40:37.218200",
     "exception": false,
     "start_time": "2024-10-04T19:40:37.166649",
     "status": "completed"
    },
    "tags": []
   },
   "outputs": [
    {
     "data": {
      "text/html": [
       "<div>\n",
       "<style scoped>\n",
       "    .dataframe tbody tr th:only-of-type {\n",
       "        vertical-align: middle;\n",
       "    }\n",
       "\n",
       "    .dataframe tbody tr th {\n",
       "        vertical-align: top;\n",
       "    }\n",
       "\n",
       "    .dataframe thead th {\n",
       "        text-align: right;\n",
       "    }\n",
       "</style>\n",
       "<table border=\"1\" class=\"dataframe\">\n",
       "  <thead>\n",
       "    <tr style=\"text-align: right;\">\n",
       "      <th></th>\n",
       "      <th>Review</th>\n",
       "      <th>label</th>\n",
       "    </tr>\n",
       "  </thead>\n",
       "  <tbody>\n",
       "    <tr>\n",
       "      <th>0</th>\n",
       "      <td>up to this point i ’ ve mostly been using chat...</td>\n",
       "      <td>NEGATIVE</td>\n",
       "    </tr>\n",
       "    <tr>\n",
       "      <th>1</th>\n",
       "      <td>i ’ ve been a user since it ’ s initial roll o...</td>\n",
       "      <td>NEGATIVE</td>\n",
       "    </tr>\n",
       "    <tr>\n",
       "      <th>2</th>\n",
       "      <td>this app would almost be perfect if it wasn ’ ...</td>\n",
       "      <td>NEGATIVE</td>\n",
       "    </tr>\n",
       "    <tr>\n",
       "      <th>3</th>\n",
       "      <td>i recently downloaded the app and overall, it'...</td>\n",
       "      <td>POSITIVE</td>\n",
       "    </tr>\n",
       "    <tr>\n",
       "      <th>4</th>\n",
       "      <td>i appreciate the devs implementing siri suppor...</td>\n",
       "      <td>NEGATIVE</td>\n",
       "    </tr>\n",
       "  </tbody>\n",
       "</table>\n",
       "</div>"
      ],
      "text/plain": [
       "                                              Review     label\n",
       "0  up to this point i ’ ve mostly been using chat...  NEGATIVE\n",
       "1  i ’ ve been a user since it ’ s initial roll o...  NEGATIVE\n",
       "2  this app would almost be perfect if it wasn ’ ...  NEGATIVE\n",
       "3  i recently downloaded the app and overall, it'...  POSITIVE\n",
       "4  i appreciate the devs implementing siri suppor...  NEGATIVE"
      ]
     },
     "execution_count": 2,
     "metadata": {},
     "output_type": "execute_result"
    }
   ],
   "source": [
    "dataset = pd.read_csv('/kaggle/input/chatgpt-user-reviews/CHATGPT.csv')\n",
    "dataset.head()"
   ]
  },
  {
   "cell_type": "code",
   "execution_count": 3,
   "id": "6ac0773f",
   "metadata": {
    "execution": {
     "iopub.execute_input": "2024-10-04T19:40:37.237849Z",
     "iopub.status.busy": "2024-10-04T19:40:37.237562Z",
     "iopub.status.idle": "2024-10-04T19:40:37.243202Z",
     "shell.execute_reply": "2024-10-04T19:40:37.242355Z"
    },
    "papermill": {
     "duration": 0.017584,
     "end_time": "2024-10-04T19:40:37.245111",
     "exception": false,
     "start_time": "2024-10-04T19:40:37.227527",
     "status": "completed"
    },
    "tags": []
   },
   "outputs": [
    {
     "data": {
      "text/plain": [
       "(2292, 2)"
      ]
     },
     "execution_count": 3,
     "metadata": {},
     "output_type": "execute_result"
    }
   ],
   "source": [
    "dataset.shape"
   ]
  },
  {
   "cell_type": "code",
   "execution_count": 4,
   "id": "020654f5",
   "metadata": {
    "execution": {
     "iopub.execute_input": "2024-10-04T19:40:37.265158Z",
     "iopub.status.busy": "2024-10-04T19:40:37.264838Z",
     "iopub.status.idle": "2024-10-04T19:40:37.290638Z",
     "shell.execute_reply": "2024-10-04T19:40:37.289602Z"
    },
    "papermill": {
     "duration": 0.03876,
     "end_time": "2024-10-04T19:40:37.293068",
     "exception": false,
     "start_time": "2024-10-04T19:40:37.254308",
     "status": "completed"
    },
    "tags": []
   },
   "outputs": [
    {
     "name": "stdout",
     "output_type": "stream",
     "text": [
      "<class 'pandas.core.frame.DataFrame'>\n",
      "RangeIndex: 2292 entries, 0 to 2291\n",
      "Data columns (total 2 columns):\n",
      " #   Column  Non-Null Count  Dtype \n",
      "---  ------  --------------  ----- \n",
      " 0   Review  2249 non-null   object\n",
      " 1   label   2292 non-null   object\n",
      "dtypes: object(2)\n",
      "memory usage: 35.9+ KB\n"
     ]
    }
   ],
   "source": [
    "dataset.info()"
   ]
  },
  {
   "cell_type": "code",
   "execution_count": 5,
   "id": "3f6b58ba",
   "metadata": {
    "execution": {
     "iopub.execute_input": "2024-10-04T19:40:37.313349Z",
     "iopub.status.busy": "2024-10-04T19:40:37.312792Z",
     "iopub.status.idle": "2024-10-04T19:40:37.320358Z",
     "shell.execute_reply": "2024-10-04T19:40:37.319437Z"
    },
    "papermill": {
     "duration": 0.020075,
     "end_time": "2024-10-04T19:40:37.322569",
     "exception": false,
     "start_time": "2024-10-04T19:40:37.302494",
     "status": "completed"
    },
    "tags": []
   },
   "outputs": [
    {
     "data": {
      "text/plain": [
       "Review    43\n",
       "label      0\n",
       "dtype: int64"
      ]
     },
     "execution_count": 5,
     "metadata": {},
     "output_type": "execute_result"
    }
   ],
   "source": [
    "dataset.isna().sum()"
   ]
  },
  {
   "cell_type": "code",
   "execution_count": 6,
   "id": "45178419",
   "metadata": {
    "execution": {
     "iopub.execute_input": "2024-10-04T19:40:37.344086Z",
     "iopub.status.busy": "2024-10-04T19:40:37.343428Z",
     "iopub.status.idle": "2024-10-04T19:40:37.350566Z",
     "shell.execute_reply": "2024-10-04T19:40:37.349708Z"
    },
    "papermill": {
     "duration": 0.019665,
     "end_time": "2024-10-04T19:40:37.352434",
     "exception": false,
     "start_time": "2024-10-04T19:40:37.332769",
     "status": "completed"
    },
    "tags": []
   },
   "outputs": [],
   "source": [
    "dataset.dropna(inplace=True)"
   ]
  },
  {
   "cell_type": "code",
   "execution_count": 7,
   "id": "5605a50c",
   "metadata": {
    "execution": {
     "iopub.execute_input": "2024-10-04T19:40:37.373317Z",
     "iopub.status.busy": "2024-10-04T19:40:37.372488Z",
     "iopub.status.idle": "2024-10-04T19:40:37.382887Z",
     "shell.execute_reply": "2024-10-04T19:40:37.381956Z"
    },
    "papermill": {
     "duration": 0.023076,
     "end_time": "2024-10-04T19:40:37.384984",
     "exception": false,
     "start_time": "2024-10-04T19:40:37.361908",
     "status": "completed"
    },
    "tags": []
   },
   "outputs": [
    {
     "data": {
      "text/plain": [
       "label\n",
       "NEGATIVE    1263\n",
       "POSITIVE     986\n",
       "Name: count, dtype: int64"
      ]
     },
     "execution_count": 7,
     "metadata": {},
     "output_type": "execute_result"
    }
   ],
   "source": [
    "dataset.label.value_counts()"
   ]
  },
  {
   "cell_type": "code",
   "execution_count": 8,
   "id": "34ddd202",
   "metadata": {
    "execution": {
     "iopub.execute_input": "2024-10-04T19:40:37.406632Z",
     "iopub.status.busy": "2024-10-04T19:40:37.406324Z",
     "iopub.status.idle": "2024-10-04T19:40:37.687091Z",
     "shell.execute_reply": "2024-10-04T19:40:37.686115Z"
    },
    "papermill": {
     "duration": 0.293632,
     "end_time": "2024-10-04T19:40:37.689246",
     "exception": false,
     "start_time": "2024-10-04T19:40:37.395614",
     "status": "completed"
    },
    "tags": []
   },
   "outputs": [
    {
     "data": {
      "image/png": "[encoded data removed]",
      "text/plain": [
       "<Figure size 640x480 with 1 Axes>"
      ]
     },
     "metadata": {},
     "output_type": "display_data"
    }
   ],
   "source": [
    "plt.style.use('dark_background')\n",
    "ax = sns.countplot(x='label', data=dataset, palette='Set1')\n",
    "plt.title('Distribution Of Target', fontsize=20)\n",
    "plt.xlabel('Target', fontsize=20)\n",
    "plt.ylabel('Count', fontsize=20)\n",
    "#ax.set_xticklabels(['Negative','Positive'])\n",
    "plt.grid(True)\n",
    "plt.xticks(rotation=45)\n",
    "plt.yticks(rotation=45)\n",
    "for p in ax.patches:\n",
    "    ax.annotate(f'{p.get_height()}', (p.get_x() + p.get_width() / 2., p.get_height()), \n",
    "                ha='center', va='baseline', fontsize=12)\n",
    "plt.show()"
   ]
  },
  {
   "cell_type": "markdown",
   "id": "25382ad4",
   "metadata": {
    "papermill": {
     "duration": 0.010315,
     "end_time": "2024-10-04T19:40:37.710052",
     "exception": false,
     "start_time": "2024-10-04T19:40:37.699737",
     "status": "completed"
    },
    "tags": []
   },
   "source": [
    "**<a id=\"3\"></a>\n",
    "<h1><b><p style=\"background-image: url(https://i.postimg.cc/0Qwf8YX6/2927262.jpg);font-family:camtasia;font-size:110%;color:white;text-align:center;border-radius:15px 50px; padding:7px; border:solid 2px #09375b; box-shadow: 10px 10px 10px #042b4c\">Preprocessing</p></b></h1>\n",
    "<a class=\"btn\" href=\"#home\">Tabel of Contents</a>"
   ]
  },
  {
   "cell_type": "code",
   "execution_count": 9,
   "id": "a44de7af",
   "metadata": {
    "execution": {
     "iopub.execute_input": "2024-10-04T19:40:37.732407Z",
     "iopub.status.busy": "2024-10-04T19:40:37.732041Z",
     "iopub.status.idle": "2024-10-04T19:40:37.737310Z",
     "shell.execute_reply": "2024-10-04T19:40:37.736245Z"
    },
    "id": "ypT8KGM6d9F-",
    "papermill": {
     "duration": 0.018676,
     "end_time": "2024-10-04T19:40:37.739315",
     "exception": false,
     "start_time": "2024-10-04T19:40:37.720639",
     "status": "completed"
    },
    "tags": []
   },
   "outputs": [],
   "source": [
    "def clean_text(text):\n",
    "    # Remove non-alphanumeric characters and extra whitespace\n",
    "    text = re.sub(r'[^a-zA-Z\\s]', '', text)\n",
    "    # Convert multiple whitespace characters to a single space\n",
    "    text = re.sub(r'\\s+', ' ', text)\n",
    "    # Convert the text to lowercase\n",
    "    text = text.lower()\n",
    "    return text"
   ]
  },
  {
   "cell_type": "code",
   "execution_count": 10,
   "id": "d8941da0",
   "metadata": {
    "execution": {
     "iopub.execute_input": "2024-10-04T19:40:37.761553Z",
     "iopub.status.busy": "2024-10-04T19:40:37.761250Z",
     "iopub.status.idle": "2024-10-04T19:40:37.768277Z",
     "shell.execute_reply": "2024-10-04T19:40:37.767316Z"
    },
    "id": "txEqacW4eFKe",
    "outputId": "be2efb0d-7440-4a6b-921f-b39d3fa23543",
    "papermill": {
     "duration": 0.020531,
     "end_time": "2024-10-04T19:40:37.770620",
     "exception": false,
     "start_time": "2024-10-04T19:40:37.750089",
     "status": "completed"
    },
    "tags": []
   },
   "outputs": [
    {
     "data": {
      "text/plain": [
       "('POSITIVE',\n",
       " 'i ’ m pleased with my mobile chatgpt experience so far. it feels even more conversational and almost like a messages chat. i also like that you can search through all your previous chats. and using whisper to prompt gpt already feels like one half of a supercharged siri / alexa experience. however, i ’ d love to be able to enable beta features as a plus user. as far as i can tell from exploring the app, there isn ’ t a direct way to enable browsing or plugins yet. i have been able to start a chat with browser / plugins on web and then continue in app with the same capabilities. anyways, i know we ’ re only a day in. excited to see all the possible new ways to interface with agents!')"
      ]
     },
     "execution_count": 10,
     "metadata": {},
     "output_type": "execute_result"
    }
   ],
   "source": [
    "dataset.label[50],dataset.Review[50]"
   ]
  },
  {
   "cell_type": "code",
   "execution_count": 11,
   "id": "2cad2e32",
   "metadata": {
    "execution": {
     "iopub.execute_input": "2024-10-04T19:40:37.798945Z",
     "iopub.status.busy": "2024-10-04T19:40:37.798570Z",
     "iopub.status.idle": "2024-10-04T19:40:37.805308Z",
     "shell.execute_reply": "2024-10-04T19:40:37.804575Z"
    },
    "id": "8YJznZpueIS1",
    "outputId": "6debbf34-616a-487b-f1fb-5d837add3beb",
    "papermill": {
     "duration": 0.022058,
     "end_time": "2024-10-04T19:40:37.807239",
     "exception": false,
     "start_time": "2024-10-04T19:40:37.785181",
     "status": "completed"
    },
    "tags": []
   },
   "outputs": [
    {
     "data": {
      "text/plain": [
       "('POSITIVE',\n",
       " 'i m pleased with my mobile chatgpt experience so far it feels even more conversational and almost like a messages chat i also like that you can search through all your previous chats and using whisper to prompt gpt already feels like one half of a supercharged siri alexa experience however i d love to be able to enable beta features as a plus user as far as i can tell from exploring the app there isn t a direct way to enable browsing or plugins yet i have been able to start a chat with browser plugins on web and then continue in app with the same capabilities anyways i know we re only a day in excited to see all the possible new ways to interface with agents')"
      ]
     },
     "execution_count": 11,
     "metadata": {},
     "output_type": "execute_result"
    }
   ],
   "source": [
    "dataset.label[50],clean_text(dataset.Review[50])"
   ]
  },
  {
   "cell_type": "code",
   "execution_count": 12,
   "id": "a9f61e11",
   "metadata": {
    "execution": {
     "iopub.execute_input": "2024-10-04T19:40:37.830091Z",
     "iopub.status.busy": "2024-10-04T19:40:37.829286Z",
     "iopub.status.idle": "2024-10-04T19:40:37.901558Z",
     "shell.execute_reply": "2024-10-04T19:40:37.900669Z"
    },
    "id": "2pXfPwqHerNc",
    "outputId": "da864222-cd1a-4c92-8544-71eb152373c5",
    "papermill": {
     "duration": 0.085794,
     "end_time": "2024-10-04T19:40:37.903791",
     "exception": false,
     "start_time": "2024-10-04T19:40:37.817997",
     "status": "completed"
    },
    "tags": []
   },
   "outputs": [
    {
     "data": {
      "text/html": [
       "<div>\n",
       "<style scoped>\n",
       "    .dataframe tbody tr th:only-of-type {\n",
       "        vertical-align: middle;\n",
       "    }\n",
       "\n",
       "    .dataframe tbody tr th {\n",
       "        vertical-align: top;\n",
       "    }\n",
       "\n",
       "    .dataframe thead th {\n",
       "        text-align: right;\n",
       "    }\n",
       "</style>\n",
       "<table border=\"1\" class=\"dataframe\">\n",
       "  <thead>\n",
       "    <tr style=\"text-align: right;\">\n",
       "      <th></th>\n",
       "      <th>Review</th>\n",
       "      <th>label</th>\n",
       "    </tr>\n",
       "  </thead>\n",
       "  <tbody>\n",
       "    <tr>\n",
       "      <th>0</th>\n",
       "      <td>up to this point i ve mostly been using chatgp...</td>\n",
       "      <td>NEGATIVE</td>\n",
       "    </tr>\n",
       "    <tr>\n",
       "      <th>1</th>\n",
       "      <td>i ve been a user since it s initial roll out a...</td>\n",
       "      <td>NEGATIVE</td>\n",
       "    </tr>\n",
       "    <tr>\n",
       "      <th>2</th>\n",
       "      <td>this app would almost be perfect if it wasn t ...</td>\n",
       "      <td>NEGATIVE</td>\n",
       "    </tr>\n",
       "    <tr>\n",
       "      <th>3</th>\n",
       "      <td>i recently downloaded the app and overall its ...</td>\n",
       "      <td>POSITIVE</td>\n",
       "    </tr>\n",
       "    <tr>\n",
       "      <th>4</th>\n",
       "      <td>i appreciate the devs implementing siri suppor...</td>\n",
       "      <td>NEGATIVE</td>\n",
       "    </tr>\n",
       "  </tbody>\n",
       "</table>\n",
       "</div>"
      ],
      "text/plain": [
       "                                              Review     label\n",
       "0  up to this point i ve mostly been using chatgp...  NEGATIVE\n",
       "1  i ve been a user since it s initial roll out a...  NEGATIVE\n",
       "2  this app would almost be perfect if it wasn t ...  NEGATIVE\n",
       "3  i recently downloaded the app and overall its ...  POSITIVE\n",
       "4  i appreciate the devs implementing siri suppor...  NEGATIVE"
      ]
     },
     "execution_count": 12,
     "metadata": {},
     "output_type": "execute_result"
    }
   ],
   "source": [
    "dataset.Review = dataset.Review.apply(clean_text)\n",
    "dataset.head()"
   ]
  },
  {
   "cell_type": "code",
   "execution_count": 13,
   "id": "202233da",
   "metadata": {
    "execution": {
     "iopub.execute_input": "2024-10-04T19:40:37.928464Z",
     "iopub.status.busy": "2024-10-04T19:40:37.928168Z",
     "iopub.status.idle": "2024-10-04T19:40:38.052745Z",
     "shell.execute_reply": "2024-10-04T19:40:38.051966Z"
    },
    "papermill": {
     "duration": 0.139655,
     "end_time": "2024-10-04T19:40:38.055384",
     "exception": false,
     "start_time": "2024-10-04T19:40:37.915729",
     "status": "completed"
    },
    "tags": []
   },
   "outputs": [],
   "source": [
    "tfidf = TfidfVectorizer()\n",
    "X_train_tfidf = tfidf.fit_transform(dataset.Review)"
   ]
  },
  {
   "cell_type": "code",
   "execution_count": 14,
   "id": "f6396582",
   "metadata": {
    "execution": {
     "iopub.execute_input": "2024-10-04T19:40:38.078964Z",
     "iopub.status.busy": "2024-10-04T19:40:38.078606Z",
     "iopub.status.idle": "2024-10-04T19:40:38.089394Z",
     "shell.execute_reply": "2024-10-04T19:40:38.088475Z"
    },
    "papermill": {
     "duration": 0.025514,
     "end_time": "2024-10-04T19:40:38.092134",
     "exception": false,
     "start_time": "2024-10-04T19:40:38.066620",
     "status": "completed"
    },
    "tags": []
   },
   "outputs": [
    {
     "data": {
      "text/html": [
       "<div>\n",
       "<style scoped>\n",
       "    .dataframe tbody tr th:only-of-type {\n",
       "        vertical-align: middle;\n",
       "    }\n",
       "\n",
       "    .dataframe tbody tr th {\n",
       "        vertical-align: top;\n",
       "    }\n",
       "\n",
       "    .dataframe thead th {\n",
       "        text-align: right;\n",
       "    }\n",
       "</style>\n",
       "<table border=\"1\" class=\"dataframe\">\n",
       "  <thead>\n",
       "    <tr style=\"text-align: right;\">\n",
       "      <th></th>\n",
       "      <th>Review</th>\n",
       "      <th>label</th>\n",
       "    </tr>\n",
       "  </thead>\n",
       "  <tbody>\n",
       "    <tr>\n",
       "      <th>0</th>\n",
       "      <td>up to this point i ve mostly been using chatgp...</td>\n",
       "      <td>0</td>\n",
       "    </tr>\n",
       "    <tr>\n",
       "      <th>1</th>\n",
       "      <td>i ve been a user since it s initial roll out a...</td>\n",
       "      <td>0</td>\n",
       "    </tr>\n",
       "    <tr>\n",
       "      <th>2</th>\n",
       "      <td>this app would almost be perfect if it wasn t ...</td>\n",
       "      <td>0</td>\n",
       "    </tr>\n",
       "    <tr>\n",
       "      <th>3</th>\n",
       "      <td>i recently downloaded the app and overall its ...</td>\n",
       "      <td>1</td>\n",
       "    </tr>\n",
       "    <tr>\n",
       "      <th>4</th>\n",
       "      <td>i appreciate the devs implementing siri suppor...</td>\n",
       "      <td>0</td>\n",
       "    </tr>\n",
       "  </tbody>\n",
       "</table>\n",
       "</div>"
      ],
      "text/plain": [
       "                                              Review  label\n",
       "0  up to this point i ve mostly been using chatgp...      0\n",
       "1  i ve been a user since it s initial roll out a...      0\n",
       "2  this app would almost be perfect if it wasn t ...      0\n",
       "3  i recently downloaded the app and overall its ...      1\n",
       "4  i appreciate the devs implementing siri suppor...      0"
      ]
     },
     "execution_count": 14,
     "metadata": {},
     "output_type": "execute_result"
    }
   ],
   "source": [
    "encoder = LabelEncoder()\n",
    "dataset.label = encoder.fit_transform(dataset.label)\n",
    "dataset.head()"
   ]
  },
  {
   "cell_type": "code",
   "execution_count": 15,
   "id": "e097760b",
   "metadata": {
    "execution": {
     "iopub.execute_input": "2024-10-04T19:40:38.115644Z",
     "iopub.status.busy": "2024-10-04T19:40:38.115309Z",
     "iopub.status.idle": "2024-10-04T19:40:38.127153Z",
     "shell.execute_reply": "2024-10-04T19:40:38.126168Z"
    },
    "papermill": {
     "duration": 0.026025,
     "end_time": "2024-10-04T19:40:38.129295",
     "exception": false,
     "start_time": "2024-10-04T19:40:38.103270",
     "status": "completed"
    },
    "tags": []
   },
   "outputs": [
    {
     "name": "stdout",
     "output_type": "stream",
     "text": [
      "X_train shape is  (1799, 6113)\n",
      "X_test shape is  (450, 6113)\n",
      "y_train shape is  (1799,)\n",
      "y_test shape is  (450,)\n"
     ]
    }
   ],
   "source": [
    "### Split\n",
    "X_train, X_test, y_train, y_test = train_test_split(X_train_tfidf, dataset.label, test_size=0.2, random_state=44, shuffle =True,stratify=dataset.label)\n",
    "print('X_train shape is ' , X_train.shape)\n",
    "print('X_test shape is ' , X_test.shape)\n",
    "print('y_train shape is ' , y_train.shape)\n",
    "print('y_test shape is ' , y_test.shape)"
   ]
  },
  {
   "cell_type": "code",
   "execution_count": 16,
   "id": "93959a49",
   "metadata": {
    "execution": {
     "iopub.execute_input": "2024-10-04T19:40:38.153216Z",
     "iopub.status.busy": "2024-10-04T19:40:38.152842Z",
     "iopub.status.idle": "2024-10-04T19:40:38.240465Z",
     "shell.execute_reply": "2024-10-04T19:40:38.239610Z"
    },
    "papermill": {
     "duration": 0.102076,
     "end_time": "2024-10-04T19:40:38.242812",
     "exception": false,
     "start_time": "2024-10-04T19:40:38.140736",
     "status": "completed"
    },
    "tags": []
   },
   "outputs": [],
   "source": [
    "X_train_dense = X_train.toarray().reshape(X_train.shape[0], 1, X_train.shape[1])\n",
    "X_test_dense = X_test.toarray().reshape(X_test.shape[0], 1, X_test.shape[1])"
   ]
  },
  {
   "cell_type": "markdown",
   "id": "a6076ce2",
   "metadata": {
    "papermill": {
     "duration": 0.010839,
     "end_time": "2024-10-04T19:40:38.265074",
     "exception": false,
     "start_time": "2024-10-04T19:40:38.254235",
     "status": "completed"
    },
    "tags": []
   },
   "source": [
    "**<a id=\"4\"></a>\n",
    "<h1><b><p style=\"background-image: url(https://i.postimg.cc/0Qwf8YX6/2927262.jpg);font-family:camtasia;font-size:110%;color:white;text-align:center;border-radius:15px 50px; padding:7px; border:solid 2px #09375b; box-shadow: 10px 10px 10px #042b4c\">Sequences Model</p></b></h1>\n",
    "<a class=\"btn\" href=\"#home\">Tabel of Contents</a>"
   ]
  },
  {
   "cell_type": "code",
   "execution_count": 17,
   "id": "e1274091",
   "metadata": {
    "execution": {
     "iopub.execute_input": "2024-10-04T19:40:38.289996Z",
     "iopub.status.busy": "2024-10-04T19:40:38.289449Z",
     "iopub.status.idle": "2024-10-04T19:40:39.562682Z",
     "shell.execute_reply": "2024-10-04T19:40:39.561736Z"
    },
    "id": "X2qcZkzMfE1m",
    "outputId": "ce19ccf1-0a97-4f64-895e-83c5be04febf",
    "papermill": {
     "duration": 1.288303,
     "end_time": "2024-10-04T19:40:39.564816",
     "exception": false,
     "start_time": "2024-10-04T19:40:38.276513",
     "status": "completed"
    },
    "tags": []
   },
   "outputs": [
    {
     "data": {
      "text/html": [
       "<pre style=\"white-space:pre;overflow-x:auto;line-height:normal;font-family:Menlo,'DejaVu Sans Mono',consolas,'Courier New',monospace\"><span style=\"font-weight: bold\">Model: \"sequential\"</span>\n",
       "</pre>\n"
      ],
      "text/plain": [
       "\u001b[1mModel: \"sequential\"\u001b[0m\n"
      ]
     },
     "metadata": {},
     "output_type": "display_data"
    },
    {
     "data": {
      "text/html": [
       "<pre style=\"white-space:pre;overflow-x:auto;line-height:normal;font-family:Menlo,'DejaVu Sans Mono',consolas,'Courier New',monospace\">┏━━━━━━━━━━━━━━━━━━━━━━━━━━━━━━━━━┳━━━━━━━━━━━━━━━━━━━━━━━━┳━━━━━━━━━━━━━━━┓\n",
       "┃<span style=\"font-weight: bold\"> Layer (type)                    </span>┃<span style=\"font-weight: bold\"> Output Shape           </span>┃<span style=\"font-weight: bold\">       Param # </span>┃\n",
       "┡━━━━━━━━━━━━━━━━━━━━━━━━━━━━━━━━━╇━━━━━━━━━━━━━━━━━━━━━━━━╇━━━━━━━━━━━━━━━┩\n",
       "│ lstm (<span style=\"color: #0087ff; text-decoration-color: #0087ff\">LSTM</span>)                     │ (<span style=\"color: #00d7ff; text-decoration-color: #00d7ff\">None</span>, <span style=\"color: #00af00; text-decoration-color: #00af00\">1</span>, <span style=\"color: #00af00; text-decoration-color: #00af00\">25</span>)          │       <span style=\"color: #00af00; text-decoration-color: #00af00\">613,900</span> │\n",
       "├─────────────────────────────────┼────────────────────────┼───────────────┤\n",
       "│ dropout (<span style=\"color: #0087ff; text-decoration-color: #0087ff\">Dropout</span>)               │ (<span style=\"color: #00d7ff; text-decoration-color: #00d7ff\">None</span>, <span style=\"color: #00af00; text-decoration-color: #00af00\">1</span>, <span style=\"color: #00af00; text-decoration-color: #00af00\">25</span>)          │             <span style=\"color: #00af00; text-decoration-color: #00af00\">0</span> │\n",
       "├─────────────────────────────────┼────────────────────────┼───────────────┤\n",
       "│ lstm_1 (<span style=\"color: #0087ff; text-decoration-color: #0087ff\">LSTM</span>)                   │ (<span style=\"color: #00d7ff; text-decoration-color: #00d7ff\">None</span>, <span style=\"color: #00af00; text-decoration-color: #00af00\">1</span>, <span style=\"color: #00af00; text-decoration-color: #00af00\">25</span>)          │         <span style=\"color: #00af00; text-decoration-color: #00af00\">5,100</span> │\n",
       "├─────────────────────────────────┼────────────────────────┼───────────────┤\n",
       "│ dropout_1 (<span style=\"color: #0087ff; text-decoration-color: #0087ff\">Dropout</span>)             │ (<span style=\"color: #00d7ff; text-decoration-color: #00d7ff\">None</span>, <span style=\"color: #00af00; text-decoration-color: #00af00\">1</span>, <span style=\"color: #00af00; text-decoration-color: #00af00\">25</span>)          │             <span style=\"color: #00af00; text-decoration-color: #00af00\">0</span> │\n",
       "├─────────────────────────────────┼────────────────────────┼───────────────┤\n",
       "│ lstm_2 (<span style=\"color: #0087ff; text-decoration-color: #0087ff\">LSTM</span>)                   │ (<span style=\"color: #00d7ff; text-decoration-color: #00d7ff\">None</span>, <span style=\"color: #00af00; text-decoration-color: #00af00\">25</span>)             │         <span style=\"color: #00af00; text-decoration-color: #00af00\">5,100</span> │\n",
       "├─────────────────────────────────┼────────────────────────┼───────────────┤\n",
       "│ dense (<span style=\"color: #0087ff; text-decoration-color: #0087ff\">Dense</span>)                   │ (<span style=\"color: #00d7ff; text-decoration-color: #00d7ff\">None</span>, <span style=\"color: #00af00; text-decoration-color: #00af00\">1</span>)              │            <span style=\"color: #00af00; text-decoration-color: #00af00\">26</span> │\n",
       "└─────────────────────────────────┴────────────────────────┴───────────────┘\n",
       "</pre>\n"
      ],
      "text/plain": [
       "┏━━━━━━━━━━━━━━━━━━━━━━━━━━━━━━━━━┳━━━━━━━━━━━━━━━━━━━━━━━━┳━━━━━━━━━━━━━━━┓\n",
       "┃\u001b[1m \u001b[0m\u001b[1mLayer (type)                   \u001b[0m\u001b[1m \u001b[0m┃\u001b[1m \u001b[0m\u001b[1mOutput Shape          \u001b[0m\u001b[1m \u001b[0m┃\u001b[1m \u001b[0m\u001b[1m      Param #\u001b[0m\u001b[1m \u001b[0m┃\n",
       "┡━━━━━━━━━━━━━━━━━━━━━━━━━━━━━━━━━╇━━━━━━━━━━━━━━━━━━━━━━━━╇━━━━━━━━━━━━━━━┩\n",
       "│ lstm (\u001b[38;5;33mLSTM\u001b[0m)                     │ (\u001b[38;5;45mNone\u001b[0m, \u001b[38;5;34m1\u001b[0m, \u001b[38;5;34m25\u001b[0m)          │       \u001b[38;5;34m613,900\u001b[0m │\n",
       "├─────────────────────────────────┼────────────────────────┼───────────────┤\n",
       "│ dropout (\u001b[38;5;33mDropout\u001b[0m)               │ (\u001b[38;5;45mNone\u001b[0m, \u001b[38;5;34m1\u001b[0m, \u001b[38;5;34m25\u001b[0m)          │             \u001b[38;5;34m0\u001b[0m │\n",
       "├─────────────────────────────────┼────────────────────────┼───────────────┤\n",
       "│ lstm_1 (\u001b[38;5;33mLSTM\u001b[0m)                   │ (\u001b[38;5;45mNone\u001b[0m, \u001b[38;5;34m1\u001b[0m, \u001b[38;5;34m25\u001b[0m)          │         \u001b[38;5;34m5,100\u001b[0m │\n",
       "├─────────────────────────────────┼────────────────────────┼───────────────┤\n",
       "│ dropout_1 (\u001b[38;5;33mDropout\u001b[0m)             │ (\u001b[38;5;45mNone\u001b[0m, \u001b[38;5;34m1\u001b[0m, \u001b[38;5;34m25\u001b[0m)          │             \u001b[38;5;34m0\u001b[0m │\n",
       "├─────────────────────────────────┼────────────────────────┼───────────────┤\n",
       "│ lstm_2 (\u001b[38;5;33mLSTM\u001b[0m)                   │ (\u001b[38;5;45mNone\u001b[0m, \u001b[38;5;34m25\u001b[0m)             │         \u001b[38;5;34m5,100\u001b[0m │\n",
       "├─────────────────────────────────┼────────────────────────┼───────────────┤\n",
       "│ dense (\u001b[38;5;33mDense\u001b[0m)                   │ (\u001b[38;5;45mNone\u001b[0m, \u001b[38;5;34m1\u001b[0m)              │            \u001b[38;5;34m26\u001b[0m │\n",
       "└─────────────────────────────────┴────────────────────────┴───────────────┘\n"
      ]
     },
     "metadata": {},
     "output_type": "display_data"
    },
    {
     "data": {
      "text/html": [
       "<pre style=\"white-space:pre;overflow-x:auto;line-height:normal;font-family:Menlo,'DejaVu Sans Mono',consolas,'Courier New',monospace\"><span style=\"font-weight: bold\"> Total params: </span><span style=\"color: #00af00; text-decoration-color: #00af00\">624,126</span> (2.38 MB)\n",
       "</pre>\n"
      ],
      "text/plain": [
       "\u001b[1m Total params: \u001b[0m\u001b[38;5;34m624,126\u001b[0m (2.38 MB)\n"
      ]
     },
     "metadata": {},
     "output_type": "display_data"
    },
    {
     "data": {
      "text/html": [
       "<pre style=\"white-space:pre;overflow-x:auto;line-height:normal;font-family:Menlo,'DejaVu Sans Mono',consolas,'Courier New',monospace\"><span style=\"font-weight: bold\"> Trainable params: </span><span style=\"color: #00af00; text-decoration-color: #00af00\">624,126</span> (2.38 MB)\n",
       "</pre>\n"
      ],
      "text/plain": [
       "\u001b[1m Trainable params: \u001b[0m\u001b[38;5;34m624,126\u001b[0m (2.38 MB)\n"
      ]
     },
     "metadata": {},
     "output_type": "display_data"
    },
    {
     "data": {
      "text/html": [
       "<pre style=\"white-space:pre;overflow-x:auto;line-height:normal;font-family:Menlo,'DejaVu Sans Mono',consolas,'Courier New',monospace\"><span style=\"font-weight: bold\"> Non-trainable params: </span><span style=\"color: #00af00; text-decoration-color: #00af00\">0</span> (0.00 B)\n",
       "</pre>\n"
      ],
      "text/plain": [
       "\u001b[1m Non-trainable params: \u001b[0m\u001b[38;5;34m0\u001b[0m (0.00 B)\n"
      ]
     },
     "metadata": {},
     "output_type": "display_data"
    }
   ],
   "source": [
    "model = Sequential()\n",
    "model.add(LSTM(units=25, return_sequences=True, input_shape=(1, X_train.shape[1])))\n",
    "model.add(Dropout(rate=0.2))\n",
    "model.add(LSTM(units=25, return_sequences=True))\n",
    "model.add(Dropout(rate=0.2))\n",
    "model.add(LSTM(units=25))\n",
    "model.add(Dense(1, activation='sigmoid'))\n",
    "model.summary()"
   ]
  },
  {
   "cell_type": "code",
   "execution_count": 18,
   "id": "8710dd2b",
   "metadata": {
    "execution": {
     "iopub.execute_input": "2024-10-04T19:40:39.589853Z",
     "iopub.status.busy": "2024-10-04T19:40:39.589532Z",
     "iopub.status.idle": "2024-10-04T19:40:50.086777Z",
     "shell.execute_reply": "2024-10-04T19:40:50.085962Z"
    },
    "id": "aZuwWB5tfNrd",
    "outputId": "a686bd46-7ca2-4b2b-c344-ab53e702b532",
    "papermill": {
     "duration": 10.512108,
     "end_time": "2024-10-04T19:40:50.088951",
     "exception": false,
     "start_time": "2024-10-04T19:40:39.576843",
     "status": "completed"
    },
    "tags": []
   },
   "outputs": [
    {
     "name": "stdout",
     "output_type": "stream",
     "text": [
      "Epoch 1/50\n",
      "\u001b[1m51/51\u001b[0m \u001b[32m━━━━━━━━━━━━━━━━━━━━\u001b[0m\u001b[37m\u001b[0m \u001b[1m6s\u001b[0m 16ms/step - accuracy: 0.5054 - loss: 0.6924 - val_accuracy: 0.5444 - val_loss: 0.6886\n",
      "Epoch 2/50\n",
      "\u001b[1m51/51\u001b[0m \u001b[32m━━━━━━━━━━━━━━━━━━━━\u001b[0m\u001b[37m\u001b[0m \u001b[1m0s\u001b[0m 8ms/step - accuracy: 0.5484 - loss: 0.6832 - val_accuracy: 0.5444 - val_loss: 0.6460\n",
      "Epoch 3/50\n",
      "\u001b[1m51/51\u001b[0m \u001b[32m━━━━━━━━━━━━━━━━━━━━\u001b[0m\u001b[37m\u001b[0m \u001b[1m0s\u001b[0m 8ms/step - accuracy: 0.6036 - loss: 0.5907 - val_accuracy: 0.7889 - val_loss: 0.4925\n",
      "Epoch 4/50\n",
      "\u001b[1m51/51\u001b[0m \u001b[32m━━━━━━━━━━━━━━━━━━━━\u001b[0m\u001b[37m\u001b[0m \u001b[1m0s\u001b[0m 8ms/step - accuracy: 0.8620 - loss: 0.3886 - val_accuracy: 0.8667 - val_loss: 0.3962\n",
      "Epoch 5/50\n",
      "\u001b[1m51/51\u001b[0m \u001b[32m━━━━━━━━━━━━━━━━━━━━\u001b[0m\u001b[37m\u001b[0m \u001b[1m0s\u001b[0m 8ms/step - accuracy: 0.9384 - loss: 0.2435 - val_accuracy: 0.8722 - val_loss: 0.3563\n",
      "Epoch 6/50\n",
      "\u001b[1m51/51\u001b[0m \u001b[32m━━━━━━━━━━━━━━━━━━━━\u001b[0m\u001b[37m\u001b[0m \u001b[1m1s\u001b[0m 10ms/step - accuracy: 0.9577 - loss: 0.1492 - val_accuracy: 0.8667 - val_loss: 0.3534\n",
      "Epoch 7/50\n",
      "\u001b[1m51/51\u001b[0m \u001b[32m━━━━━━━━━━━━━━━━━━━━\u001b[0m\u001b[37m\u001b[0m \u001b[1m0s\u001b[0m 8ms/step - accuracy: 0.9735 - loss: 0.0907 - val_accuracy: 0.8778 - val_loss: 0.3450\n",
      "Epoch 8/50\n",
      "\u001b[1m51/51\u001b[0m \u001b[32m━━━━━━━━━━━━━━━━━━━━\u001b[0m\u001b[37m\u001b[0m \u001b[1m0s\u001b[0m 7ms/step - accuracy: 0.9854 - loss: 0.0701 - val_accuracy: 0.8667 - val_loss: 0.3613\n",
      "Epoch 9/50\n",
      "\u001b[1m51/51\u001b[0m \u001b[32m━━━━━━━━━━━━━━━━━━━━\u001b[0m\u001b[37m\u001b[0m \u001b[1m0s\u001b[0m 7ms/step - accuracy: 0.9855 - loss: 0.0534 - val_accuracy: 0.8722 - val_loss: 0.3825\n",
      "Epoch 10/50\n",
      "\u001b[1m51/51\u001b[0m \u001b[32m━━━━━━━━━━━━━━━━━━━━\u001b[0m\u001b[37m\u001b[0m \u001b[1m0s\u001b[0m 7ms/step - accuracy: 0.9905 - loss: 0.0442 - val_accuracy: 0.8722 - val_loss: 0.3984\n",
      "Epoch 11/50\n",
      "\u001b[1m51/51\u001b[0m \u001b[32m━━━━━━━━━━━━━━━━━━━━\u001b[0m\u001b[37m\u001b[0m \u001b[1m0s\u001b[0m 7ms/step - accuracy: 0.9969 - loss: 0.0199 - val_accuracy: 0.8778 - val_loss: 0.4209\n",
      "Epoch 12/50\n",
      "\u001b[1m51/51\u001b[0m \u001b[32m━━━━━━━━━━━━━━━━━━━━\u001b[0m\u001b[37m\u001b[0m \u001b[1m0s\u001b[0m 7ms/step - accuracy: 0.9972 - loss: 0.0193 - val_accuracy: 0.8778 - val_loss: 0.4314\n"
     ]
    }
   ],
   "source": [
    "checkpoint_cb = ModelCheckpoint(\"model.keras\", save_best_only=True)\n",
    "early_stopping_cb = EarlyStopping(patience=5, restore_best_weights=True)\n",
    "\n",
    "model.compile(loss='binary_crossentropy', optimizer='adam', metrics=['accuracy'])\n",
    "\n",
    "# Train the model with EarlyStopping\n",
    "history = model.fit(\n",
    "    X_train_dense, y_train,\n",
    "    epochs=50,\n",
    "    validation_split=0.1,\n",
    "    callbacks=[checkpoint_cb, early_stopping_cb]\n",
    ")"
   ]
  },
  {
   "cell_type": "code",
   "execution_count": 19,
   "id": "ddf152fc",
   "metadata": {
    "execution": {
     "iopub.execute_input": "2024-10-04T19:40:50.131539Z",
     "iopub.status.busy": "2024-10-04T19:40:50.131178Z",
     "iopub.status.idle": "2024-10-04T19:40:50.144350Z",
     "shell.execute_reply": "2024-10-04T19:40:50.143485Z"
    },
    "papermill": {
     "duration": 0.036359,
     "end_time": "2024-10-04T19:40:50.146428",
     "exception": false,
     "start_time": "2024-10-04T19:40:50.110069",
     "status": "completed"
    },
    "tags": []
   },
   "outputs": [
    {
     "data": {
      "text/html": [
       "<div>\n",
       "<style scoped>\n",
       "    .dataframe tbody tr th:only-of-type {\n",
       "        vertical-align: middle;\n",
       "    }\n",
       "\n",
       "    .dataframe tbody tr th {\n",
       "        vertical-align: top;\n",
       "    }\n",
       "\n",
       "    .dataframe thead th {\n",
       "        text-align: right;\n",
       "    }\n",
       "</style>\n",
       "<table border=\"1\" class=\"dataframe\">\n",
       "  <thead>\n",
       "    <tr style=\"text-align: right;\">\n",
       "      <th></th>\n",
       "      <th>accuracy</th>\n",
       "      <th>loss</th>\n",
       "      <th>val_accuracy</th>\n",
       "      <th>val_loss</th>\n",
       "    </tr>\n",
       "  </thead>\n",
       "  <tbody>\n",
       "    <tr>\n",
       "      <th>0</th>\n",
       "      <td>0.551575</td>\n",
       "      <td>0.690957</td>\n",
       "      <td>0.544444</td>\n",
       "      <td>0.688568</td>\n",
       "    </tr>\n",
       "    <tr>\n",
       "      <th>1</th>\n",
       "      <td>0.563311</td>\n",
       "      <td>0.673413</td>\n",
       "      <td>0.544444</td>\n",
       "      <td>0.645991</td>\n",
       "    </tr>\n",
       "    <tr>\n",
       "      <th>2</th>\n",
       "      <td>0.647931</td>\n",
       "      <td>0.561338</td>\n",
       "      <td>0.788889</td>\n",
       "      <td>0.492533</td>\n",
       "    </tr>\n",
       "    <tr>\n",
       "      <th>3</th>\n",
       "      <td>0.867820</td>\n",
       "      <td>0.365171</td>\n",
       "      <td>0.866667</td>\n",
       "      <td>0.396219</td>\n",
       "    </tr>\n",
       "    <tr>\n",
       "      <th>4</th>\n",
       "      <td>0.937616</td>\n",
       "      <td>0.230496</td>\n",
       "      <td>0.872222</td>\n",
       "      <td>0.356257</td>\n",
       "    </tr>\n",
       "    <tr>\n",
       "      <th>5</th>\n",
       "      <td>0.955528</td>\n",
       "      <td>0.148289</td>\n",
       "      <td>0.866667</td>\n",
       "      <td>0.353407</td>\n",
       "    </tr>\n",
       "    <tr>\n",
       "      <th>6</th>\n",
       "      <td>0.973440</td>\n",
       "      <td>0.092790</td>\n",
       "      <td>0.877778</td>\n",
       "      <td>0.344978</td>\n",
       "    </tr>\n",
       "    <tr>\n",
       "      <th>7</th>\n",
       "      <td>0.986411</td>\n",
       "      <td>0.064209</td>\n",
       "      <td>0.866667</td>\n",
       "      <td>0.361281</td>\n",
       "    </tr>\n",
       "    <tr>\n",
       "      <th>8</th>\n",
       "      <td>0.988264</td>\n",
       "      <td>0.045436</td>\n",
       "      <td>0.872222</td>\n",
       "      <td>0.382502</td>\n",
       "    </tr>\n",
       "    <tr>\n",
       "      <th>9</th>\n",
       "      <td>0.993823</td>\n",
       "      <td>0.032867</td>\n",
       "      <td>0.872222</td>\n",
       "      <td>0.398360</td>\n",
       "    </tr>\n",
       "    <tr>\n",
       "      <th>10</th>\n",
       "      <td>0.994441</td>\n",
       "      <td>0.026086</td>\n",
       "      <td>0.877778</td>\n",
       "      <td>0.420947</td>\n",
       "    </tr>\n",
       "    <tr>\n",
       "      <th>11</th>\n",
       "      <td>0.996912</td>\n",
       "      <td>0.019376</td>\n",
       "      <td>0.877778</td>\n",
       "      <td>0.431427</td>\n",
       "    </tr>\n",
       "  </tbody>\n",
       "</table>\n",
       "</div>"
      ],
      "text/plain": [
       "    accuracy      loss  val_accuracy  val_loss\n",
       "0   0.551575  0.690957      0.544444  0.688568\n",
       "1   0.563311  0.673413      0.544444  0.645991\n",
       "2   0.647931  0.561338      0.788889  0.492533\n",
       "3   0.867820  0.365171      0.866667  0.396219\n",
       "4   0.937616  0.230496      0.872222  0.356257\n",
       "5   0.955528  0.148289      0.866667  0.353407\n",
       "6   0.973440  0.092790      0.877778  0.344978\n",
       "7   0.986411  0.064209      0.866667  0.361281\n",
       "8   0.988264  0.045436      0.872222  0.382502\n",
       "9   0.993823  0.032867      0.872222  0.398360\n",
       "10  0.994441  0.026086      0.877778  0.420947\n",
       "11  0.996912  0.019376      0.877778  0.431427"
      ]
     },
     "execution_count": 19,
     "metadata": {},
     "output_type": "execute_result"
    }
   ],
   "source": [
    "history_dict = history.history\n",
    "pd.DataFrame(history_dict)"
   ]
  },
  {
   "cell_type": "code",
   "execution_count": 20,
   "id": "3715edb6",
   "metadata": {
    "execution": {
     "iopub.execute_input": "2024-10-04T19:40:50.189343Z",
     "iopub.status.busy": "2024-10-04T19:40:50.188953Z",
     "iopub.status.idle": "2024-10-04T19:40:50.990130Z",
     "shell.execute_reply": "2024-10-04T19:40:50.988996Z"
    },
    "papermill": {
     "duration": 0.825106,
     "end_time": "2024-10-04T19:40:50.992635",
     "exception": false,
     "start_time": "2024-10-04T19:40:50.167529",
     "status": "completed"
    },
    "tags": []
   },
   "outputs": [
    {
     "data": {
      "image/png": "[encoded data removed]",
      "text/plain": [
       "<Figure size 1400x600 with 2 Axes>"
      ]
     },
     "metadata": {},
     "output_type": "display_data"
    }
   ],
   "source": [
    "accuracy = history_dict['accuracy']\n",
    "val_accuracy = history_dict['val_accuracy']\n",
    "loss = history_dict['loss']\n",
    "val_loss = history_dict['val_loss']\n",
    "epochs = range(1, len(accuracy) + 1)\n",
    "plt.figure(figsize=(14, 6))\n",
    "plt.subplot(1, 2, 1)\n",
    "sns.lineplot(x=epochs, y=loss, label='Training Loss')\n",
    "sns.lineplot(x=epochs, y=val_loss, label='Validation Loss')\n",
    "plt.title('Training and Validation Loss')\n",
    "plt.xlabel('Epochs')\n",
    "plt.ylabel('Loss')\n",
    "plt.legend()\n",
    "plt.subplot(1, 2, 2)\n",
    "sns.lineplot(x=epochs, y=accuracy, label='Training Accuracy')\n",
    "sns.lineplot(x=epochs, y=val_accuracy, label='Validation Accuracy')\n",
    "plt.title('Training and Validation Accuracy')\n",
    "plt.xlabel('Epochs')\n",
    "plt.ylabel('Accuracy')\n",
    "plt.legend()\n",
    "plt.tight_layout()\n",
    "plt.show()"
   ]
  },
  {
   "cell_type": "markdown",
   "id": "81aaab9c",
   "metadata": {
    "papermill": {
     "duration": 0.027481,
     "end_time": "2024-10-04T19:40:51.043540",
     "exception": false,
     "start_time": "2024-10-04T19:40:51.016059",
     "status": "completed"
    },
    "tags": []
   },
   "source": [
    "**<a id=\"5\"></a>\n",
    "<h1><b><p style=\"background-image: url(https://i.postimg.cc/0Qwf8YX6/2927262.jpg);font-family:camtasia;font-size:110%;color:white;text-align:center;border-radius:15px 50px; padding:7px; border:solid 2px #09375b; box-shadow: 10px 10px 10px #042b4c\">Evaluation</p></b></h1>\n",
    "<a class=\"btn\" href=\"#home\">Tabel of Contents</a>"
   ]
  },
  {
   "cell_type": "code",
   "execution_count": 21,
   "id": "1a2e5ed5",
   "metadata": {
    "execution": {
     "iopub.execute_input": "2024-10-04T19:40:51.095273Z",
     "iopub.status.busy": "2024-10-04T19:40:51.094866Z",
     "iopub.status.idle": "2024-10-04T19:40:51.296068Z",
     "shell.execute_reply": "2024-10-04T19:40:51.294748Z"
    },
    "id": "2Ua91fy2gxbf",
    "outputId": "a647d10a-9761-44e2-9a84-b60bc2eb4614",
    "papermill": {
     "duration": 0.229336,
     "end_time": "2024-10-04T19:40:51.298211",
     "exception": false,
     "start_time": "2024-10-04T19:40:51.068875",
     "status": "completed"
    },
    "tags": []
   },
   "outputs": [
    {
     "name": "stdout",
     "output_type": "stream",
     "text": [
      "\u001b[1m15/15\u001b[0m \u001b[32m━━━━━━━━━━━━━━━━━━━━\u001b[0m\u001b[37m\u001b[0m \u001b[1m0s\u001b[0m 5ms/step - accuracy: 0.8676 - loss: 0.4023\n",
      "Loss: 0.43787240982055664\n",
      "Accuracy: 0.855555534362793\n"
     ]
    }
   ],
   "source": [
    "loss,accuracy = model.evaluate(X_test_dense, y_test)\n",
    "print(\"Loss:\", loss)\n",
    "print(\"Accuracy:\", accuracy)"
   ]
  },
  {
   "cell_type": "code",
   "execution_count": 22,
   "id": "77af6b80",
   "metadata": {
    "execution": {
     "iopub.execute_input": "2024-10-04T19:40:51.345370Z",
     "iopub.status.busy": "2024-10-04T19:40:51.345017Z",
     "iopub.status.idle": "2024-10-04T19:40:51.980247Z",
     "shell.execute_reply": "2024-10-04T19:40:51.979237Z"
    },
    "papermill": {
     "duration": 0.6617,
     "end_time": "2024-10-04T19:40:51.982961",
     "exception": false,
     "start_time": "2024-10-04T19:40:51.321261",
     "status": "completed"
    },
    "tags": []
   },
   "outputs": [
    {
     "name": "stdout",
     "output_type": "stream",
     "text": [
      "\u001b[1m15/15\u001b[0m \u001b[32m━━━━━━━━━━━━━━━━━━━━\u001b[0m\u001b[37m\u001b[0m \u001b[1m1s\u001b[0m 20ms/step\n"
     ]
    },
    {
     "data": {
      "text/html": [
       "<div>\n",
       "<style scoped>\n",
       "    .dataframe tbody tr th:only-of-type {\n",
       "        vertical-align: middle;\n",
       "    }\n",
       "\n",
       "    .dataframe tbody tr th {\n",
       "        vertical-align: top;\n",
       "    }\n",
       "\n",
       "    .dataframe thead th {\n",
       "        text-align: right;\n",
       "    }\n",
       "</style>\n",
       "<table border=\"1\" class=\"dataframe\">\n",
       "  <thead>\n",
       "    <tr style=\"text-align: right;\">\n",
       "      <th></th>\n",
       "      <th>actual</th>\n",
       "      <th>pred</th>\n",
       "    </tr>\n",
       "  </thead>\n",
       "  <tbody>\n",
       "    <tr>\n",
       "      <th>602</th>\n",
       "      <td>1</td>\n",
       "      <td>0</td>\n",
       "    </tr>\n",
       "    <tr>\n",
       "      <th>1276</th>\n",
       "      <td>1</td>\n",
       "      <td>1</td>\n",
       "    </tr>\n",
       "    <tr>\n",
       "      <th>294</th>\n",
       "      <td>0</td>\n",
       "      <td>0</td>\n",
       "    </tr>\n",
       "    <tr>\n",
       "      <th>75</th>\n",
       "      <td>1</td>\n",
       "      <td>1</td>\n",
       "    </tr>\n",
       "    <tr>\n",
       "      <th>458</th>\n",
       "      <td>0</td>\n",
       "      <td>0</td>\n",
       "    </tr>\n",
       "    <tr>\n",
       "      <th>...</th>\n",
       "      <td>...</td>\n",
       "      <td>...</td>\n",
       "    </tr>\n",
       "    <tr>\n",
       "      <th>1827</th>\n",
       "      <td>0</td>\n",
       "      <td>0</td>\n",
       "    </tr>\n",
       "    <tr>\n",
       "      <th>1519</th>\n",
       "      <td>0</td>\n",
       "      <td>0</td>\n",
       "    </tr>\n",
       "    <tr>\n",
       "      <th>1500</th>\n",
       "      <td>1</td>\n",
       "      <td>1</td>\n",
       "    </tr>\n",
       "    <tr>\n",
       "      <th>1547</th>\n",
       "      <td>0</td>\n",
       "      <td>0</td>\n",
       "    </tr>\n",
       "    <tr>\n",
       "      <th>685</th>\n",
       "      <td>1</td>\n",
       "      <td>1</td>\n",
       "    </tr>\n",
       "  </tbody>\n",
       "</table>\n",
       "<p>450 rows × 2 columns</p>\n",
       "</div>"
      ],
      "text/plain": [
       "      actual  pred\n",
       "602        1     0\n",
       "1276       1     1\n",
       "294        0     0\n",
       "75         1     1\n",
       "458        0     0\n",
       "...      ...   ...\n",
       "1827       0     0\n",
       "1519       0     0\n",
       "1500       1     1\n",
       "1547       0     0\n",
       "685        1     1\n",
       "\n",
       "[450 rows x 2 columns]"
      ]
     },
     "execution_count": 22,
     "metadata": {},
     "output_type": "execute_result"
    }
   ],
   "source": [
    "prediction=model.predict(X_test_dense)\n",
    "y_pred=np.where(prediction>=.5,1,0)\n",
    "df=pd.DataFrame()\n",
    "df['actual'],df['pred']=y_test,y_pred\n",
    "df"
   ]
  },
  {
   "cell_type": "code",
   "execution_count": 23,
   "id": "5d615e54",
   "metadata": {
    "execution": {
     "iopub.execute_input": "2024-10-04T19:40:52.033693Z",
     "iopub.status.busy": "2024-10-04T19:40:52.032782Z",
     "iopub.status.idle": "2024-10-04T19:40:52.310543Z",
     "shell.execute_reply": "2024-10-04T19:40:52.309678Z"
    },
    "papermill": {
     "duration": 0.304407,
     "end_time": "2024-10-04T19:40:52.313136",
     "exception": false,
     "start_time": "2024-10-04T19:40:52.008729",
     "status": "completed"
    },
    "tags": []
   },
   "outputs": [
    {
     "data": {
      "image/png": "[encoded data removed]",
      "text/plain": [
       "<Figure size 640x480 with 2 Axes>"
      ]
     },
     "metadata": {},
     "output_type": "display_data"
    },
    {
     "data": {
      "text/plain": [
       "array([[221,  32],\n",
       "       [ 33, 164]])"
      ]
     },
     "execution_count": 23,
     "metadata": {},
     "output_type": "execute_result"
    }
   ],
   "source": [
    "CM = confusion_matrix(y_test, y_pred)\n",
    "labels = ['Negative', 'Positive']\n",
    "sns.heatmap(CM, annot=True, center=True, fmt='g', cmap='Blues',\n",
    "            xticklabels=labels, yticklabels=labels)\n",
    "plt.xlabel('Predicted')\n",
    "plt.ylabel('Actual')\n",
    "plt.show()\n",
    "CM"
   ]
  },
  {
   "cell_type": "code",
   "execution_count": 24,
   "id": "0a86a42f",
   "metadata": {
    "execution": {
     "iopub.execute_input": "2024-10-04T19:40:52.361581Z",
     "iopub.status.busy": "2024-10-04T19:40:52.360761Z",
     "iopub.status.idle": "2024-10-04T19:40:52.375101Z",
     "shell.execute_reply": "2024-10-04T19:40:52.373988Z"
    },
    "papermill": {
     "duration": 0.040716,
     "end_time": "2024-10-04T19:40:52.377168",
     "exception": false,
     "start_time": "2024-10-04T19:40:52.336452",
     "status": "completed"
    },
    "tags": []
   },
   "outputs": [
    {
     "name": "stdout",
     "output_type": "stream",
     "text": [
      "Classification Report is :                precision    recall  f1-score   support\n",
      "\n",
      "    Negative       0.87      0.87      0.87       253\n",
      "    Positive       0.84      0.83      0.83       197\n",
      "\n",
      "    accuracy                           0.86       450\n",
      "   macro avg       0.85      0.85      0.85       450\n",
      "weighted avg       0.86      0.86      0.86       450\n",
      "\n"
     ]
    }
   ],
   "source": [
    "ClassificationReport = classification_report(y_test, y_pred, target_names=labels)\n",
    "print('Classification Report is : ', ClassificationReport) "
   ]
  },
  {
   "cell_type": "markdown",
   "id": "b939fa2e",
   "metadata": {
    "papermill": {
     "duration": 0.023166,
     "end_time": "2024-10-04T19:40:52.423654",
     "exception": false,
     "start_time": "2024-10-04T19:40:52.400488",
     "status": "completed"
    },
    "tags": []
   },
   "source": [
    "**<a id=\"7\"></a>\n",
    "<h1><b><p style=\"background-image: url(https://i.postimg.cc/0Qwf8YX6/2927262.jpg);font-family:camtasia;font-size:110%;color:white;text-align:center;border-radius:15px 50px; padding:7px; border:solid 2px #09375b; box-shadow: 10px 10px 10px #042b4c\">SentimentIntensityAnalyzer</p></b></h1>\n",
    "<a class=\"btn\" href=\"#home\">Tabel of Contents</a>"
   ]
  },
  {
   "cell_type": "code",
   "execution_count": 25,
   "id": "1ee48eff",
   "metadata": {
    "execution": {
     "iopub.execute_input": "2024-10-04T19:40:52.471221Z",
     "iopub.status.busy": "2024-10-04T19:40:52.470543Z",
     "iopub.status.idle": "2024-10-04T19:40:53.623427Z",
     "shell.execute_reply": "2024-10-04T19:40:53.621854Z"
    },
    "papermill": {
     "duration": 1.179293,
     "end_time": "2024-10-04T19:40:53.625935",
     "exception": false,
     "start_time": "2024-10-04T19:40:52.446642",
     "status": "completed"
    },
    "tags": []
   },
   "outputs": [
    {
     "data": {
      "text/html": [
       "<div>\n",
       "<style scoped>\n",
       "    .dataframe tbody tr th:only-of-type {\n",
       "        vertical-align: middle;\n",
       "    }\n",
       "\n",
       "    .dataframe tbody tr th {\n",
       "        vertical-align: top;\n",
       "    }\n",
       "\n",
       "    .dataframe thead th {\n",
       "        text-align: right;\n",
       "    }\n",
       "</style>\n",
       "<table border=\"1\" class=\"dataframe\">\n",
       "  <thead>\n",
       "    <tr style=\"text-align: right;\">\n",
       "      <th></th>\n",
       "      <th>Review</th>\n",
       "      <th>label</th>\n",
       "      <th>score</th>\n",
       "      <th>sentiment</th>\n",
       "    </tr>\n",
       "  </thead>\n",
       "  <tbody>\n",
       "    <tr>\n",
       "      <th>0</th>\n",
       "      <td>up to this point i ve mostly been using chatgp...</td>\n",
       "      <td>0</td>\n",
       "      <td>0.9962</td>\n",
       "      <td>1</td>\n",
       "    </tr>\n",
       "    <tr>\n",
       "      <th>1</th>\n",
       "      <td>i ve been a user since it s initial roll out a...</td>\n",
       "      <td>0</td>\n",
       "      <td>0.9915</td>\n",
       "      <td>1</td>\n",
       "    </tr>\n",
       "    <tr>\n",
       "      <th>2</th>\n",
       "      <td>this app would almost be perfect if it wasn t ...</td>\n",
       "      <td>0</td>\n",
       "      <td>0.9617</td>\n",
       "      <td>1</td>\n",
       "    </tr>\n",
       "    <tr>\n",
       "      <th>3</th>\n",
       "      <td>i recently downloaded the app and overall its ...</td>\n",
       "      <td>1</td>\n",
       "      <td>0.9921</td>\n",
       "      <td>1</td>\n",
       "    </tr>\n",
       "    <tr>\n",
       "      <th>4</th>\n",
       "      <td>i appreciate the devs implementing siri suppor...</td>\n",
       "      <td>0</td>\n",
       "      <td>0.9208</td>\n",
       "      <td>1</td>\n",
       "    </tr>\n",
       "  </tbody>\n",
       "</table>\n",
       "</div>"
      ],
      "text/plain": [
       "                                              Review  label   score  sentiment\n",
       "0  up to this point i ve mostly been using chatgp...      0  0.9962          1\n",
       "1  i ve been a user since it s initial roll out a...      0  0.9915          1\n",
       "2  this app would almost be perfect if it wasn t ...      0  0.9617          1\n",
       "3  i recently downloaded the app and overall its ...      1  0.9921          1\n",
       "4  i appreciate the devs implementing siri suppor...      0  0.9208          1"
      ]
     },
     "execution_count": 25,
     "metadata": {},
     "output_type": "execute_result"
    }
   ],
   "source": [
    "data = dataset.copy()\n",
    "sen = SentimentIntensityAnalyzer()\n",
    "data['score'] = data['Review'].apply(lambda text: sen.polarity_scores(text)['compound'])\n",
    "data['sentiment'] = data['score'].apply(lambda x: 1 if x >= 0.5 else 0)\n",
    "data.head()"
   ]
  },
  {
   "cell_type": "code",
   "execution_count": 26,
   "id": "600bd5e1",
   "metadata": {
    "execution": {
     "iopub.execute_input": "2024-10-04T19:40:53.675194Z",
     "iopub.status.busy": "2024-10-04T19:40:53.674796Z",
     "iopub.status.idle": "2024-10-04T19:40:53.954949Z",
     "shell.execute_reply": "2024-10-04T19:40:53.953904Z"
    },
    "papermill": {
     "duration": 0.306845,
     "end_time": "2024-10-04T19:40:53.957036",
     "exception": false,
     "start_time": "2024-10-04T19:40:53.650191",
     "status": "completed"
    },
    "tags": []
   },
   "outputs": [
    {
     "data": {
      "image/png": "[encoded data removed]",
      "text/plain": [
       "<Figure size 640x480 with 2 Axes>"
      ]
     },
     "metadata": {},
     "output_type": "display_data"
    },
    {
     "data": {
      "text/plain": [
       "array([[973, 290],\n",
       "       [397, 589]])"
      ]
     },
     "execution_count": 26,
     "metadata": {},
     "output_type": "execute_result"
    }
   ],
   "source": [
    "CM = confusion_matrix(data.label, data.sentiment)\n",
    "labels = ['Negative', 'Positive']\n",
    "sns.heatmap(CM, annot=True, center=True, fmt='g', cmap='Blues',\n",
    "            xticklabels=labels, yticklabels=labels)\n",
    "plt.xlabel('Predicted')\n",
    "plt.ylabel('Actual')\n",
    "plt.show()\n",
    "CM"
   ]
  },
  {
   "cell_type": "code",
   "execution_count": 27,
   "id": "98ee26e5",
   "metadata": {
    "execution": {
     "iopub.execute_input": "2024-10-04T19:40:54.008574Z",
     "iopub.status.busy": "2024-10-04T19:40:54.008178Z",
     "iopub.status.idle": "2024-10-04T19:40:54.023732Z",
     "shell.execute_reply": "2024-10-04T19:40:54.022693Z"
    },
    "papermill": {
     "duration": 0.043614,
     "end_time": "2024-10-04T19:40:54.025848",
     "exception": false,
     "start_time": "2024-10-04T19:40:53.982234",
     "status": "completed"
    },
    "tags": []
   },
   "outputs": [
    {
     "name": "stdout",
     "output_type": "stream",
     "text": [
      "Classification Report is :                precision    recall  f1-score   support\n",
      "\n",
      "    Negative       0.71      0.77      0.74      1263\n",
      "    Positive       0.67      0.60      0.63       986\n",
      "\n",
      "    accuracy                           0.69      2249\n",
      "   macro avg       0.69      0.68      0.69      2249\n",
      "weighted avg       0.69      0.69      0.69      2249\n",
      "\n"
     ]
    }
   ],
   "source": [
    "ClassificationReport = classification_report(data.label, data.sentiment, target_names=labels)\n",
    "print('Classification Report is : ', ClassificationReport) "
   ]
  },
  {
   "cell_type": "markdown",
   "id": "d8c37d90",
   "metadata": {
    "papermill": {
     "duration": 0.024812,
     "end_time": "2024-10-04T19:40:54.075801",
     "exception": false,
     "start_time": "2024-10-04T19:40:54.050989",
     "status": "completed"
    },
    "tags": []
   },
   "source": [
    "**<a id=\"6\"></a>\n",
    "<h1><b><p style=\"background-image: url(https://i.postimg.cc/0Qwf8YX6/2927262.jpg);font-family:camtasia;font-size:110%;color:white;text-align:center;border-radius:15px 50px; padding:7px; border:solid 2px #09375b; box-shadow: 10px 10px 10px #042b4c\">Like this? Upvote and comment! 🌊 End</p></b></h1>\n",
    "<a class=\"btn\" href=\"#home\">Tabel of Contents</a>"
   ]
  }
 ],
 "metadata": {
  "kaggle": {
   "accelerator": "gpu",
   "dataSources": [
    {
     "datasetId": 5813898,
     "sourceId": 9543438,
     "sourceType": "datasetVersion"
    }
   ],
   "dockerImageVersionId": 30787,
   "isGpuEnabled": true,
   "isInternetEnabled": true,
   "language": "python",
   "sourceType": "notebook"
  },
  "kernelspec": {
   "display_name": "Python 3",
   "language": "python",
   "name": "python3"
  },
  "language_info": {
   "codemirror_mode": {
    "name": "ipython",
    "version": 3
   },
   "file_extension": ".py",
   "mimetype": "text/x-python",
   "name": "python",
   "nbconvert_exporter": "python",
   "pygments_lexer": "ipython3",
   "version": "3.10.14"
  },
  "papermill": {
   "default_parameters": {},
   "duration": 37.765217,
   "end_time": "2024-10-04T19:40:57.077206",
   "environment_variables": {},
   "exception": null,
   "input_path": "__notebook__.ipynb",
   "output_path": "__notebook__.ipynb",
   "parameters": {},
   "start_time": "2024-10-04T19:40:19.311989",
   "version": "2.4.0"
  }
 },
 "nbformat": 4,
 "nbformat_minor": 5
}
