{
 "cells": [
  {
   "cell_type": "markdown",
   "id": "c40f5fc8",
   "metadata": {
    "papermill": {
     "duration": 0.008576,
     "end_time": "2024-10-05T09:22:55.184062",
     "exception": false,
     "start_time": "2024-10-05T09:22:55.175486",
     "status": "completed"
    },
    "tags": []
   },
   "source": [
    "<h1><b><p style=\"background-image: url(https://i.postimg.cc/0Qwf8YX6/2927262.jpg);font-family:camtasia;font-size:110%;color:white;text-align:center;border-radius:15px 50px; padding:7px; border:solid 2px #09375b; box-shadow: 10px 10px 10px #042b4c\">Project Title: Arabic Sentiment Reviews</p></b></h1>\n",
    "\n",
    "### Tabel of Contents:\n",
    "\n",
    "* [Import Libraries](#1)\n",
    "* [Load Dataset](#2)\n",
    "* [Preprocessing](#3)\n",
    "* [ML Models](#4)\n",
    "* [Like this? Upvote and comment! 🌊 End](#6)"
   ]
  },
  {
   "cell_type": "markdown",
   "id": "81fda813",
   "metadata": {
    "papermill": {
     "duration": 0.00753,
     "end_time": "2024-10-05T09:22:55.199564",
     "exception": false,
     "start_time": "2024-10-05T09:22:55.192034",
     "status": "completed"
    },
    "tags": []
   },
   "source": [
    "**<a id=\"1\"></a>\n",
    "<h1><b><p style=\"background-image: url(https://i.postimg.cc/0Qwf8YX6/2927262.jpg);font-family:camtasia;font-size:110%;color:white;text-align:center;border-radius:15px 50px; padding:7px; border:solid 2px #09375b; box-shadow: 10px 10px 10px #042b4c\">Import Libraries</p></b></h1>\n",
    "<a class=\"btn\" href=\"#home\">Tabel of Contents</a>"
   ]
  },
  {
   "cell_type": "code",
   "execution_count": 1,
   "id": "ca451127",
   "metadata": {
    "execution": {
     "iopub.execute_input": "2024-10-05T09:22:55.217560Z",
     "iopub.status.busy": "2024-10-05T09:22:55.217218Z",
     "iopub.status.idle": "2024-10-05T09:23:01.908226Z",
     "shell.execute_reply": "2024-10-05T09:23:01.907433Z"
    },
    "papermill": {
     "duration": 6.70331,
     "end_time": "2024-10-05T09:23:01.910647",
     "exception": false,
     "start_time": "2024-10-05T09:22:55.207337",
     "status": "completed"
    },
    "tags": []
   },
   "outputs": [],
   "source": [
    "from tqdm import tqdm\n",
    "import re\n",
    "import pandas as pd\n",
    "import numpy as np\n",
    "import matplotlib.pyplot as plt\n",
    "import seaborn as sns\n",
    "import plotly.express as px\n",
    "import pickle\n",
    "from sklearn.metrics import confusion_matrix,classification_report\n",
    "from sklearn.metrics import accuracy_score, precision_score, recall_score, f1_score\n",
    "from sklearn.model_selection import train_test_split\n",
    "from sklearn.feature_extraction.text import TfidfVectorizer,CountVectorizer\n",
    "from sklearn.model_selection import cross_val_score,GridSearchCV\n",
    "import pickle\n",
    "# Models\n",
    "from sklearn.ensemble import RandomForestClassifier\n",
    "from xgboost import XGBClassifier\n",
    "from lightgbm import LGBMClassifier\n",
    "from lightgbm import LGBMClassifier\n",
    "from catboost import CatBoostClassifier\n",
    "from sklearn.tree import DecisionTreeClassifier\n",
    "from sklearn.neighbors import KNeighborsClassifier\n",
    "from sklearn.svm import SVC\n",
    "from sklearn.linear_model import LogisticRegression\n",
    "from sklearn.preprocessing import LabelEncoder"
   ]
  },
  {
   "cell_type": "markdown",
   "id": "00cfb63b",
   "metadata": {
    "papermill": {
     "duration": 0.007619,
     "end_time": "2024-10-05T09:23:01.926327",
     "exception": false,
     "start_time": "2024-10-05T09:23:01.918708",
     "status": "completed"
    },
    "tags": []
   },
   "source": [
    "**<a id=\"2\"></a>\n",
    "<h1><b><p style=\"background-image: url(https://i.postimg.cc/0Qwf8YX6/2927262.jpg);font-family:camtasia;font-size:110%;color:white;text-align:center;border-radius:15px 50px; padding:7px; border:solid 2px #09375b; box-shadow: 10px 10px 10px #042b4c\">Load Dataset</p></b></h1>\n",
    "<a class=\"btn\" href=\"#home\">Tabel of Contents</a>"
   ]
  },
  {
   "cell_type": "code",
   "execution_count": 2,
   "id": "4c3af9ec",
   "metadata": {
    "execution": {
     "iopub.execute_input": "2024-10-05T09:23:01.943832Z",
     "iopub.status.busy": "2024-10-05T09:23:01.942918Z",
     "iopub.status.idle": "2024-10-05T09:23:01.992391Z",
     "shell.execute_reply": "2024-10-05T09:23:01.991517Z"
    },
    "papermill": {
     "duration": 0.060486,
     "end_time": "2024-10-05T09:23:01.994475",
     "exception": false,
     "start_time": "2024-10-05T09:23:01.933989",
     "status": "completed"
    },
    "tags": []
   },
   "outputs": [
    {
     "data": {
      "text/html": [
       "<div>\n",
       "<style scoped>\n",
       "    .dataframe tbody tr th:only-of-type {\n",
       "        vertical-align: middle;\n",
       "    }\n",
       "\n",
       "    .dataframe tbody tr th {\n",
       "        vertical-align: top;\n",
       "    }\n",
       "\n",
       "    .dataframe thead th {\n",
       "        text-align: right;\n",
       "    }\n",
       "</style>\n",
       "<table border=\"1\" class=\"dataframe\">\n",
       "  <thead>\n",
       "    <tr style=\"text-align: right;\">\n",
       "      <th></th>\n",
       "      <th>Review</th>\n",
       "      <th>label</th>\n",
       "    </tr>\n",
       "  </thead>\n",
       "  <tbody>\n",
       "    <tr>\n",
       "      <th>0</th>\n",
       "      <td>up to this point i ’ ve mostly been using chat...</td>\n",
       "      <td>NEGATIVE</td>\n",
       "    </tr>\n",
       "    <tr>\n",
       "      <th>1</th>\n",
       "      <td>i ’ ve been a user since it ’ s initial roll o...</td>\n",
       "      <td>NEGATIVE</td>\n",
       "    </tr>\n",
       "    <tr>\n",
       "      <th>2</th>\n",
       "      <td>this app would almost be perfect if it wasn ’ ...</td>\n",
       "      <td>NEGATIVE</td>\n",
       "    </tr>\n",
       "    <tr>\n",
       "      <th>3</th>\n",
       "      <td>i recently downloaded the app and overall, it'...</td>\n",
       "      <td>POSITIVE</td>\n",
       "    </tr>\n",
       "    <tr>\n",
       "      <th>4</th>\n",
       "      <td>i appreciate the devs implementing siri suppor...</td>\n",
       "      <td>NEGATIVE</td>\n",
       "    </tr>\n",
       "  </tbody>\n",
       "</table>\n",
       "</div>"
      ],
      "text/plain": [
       "                                              Review     label\n",
       "0  up to this point i ’ ve mostly been using chat...  NEGATIVE\n",
       "1  i ’ ve been a user since it ’ s initial roll o...  NEGATIVE\n",
       "2  this app would almost be perfect if it wasn ’ ...  NEGATIVE\n",
       "3  i recently downloaded the app and overall, it'...  POSITIVE\n",
       "4  i appreciate the devs implementing siri suppor...  NEGATIVE"
      ]
     },
     "execution_count": 2,
     "metadata": {},
     "output_type": "execute_result"
    }
   ],
   "source": [
    "dataset = pd.read_csv('/kaggle/input/chatgpt-user-reviews/CHATGPT.csv')\n",
    "dataset.head()"
   ]
  },
  {
   "cell_type": "code",
   "execution_count": 3,
   "id": "ccbe83e6",
   "metadata": {
    "execution": {
     "iopub.execute_input": "2024-10-05T09:23:02.012492Z",
     "iopub.status.busy": "2024-10-05T09:23:02.012153Z",
     "iopub.status.idle": "2024-10-05T09:23:02.018625Z",
     "shell.execute_reply": "2024-10-05T09:23:02.017767Z"
    },
    "papermill": {
     "duration": 0.017583,
     "end_time": "2024-10-05T09:23:02.020497",
     "exception": false,
     "start_time": "2024-10-05T09:23:02.002914",
     "status": "completed"
    },
    "tags": []
   },
   "outputs": [
    {
     "data": {
      "text/plain": [
       "(2292, 2)"
      ]
     },
     "execution_count": 3,
     "metadata": {},
     "output_type": "execute_result"
    }
   ],
   "source": [
    "dataset.shape"
   ]
  },
  {
   "cell_type": "code",
   "execution_count": 4,
   "id": "1a2acf31",
   "metadata": {
    "execution": {
     "iopub.execute_input": "2024-10-05T09:23:02.037813Z",
     "iopub.status.busy": "2024-10-05T09:23:02.037544Z",
     "iopub.status.idle": "2024-10-05T09:23:02.059612Z",
     "shell.execute_reply": "2024-10-05T09:23:02.058570Z"
    },
    "papermill": {
     "duration": 0.033084,
     "end_time": "2024-10-05T09:23:02.061675",
     "exception": false,
     "start_time": "2024-10-05T09:23:02.028591",
     "status": "completed"
    },
    "tags": []
   },
   "outputs": [
    {
     "name": "stdout",
     "output_type": "stream",
     "text": [
      "<class 'pandas.core.frame.DataFrame'>\n",
      "RangeIndex: 2292 entries, 0 to 2291\n",
      "Data columns (total 2 columns):\n",
      " #   Column  Non-Null Count  Dtype \n",
      "---  ------  --------------  ----- \n",
      " 0   Review  2249 non-null   object\n",
      " 1   label   2292 non-null   object\n",
      "dtypes: object(2)\n",
      "memory usage: 35.9+ KB\n"
     ]
    }
   ],
   "source": [
    "dataset.info()"
   ]
  },
  {
   "cell_type": "code",
   "execution_count": 5,
   "id": "d9e2cd8c",
   "metadata": {
    "execution": {
     "iopub.execute_input": "2024-10-05T09:23:02.079243Z",
     "iopub.status.busy": "2024-10-05T09:23:02.078949Z",
     "iopub.status.idle": "2024-10-05T09:23:02.086244Z",
     "shell.execute_reply": "2024-10-05T09:23:02.085419Z"
    },
    "papermill": {
     "duration": 0.018149,
     "end_time": "2024-10-05T09:23:02.088086",
     "exception": false,
     "start_time": "2024-10-05T09:23:02.069937",
     "status": "completed"
    },
    "tags": []
   },
   "outputs": [
    {
     "data": {
      "text/plain": [
       "Review    43\n",
       "label      0\n",
       "dtype: int64"
      ]
     },
     "execution_count": 5,
     "metadata": {},
     "output_type": "execute_result"
    }
   ],
   "source": [
    "dataset.isna().sum()"
   ]
  },
  {
   "cell_type": "code",
   "execution_count": 6,
   "id": "41cb6790",
   "metadata": {
    "execution": {
     "iopub.execute_input": "2024-10-05T09:23:02.105614Z",
     "iopub.status.busy": "2024-10-05T09:23:02.105343Z",
     "iopub.status.idle": "2024-10-05T09:23:02.112181Z",
     "shell.execute_reply": "2024-10-05T09:23:02.111321Z"
    },
    "papermill": {
     "duration": 0.017816,
     "end_time": "2024-10-05T09:23:02.114172",
     "exception": false,
     "start_time": "2024-10-05T09:23:02.096356",
     "status": "completed"
    },
    "tags": []
   },
   "outputs": [],
   "source": [
    "dataset.dropna(inplace=True)"
   ]
  },
  {
   "cell_type": "code",
   "execution_count": 7,
   "id": "6efa74b5",
   "metadata": {
    "execution": {
     "iopub.execute_input": "2024-10-05T09:23:02.132581Z",
     "iopub.status.busy": "2024-10-05T09:23:02.131978Z",
     "iopub.status.idle": "2024-10-05T09:23:02.141841Z",
     "shell.execute_reply": "2024-10-05T09:23:02.140999Z"
    },
    "papermill": {
     "duration": 0.021045,
     "end_time": "2024-10-05T09:23:02.143662",
     "exception": false,
     "start_time": "2024-10-05T09:23:02.122617",
     "status": "completed"
    },
    "tags": []
   },
   "outputs": [
    {
     "data": {
      "text/plain": [
       "label\n",
       "NEGATIVE    1263\n",
       "POSITIVE     986\n",
       "Name: count, dtype: int64"
      ]
     },
     "execution_count": 7,
     "metadata": {},
     "output_type": "execute_result"
    }
   ],
   "source": [
    "dataset.label.value_counts()"
   ]
  },
  {
   "cell_type": "code",
   "execution_count": 8,
   "id": "5de346e1",
   "metadata": {
    "execution": {
     "iopub.execute_input": "2024-10-05T09:23:02.161630Z",
     "iopub.status.busy": "2024-10-05T09:23:02.161327Z",
     "iopub.status.idle": "2024-10-05T09:23:02.440874Z",
     "shell.execute_reply": "2024-10-05T09:23:02.439865Z"
    },
    "papermill": {
     "duration": 0.290949,
     "end_time": "2024-10-05T09:23:02.442959",
     "exception": false,
     "start_time": "2024-10-05T09:23:02.152010",
     "status": "completed"
    },
    "tags": []
   },
   "outputs": [
    {
     "data": {
      "image/png": "[encoded data removed]",
      "text/plain": [
       "<Figure size 640x480 with 1 Axes>"
      ]
     },
     "metadata": {},
     "output_type": "display_data"
    }
   ],
   "source": [
    "plt.style.use('dark_background')\n",
    "ax = sns.countplot(x='label', data=dataset, palette='Set1')\n",
    "plt.title('Distribution Of Target', fontsize=20)\n",
    "plt.xlabel('Target', fontsize=20)\n",
    "plt.ylabel('Count', fontsize=20)\n",
    "plt.grid(True)\n",
    "plt.xticks(rotation=45)\n",
    "plt.yticks(rotation=45)\n",
    "for p in ax.patches:\n",
    "    ax.annotate(f'{p.get_height()}', (p.get_x() + p.get_width() / 2., p.get_height()), \n",
    "                ha='center', va='baseline', fontsize=12)\n",
    "plt.show()"
   ]
  },
  {
   "cell_type": "markdown",
   "id": "69fd3044",
   "metadata": {
    "papermill": {
     "duration": 0.00901,
     "end_time": "2024-10-05T09:23:02.461374",
     "exception": false,
     "start_time": "2024-10-05T09:23:02.452364",
     "status": "completed"
    },
    "tags": []
   },
   "source": [
    "**<a id=\"3\"></a>\n",
    "<h1><b><p style=\"background-image: url(https://i.postimg.cc/0Qwf8YX6/2927262.jpg);font-family:camtasia;font-size:110%;color:white;text-align:center;border-radius:15px 50px; padding:7px; border:solid 2px #09375b; box-shadow: 10px 10px 10px #042b4c\">Preprocessing</p></b></h1>\n",
    "<a class=\"btn\" href=\"#home\">Tabel of Contents</a>"
   ]
  },
  {
   "cell_type": "code",
   "execution_count": 9,
   "id": "83ad9eb9",
   "metadata": {
    "execution": {
     "iopub.execute_input": "2024-10-05T09:23:02.481105Z",
     "iopub.status.busy": "2024-10-05T09:23:02.480453Z",
     "iopub.status.idle": "2024-10-05T09:23:02.485455Z",
     "shell.execute_reply": "2024-10-05T09:23:02.484634Z"
    },
    "id": "ypT8KGM6d9F-",
    "papermill": {
     "duration": 0.016869,
     "end_time": "2024-10-05T09:23:02.487336",
     "exception": false,
     "start_time": "2024-10-05T09:23:02.470467",
     "status": "completed"
    },
    "tags": []
   },
   "outputs": [],
   "source": [
    "def clean_text(text):\n",
    "    # Remove non-alphanumeric characters and extra whitespace\n",
    "    text = re.sub(r'[^a-zA-Z\\s]', '', text)\n",
    "    # Convert multiple whitespace characters to a single space\n",
    "    text = re.sub(r'\\s+', ' ', text)\n",
    "    # Convert the text to lowercase\n",
    "    text = text.lower()\n",
    "    return text"
   ]
  },
  {
   "cell_type": "code",
   "execution_count": 10,
   "id": "02516761",
   "metadata": {
    "execution": {
     "iopub.execute_input": "2024-10-05T09:23:02.506540Z",
     "iopub.status.busy": "2024-10-05T09:23:02.506252Z",
     "iopub.status.idle": "2024-10-05T09:23:02.512244Z",
     "shell.execute_reply": "2024-10-05T09:23:02.511430Z"
    },
    "id": "txEqacW4eFKe",
    "outputId": "be2efb0d-7440-4a6b-921f-b39d3fa23543",
    "papermill": {
     "duration": 0.017858,
     "end_time": "2024-10-05T09:23:02.514273",
     "exception": false,
     "start_time": "2024-10-05T09:23:02.496415",
     "status": "completed"
    },
    "tags": []
   },
   "outputs": [
    {
     "data": {
      "text/plain": [
       "('POSITIVE',\n",
       " 'i ’ m pleased with my mobile chatgpt experience so far. it feels even more conversational and almost like a messages chat. i also like that you can search through all your previous chats. and using whisper to prompt gpt already feels like one half of a supercharged siri / alexa experience. however, i ’ d love to be able to enable beta features as a plus user. as far as i can tell from exploring the app, there isn ’ t a direct way to enable browsing or plugins yet. i have been able to start a chat with browser / plugins on web and then continue in app with the same capabilities. anyways, i know we ’ re only a day in. excited to see all the possible new ways to interface with agents!')"
      ]
     },
     "execution_count": 10,
     "metadata": {},
     "output_type": "execute_result"
    }
   ],
   "source": [
    "dataset.label[50],dataset.Review[50]"
   ]
  },
  {
   "cell_type": "code",
   "execution_count": 11,
   "id": "cbe861cd",
   "metadata": {
    "execution": {
     "iopub.execute_input": "2024-10-05T09:23:02.533663Z",
     "iopub.status.busy": "2024-10-05T09:23:02.533399Z",
     "iopub.status.idle": "2024-10-05T09:23:02.539532Z",
     "shell.execute_reply": "2024-10-05T09:23:02.538626Z"
    },
    "id": "8YJznZpueIS1",
    "outputId": "6debbf34-616a-487b-f1fb-5d837add3beb",
    "papermill": {
     "duration": 0.01813,
     "end_time": "2024-10-05T09:23:02.541499",
     "exception": false,
     "start_time": "2024-10-05T09:23:02.523369",
     "status": "completed"
    },
    "tags": []
   },
   "outputs": [
    {
     "data": {
      "text/plain": [
       "('POSITIVE',\n",
       " 'i m pleased with my mobile chatgpt experience so far it feels even more conversational and almost like a messages chat i also like that you can search through all your previous chats and using whisper to prompt gpt already feels like one half of a supercharged siri alexa experience however i d love to be able to enable beta features as a plus user as far as i can tell from exploring the app there isn t a direct way to enable browsing or plugins yet i have been able to start a chat with browser plugins on web and then continue in app with the same capabilities anyways i know we re only a day in excited to see all the possible new ways to interface with agents')"
      ]
     },
     "execution_count": 11,
     "metadata": {},
     "output_type": "execute_result"
    }
   ],
   "source": [
    "dataset.label[50],clean_text(dataset.Review[50])"
   ]
  },
  {
   "cell_type": "code",
   "execution_count": 12,
   "id": "83f1bdce",
   "metadata": {
    "execution": {
     "iopub.execute_input": "2024-10-05T09:23:02.561160Z",
     "iopub.status.busy": "2024-10-05T09:23:02.560854Z",
     "iopub.status.idle": "2024-10-05T09:23:02.631424Z",
     "shell.execute_reply": "2024-10-05T09:23:02.630512Z"
    },
    "id": "2pXfPwqHerNc",
    "outputId": "da864222-cd1a-4c92-8544-71eb152373c5",
    "papermill": {
     "duration": 0.082614,
     "end_time": "2024-10-05T09:23:02.633428",
     "exception": false,
     "start_time": "2024-10-05T09:23:02.550814",
     "status": "completed"
    },
    "tags": []
   },
   "outputs": [
    {
     "data": {
      "text/html": [
       "<div>\n",
       "<style scoped>\n",
       "    .dataframe tbody tr th:only-of-type {\n",
       "        vertical-align: middle;\n",
       "    }\n",
       "\n",
       "    .dataframe tbody tr th {\n",
       "        vertical-align: top;\n",
       "    }\n",
       "\n",
       "    .dataframe thead th {\n",
       "        text-align: right;\n",
       "    }\n",
       "</style>\n",
       "<table border=\"1\" class=\"dataframe\">\n",
       "  <thead>\n",
       "    <tr style=\"text-align: right;\">\n",
       "      <th></th>\n",
       "      <th>Review</th>\n",
       "      <th>label</th>\n",
       "    </tr>\n",
       "  </thead>\n",
       "  <tbody>\n",
       "    <tr>\n",
       "      <th>0</th>\n",
       "      <td>up to this point i ve mostly been using chatgp...</td>\n",
       "      <td>NEGATIVE</td>\n",
       "    </tr>\n",
       "    <tr>\n",
       "      <th>1</th>\n",
       "      <td>i ve been a user since it s initial roll out a...</td>\n",
       "      <td>NEGATIVE</td>\n",
       "    </tr>\n",
       "    <tr>\n",
       "      <th>2</th>\n",
       "      <td>this app would almost be perfect if it wasn t ...</td>\n",
       "      <td>NEGATIVE</td>\n",
       "    </tr>\n",
       "    <tr>\n",
       "      <th>3</th>\n",
       "      <td>i recently downloaded the app and overall its ...</td>\n",
       "      <td>POSITIVE</td>\n",
       "    </tr>\n",
       "    <tr>\n",
       "      <th>4</th>\n",
       "      <td>i appreciate the devs implementing siri suppor...</td>\n",
       "      <td>NEGATIVE</td>\n",
       "    </tr>\n",
       "  </tbody>\n",
       "</table>\n",
       "</div>"
      ],
      "text/plain": [
       "                                              Review     label\n",
       "0  up to this point i ve mostly been using chatgp...  NEGATIVE\n",
       "1  i ve been a user since it s initial roll out a...  NEGATIVE\n",
       "2  this app would almost be perfect if it wasn t ...  NEGATIVE\n",
       "3  i recently downloaded the app and overall its ...  POSITIVE\n",
       "4  i appreciate the devs implementing siri suppor...  NEGATIVE"
      ]
     },
     "execution_count": 12,
     "metadata": {},
     "output_type": "execute_result"
    }
   ],
   "source": [
    "dataset.Review = dataset.Review.apply(clean_text)\n",
    "dataset.head()"
   ]
  },
  {
   "cell_type": "code",
   "execution_count": 13,
   "id": "59e7161a",
   "metadata": {
    "execution": {
     "iopub.execute_input": "2024-10-05T09:23:02.653748Z",
     "iopub.status.busy": "2024-10-05T09:23:02.653441Z",
     "iopub.status.idle": "2024-10-05T09:23:02.838041Z",
     "shell.execute_reply": "2024-10-05T09:23:02.837074Z"
    },
    "id": "NsDSpMmRe8bF",
    "papermill": {
     "duration": 0.197109,
     "end_time": "2024-10-05T09:23:02.840152",
     "exception": false,
     "start_time": "2024-10-05T09:23:02.643043",
     "status": "completed"
    },
    "tags": []
   },
   "outputs": [
    {
     "data": {
      "text/plain": [
       "array([[0.        , 0.        , 0.        , ..., 0.        , 0.        ,\n",
       "        0.        ],\n",
       "       [0.        , 0.        , 0.04742837, ..., 0.        , 0.        ,\n",
       "        0.        ],\n",
       "       [0.        , 0.        , 0.        , ..., 0.        , 0.        ,\n",
       "        0.        ],\n",
       "       ...,\n",
       "       [0.        , 0.        , 0.05997883, ..., 0.        , 0.        ,\n",
       "        0.        ],\n",
       "       [0.        , 0.        , 0.        , ..., 0.        , 0.        ,\n",
       "        0.        ],\n",
       "       [0.        , 0.        , 0.        , ..., 0.        , 0.        ,\n",
       "        0.        ]])"
      ]
     },
     "execution_count": 13,
     "metadata": {},
     "output_type": "execute_result"
    }
   ],
   "source": [
    "tfidf = TfidfVectorizer(max_features=5000)\n",
    "X_train_tfidf = tfidf.fit_transform(dataset.Review)\n",
    "train = X_train_tfidf.toarray()\n",
    "train"
   ]
  },
  {
   "cell_type": "code",
   "execution_count": 14,
   "id": "85ee2a40",
   "metadata": {
    "execution": {
     "iopub.execute_input": "2024-10-05T09:23:02.861042Z",
     "iopub.status.busy": "2024-10-05T09:23:02.860709Z",
     "iopub.status.idle": "2024-10-05T09:23:02.871603Z",
     "shell.execute_reply": "2024-10-05T09:23:02.870702Z"
    },
    "papermill": {
     "duration": 0.023518,
     "end_time": "2024-10-05T09:23:02.873607",
     "exception": false,
     "start_time": "2024-10-05T09:23:02.850089",
     "status": "completed"
    },
    "tags": []
   },
   "outputs": [
    {
     "data": {
      "text/html": [
       "<div>\n",
       "<style scoped>\n",
       "    .dataframe tbody tr th:only-of-type {\n",
       "        vertical-align: middle;\n",
       "    }\n",
       "\n",
       "    .dataframe tbody tr th {\n",
       "        vertical-align: top;\n",
       "    }\n",
       "\n",
       "    .dataframe thead th {\n",
       "        text-align: right;\n",
       "    }\n",
       "</style>\n",
       "<table border=\"1\" class=\"dataframe\">\n",
       "  <thead>\n",
       "    <tr style=\"text-align: right;\">\n",
       "      <th></th>\n",
       "      <th>Review</th>\n",
       "      <th>label</th>\n",
       "    </tr>\n",
       "  </thead>\n",
       "  <tbody>\n",
       "    <tr>\n",
       "      <th>0</th>\n",
       "      <td>up to this point i ve mostly been using chatgp...</td>\n",
       "      <td>0</td>\n",
       "    </tr>\n",
       "    <tr>\n",
       "      <th>1</th>\n",
       "      <td>i ve been a user since it s initial roll out a...</td>\n",
       "      <td>0</td>\n",
       "    </tr>\n",
       "    <tr>\n",
       "      <th>2</th>\n",
       "      <td>this app would almost be perfect if it wasn t ...</td>\n",
       "      <td>0</td>\n",
       "    </tr>\n",
       "    <tr>\n",
       "      <th>3</th>\n",
       "      <td>i recently downloaded the app and overall its ...</td>\n",
       "      <td>1</td>\n",
       "    </tr>\n",
       "    <tr>\n",
       "      <th>4</th>\n",
       "      <td>i appreciate the devs implementing siri suppor...</td>\n",
       "      <td>0</td>\n",
       "    </tr>\n",
       "  </tbody>\n",
       "</table>\n",
       "</div>"
      ],
      "text/plain": [
       "                                              Review  label\n",
       "0  up to this point i ve mostly been using chatgp...      0\n",
       "1  i ve been a user since it s initial roll out a...      0\n",
       "2  this app would almost be perfect if it wasn t ...      0\n",
       "3  i recently downloaded the app and overall its ...      1\n",
       "4  i appreciate the devs implementing siri suppor...      0"
      ]
     },
     "execution_count": 14,
     "metadata": {},
     "output_type": "execute_result"
    }
   ],
   "source": [
    "encoder = LabelEncoder()\n",
    "dataset.label = encoder.fit_transform(dataset.label)\n",
    "dataset.head()"
   ]
  },
  {
   "cell_type": "code",
   "execution_count": 15,
   "id": "75cfc8bf",
   "metadata": {
    "execution": {
     "iopub.execute_input": "2024-10-05T09:23:02.894885Z",
     "iopub.status.busy": "2024-10-05T09:23:02.894609Z",
     "iopub.status.idle": "2024-10-05T09:23:02.944269Z",
     "shell.execute_reply": "2024-10-05T09:23:02.943282Z"
    },
    "papermill": {
     "duration": 0.062732,
     "end_time": "2024-10-05T09:23:02.946571",
     "exception": false,
     "start_time": "2024-10-05T09:23:02.883839",
     "status": "completed"
    },
    "tags": []
   },
   "outputs": [
    {
     "name": "stdout",
     "output_type": "stream",
     "text": [
      "X_train shape is  (1799, 5000)\n",
      "X_test shape is  (450, 5000)\n",
      "y_train shape is  (1799,)\n",
      "y_test shape is  (450,)\n"
     ]
    }
   ],
   "source": [
    "### Split\n",
    "X_train, X_test, y_train, y_test = train_test_split(train, dataset.label, test_size=0.2, random_state=44, shuffle =True,stratify=dataset.label)\n",
    "print('X_train shape is ' , X_train.shape)\n",
    "print('X_test shape is ' , X_test.shape)\n",
    "print('y_train shape is ' , y_train.shape)\n",
    "print('y_test shape is ' , y_test.shape)"
   ]
  },
  {
   "cell_type": "markdown",
   "id": "02af0307",
   "metadata": {
    "papermill": {
     "duration": 0.009854,
     "end_time": "2024-10-05T09:23:02.966775",
     "exception": false,
     "start_time": "2024-10-05T09:23:02.956921",
     "status": "completed"
    },
    "tags": []
   },
   "source": [
    "**<a id=\"4\"></a>\n",
    "<h1><b><p style=\"background-image: url(https://i.postimg.cc/0Qwf8YX6/2927262.jpg);font-family:camtasia;font-size:110%;color:white;text-align:center;border-radius:15px 50px; padding:7px; border:solid 2px #09375b; box-shadow: 10px 10px 10px #042b4c\">ML Models</p></b></h1>\n",
    "<a class=\"btn\" href=\"#home\">Tabel of Contents</a>"
   ]
  },
  {
   "cell_type": "code",
   "execution_count": 16,
   "id": "772b7a7d",
   "metadata": {
    "execution": {
     "iopub.execute_input": "2024-10-05T09:23:02.987922Z",
     "iopub.status.busy": "2024-10-05T09:23:02.987585Z",
     "iopub.status.idle": "2024-10-05T09:25:49.522676Z",
     "shell.execute_reply": "2024-10-05T09:25:49.521238Z"
    },
    "papermill": {
     "duration": 166.563918,
     "end_time": "2024-10-05T09:25:49.540534",
     "exception": false,
     "start_time": "2024-10-05T09:23:02.976616",
     "status": "completed"
    },
    "tags": []
   },
   "outputs": [
    {
     "name": "stdout",
     "output_type": "stream",
     "text": [
      "Cross-validating RandomForest...\n",
      "Mean accuracy for RandomForest: 0.7782\n",
      "Cross-validating XGBoost...\n",
      "Mean accuracy for XGBoost: 0.7943\n",
      "Cross-validating LGBM...\n",
      "Mean accuracy for LGBM: 0.7877\n",
      "Cross-validating DecisionTree...\n",
      "Mean accuracy for DecisionTree: 0.7104\n",
      "Cross-validating KNN...\n",
      "Mean accuracy for KNN: 0.4680\n",
      "Cross-validating SVC...\n",
      "Mean accuracy for SVC: 0.8271\n",
      "Cross-validating LogisticRegression...\n",
      "Mean accuracy for LogisticRegression: 0.8032\n",
      "Cross-validating CatBoost...\n",
      "Mean accuracy for CatBoost: 0.8032\n"
     ]
    }
   ],
   "source": [
    "models = {\n",
    "    'RandomForest': RandomForestClassifier(),\n",
    "    'XGBoost': XGBClassifier(),\n",
    "    'LGBM': LGBMClassifier(verbose=-1),\n",
    "    'DecisionTree': DecisionTreeClassifier(),\n",
    "    'KNN': KNeighborsClassifier(),\n",
    "    'SVC': SVC(),\n",
    "    'LogisticRegression': LogisticRegression(),\n",
    "    'CatBoost': CatBoostClassifier(logging_level='Silent')\n",
    "}\n",
    "### Validation Score\n",
    "cv_results = {}\n",
    "for model_name, model in models.items():\n",
    "    print(f\"Cross-validating {model_name}...\")\n",
    "    \n",
    "    # Convert to dense format if using SVC\n",
    "    if isinstance(model, SVC):\n",
    "        cv_scores = cross_val_score(model, X_train, y_train, cv=5, scoring='accuracy', n_jobs=-1, verbose=0)\n",
    "    else:\n",
    "        cv_scores = cross_val_score(model, X_train, y_train, cv=5, scoring='accuracy', n_jobs=-1, verbose=0)\n",
    "    \n",
    "    cv_results[model_name] = cv_scores.mean()\n",
    "    print(f\"Mean accuracy for {model_name}: {cv_scores.mean():.4f}\")"
   ]
  },
  {
   "cell_type": "code",
   "execution_count": 17,
   "id": "bd126c1d",
   "metadata": {
    "execution": {
     "iopub.execute_input": "2024-10-05T09:25:49.570306Z",
     "iopub.status.busy": "2024-10-05T09:25:49.569606Z",
     "iopub.status.idle": "2024-10-05T09:25:49.588879Z",
     "shell.execute_reply": "2024-10-05T09:25:49.588112Z"
    },
    "papermill": {
     "duration": 0.036148,
     "end_time": "2024-10-05T09:25:49.590839",
     "exception": false,
     "start_time": "2024-10-05T09:25:49.554691",
     "status": "completed"
    },
    "tags": []
   },
   "outputs": [
    {
     "data": {
      "text/html": [
       "<div>\n",
       "<style scoped>\n",
       "    .dataframe tbody tr th:only-of-type {\n",
       "        vertical-align: middle;\n",
       "    }\n",
       "\n",
       "    .dataframe tbody tr th {\n",
       "        vertical-align: top;\n",
       "    }\n",
       "\n",
       "    .dataframe thead th {\n",
       "        text-align: right;\n",
       "    }\n",
       "</style>\n",
       "<table border=\"1\" class=\"dataframe\">\n",
       "  <thead>\n",
       "    <tr style=\"text-align: right;\">\n",
       "      <th></th>\n",
       "      <th>Model</th>\n",
       "      <th>Mean Accuracy</th>\n",
       "    </tr>\n",
       "  </thead>\n",
       "  <tbody>\n",
       "    <tr>\n",
       "      <th>5</th>\n",
       "      <td>SVC</td>\n",
       "      <td>0.827134</td>\n",
       "    </tr>\n",
       "    <tr>\n",
       "      <th>7</th>\n",
       "      <td>CatBoost</td>\n",
       "      <td>0.803227</td>\n",
       "    </tr>\n",
       "    <tr>\n",
       "      <th>6</th>\n",
       "      <td>LogisticRegression</td>\n",
       "      <td>0.803208</td>\n",
       "    </tr>\n",
       "    <tr>\n",
       "      <th>1</th>\n",
       "      <td>XGBoost</td>\n",
       "      <td>0.794336</td>\n",
       "    </tr>\n",
       "    <tr>\n",
       "      <th>2</th>\n",
       "      <td>LGBM</td>\n",
       "      <td>0.787677</td>\n",
       "    </tr>\n",
       "    <tr>\n",
       "      <th>0</th>\n",
       "      <td>RandomForest</td>\n",
       "      <td>0.778211</td>\n",
       "    </tr>\n",
       "    <tr>\n",
       "      <th>3</th>\n",
       "      <td>DecisionTree</td>\n",
       "      <td>0.710395</td>\n",
       "    </tr>\n",
       "    <tr>\n",
       "      <th>4</th>\n",
       "      <td>KNN</td>\n",
       "      <td>0.468041</td>\n",
       "    </tr>\n",
       "  </tbody>\n",
       "</table>\n",
       "</div>"
      ],
      "text/plain": [
       "                Model  Mean Accuracy\n",
       "5                 SVC       0.827134\n",
       "7            CatBoost       0.803227\n",
       "6  LogisticRegression       0.803208\n",
       "1             XGBoost       0.794336\n",
       "2                LGBM       0.787677\n",
       "0        RandomForest       0.778211\n",
       "3        DecisionTree       0.710395\n",
       "4                 KNN       0.468041"
      ]
     },
     "execution_count": 17,
     "metadata": {},
     "output_type": "execute_result"
    }
   ],
   "source": [
    "cv_results_df = pd.DataFrame(list(cv_results.items()), columns=['Model', 'Mean Accuracy'])\n",
    "cv_results_df = cv_results_df.sort_values(by='Mean Accuracy', ascending=False)\n",
    "cv_results_df"
   ]
  },
  {
   "cell_type": "code",
   "execution_count": 18,
   "id": "2b9733f0",
   "metadata": {
    "execution": {
     "iopub.execute_input": "2024-10-05T09:25:49.613830Z",
     "iopub.status.busy": "2024-10-05T09:25:49.613518Z",
     "iopub.status.idle": "2024-10-05T09:25:49.618459Z",
     "shell.execute_reply": "2024-10-05T09:25:49.617560Z"
    },
    "papermill": {
     "duration": 0.018825,
     "end_time": "2024-10-05T09:25:49.620484",
     "exception": false,
     "start_time": "2024-10-05T09:25:49.601659",
     "status": "completed"
    },
    "tags": []
   },
   "outputs": [
    {
     "name": "stdout",
     "output_type": "stream",
     "text": [
      "\n",
      "Best model from CV: SVC\n"
     ]
    }
   ],
   "source": [
    "best_model_name = cv_results_df.iloc[0]['Model']\n",
    "print(f\"\\nBest model from CV: {best_model_name}\")"
   ]
  },
  {
   "cell_type": "code",
   "execution_count": 19,
   "id": "c35d54cd",
   "metadata": {
    "execution": {
     "iopub.execute_input": "2024-10-05T09:25:49.643825Z",
     "iopub.status.busy": "2024-10-05T09:25:49.643256Z",
     "iopub.status.idle": "2024-10-05T09:25:51.341871Z",
     "shell.execute_reply": "2024-10-05T09:25:51.340913Z"
    },
    "papermill": {
     "duration": 1.712482,
     "end_time": "2024-10-05T09:25:51.343946",
     "exception": false,
     "start_time": "2024-10-05T09:25:49.631464",
     "status": "completed"
    },
    "tags": []
   },
   "outputs": [
    {
     "data": {
      "text/html": [
       "        <script type=\"text/javascript\">\n",
       "        window.PlotlyConfig = {MathJaxConfig: 'local'};\n",
       "        if (window.MathJax && window.MathJax.Hub && window.MathJax.Hub.Config) {window.MathJax.Hub.Config({SVG: {font: \"STIX-Web\"}});}\n",
       "        if (typeof require !== 'undefined') {\n",
       "        require.undef(\"plotly\");\n",
       "        requirejs.config({\n",
       "            paths: {\n",
       "                'plotly': ['https://cdn.plot.ly/plotly-2.32.0.min']\n",
       "            }\n",
       "        });\n",
       "        require(['plotly'], function(Plotly) {\n",
       "            window._Plotly = Plotly;\n",
       "        });\n",
       "        }\n",
       "        </script>\n",
       "        "
      ]
     },
     "metadata": {},
     "output_type": "display_data"
    },
    {
     "data": {
      "text/html": [
       "<div>                            <div id=\"cfa06009-2fed-485c-a9c0-195a528d6b06\" class=\"plotly-graph-div\" style=\"height:600px; width:800px;\"></div>            <script type=\"text/javascript\">                require([\"plotly\"], function(Plotly) {                    window.PLOTLYENV=window.PLOTLYENV || {};                                    if (document.getElementById(\"cfa06009-2fed-485c-a9c0-195a528d6b06\")) {                    Plotly.newPlot(                        \"cfa06009-2fed-485c-a9c0-195a528d6b06\",                        [{\"alignmentgroup\":\"True\",\"hovertemplate\":\"Model=%{x}\\u003cbr\\u003eMean Accuracy=%{marker.color}\\u003cextra\\u003e\\u003c\\u002fextra\\u003e\",\"legendgroup\":\"\",\"marker\":{\"color\":[0.8271340142370784,0.8032265552460538,0.8032079851439182,0.7943361188486537,0.7876771897245435,0.778211080160941,0.7103946146703807,0.4680408542246982],\"coloraxis\":\"coloraxis\",\"pattern\":{\"shape\":\"\"}},\"name\":\"\",\"offsetgroup\":\"\",\"orientation\":\"v\",\"showlegend\":false,\"textposition\":\"auto\",\"texttemplate\":\"%{y}\",\"x\":[\"SVC\",\"CatBoost\",\"LogisticRegression\",\"XGBoost\",\"LGBM\",\"RandomForest\",\"DecisionTree\",\"KNN\"],\"xaxis\":\"x\",\"y\":[0.8271340142370784,0.8032265552460538,0.8032079851439182,0.7943361188486537,0.7876771897245435,0.778211080160941,0.7103946146703807,0.4680408542246982],\"yaxis\":\"y\",\"type\":\"bar\"}],                        {\"template\":{\"data\":{\"barpolar\":[{\"marker\":{\"line\":{\"color\":\"rgb(17,17,17)\",\"width\":0.5},\"pattern\":{\"fillmode\":\"overlay\",\"size\":10,\"solidity\":0.2}},\"type\":\"barpolar\"}],\"bar\":[{\"error_x\":{\"color\":\"#f2f5fa\"},\"error_y\":{\"color\":\"#f2f5fa\"},\"marker\":{\"line\":{\"color\":\"rgb(17,17,17)\",\"width\":0.5},\"pattern\":{\"fillmode\":\"overlay\",\"size\":10,\"solidity\":0.2}},\"type\":\"bar\"}],\"carpet\":[{\"aaxis\":{\"endlinecolor\":\"#A2B1C6\",\"gridcolor\":\"#506784\",\"linecolor\":\"#506784\",\"minorgridcolor\":\"#506784\",\"startlinecolor\":\"#A2B1C6\"},\"baxis\":{\"endlinecolor\":\"#A2B1C6\",\"gridcolor\":\"#506784\",\"linecolor\":\"#506784\",\"minorgridcolor\":\"#506784\",\"startlinecolor\":\"#A2B1C6\"},\"type\":\"carpet\"}],\"choropleth\":[{\"colorbar\":{\"outlinewidth\":0,\"ticks\":\"\"},\"type\":\"choropleth\"}],\"contourcarpet\":[{\"colorbar\":{\"outlinewidth\":0,\"ticks\":\"\"},\"type\":\"contourcarpet\"}],\"contour\":[{\"colorbar\":{\"outlinewidth\":0,\"ticks\":\"\"},\"colorscale\":[[0.0,\"#0d0887\"],[0.1111111111111111,\"#46039f\"],[0.2222222222222222,\"#7201a8\"],[0.3333333333333333,\"#9c179e\"],[0.4444444444444444,\"#bd3786\"],[0.5555555555555556,\"#d8576b\"],[0.6666666666666666,\"#ed7953\"],[0.7777777777777778,\"#fb9f3a\"],[0.8888888888888888,\"#fdca26\"],[1.0,\"#f0f921\"]],\"type\":\"contour\"}],\"heatmapgl\":[{\"colorbar\":{\"outlinewidth\":0,\"ticks\":\"\"},\"colorscale\":[[0.0,\"#0d0887\"],[0.1111111111111111,\"#46039f\"],[0.2222222222222222,\"#7201a8\"],[0.3333333333333333,\"#9c179e\"],[0.4444444444444444,\"#bd3786\"],[0.5555555555555556,\"#d8576b\"],[0.6666666666666666,\"#ed7953\"],[0.7777777777777778,\"#fb9f3a\"],[0.8888888888888888,\"#fdca26\"],[1.0,\"#f0f921\"]],\"type\":\"heatmapgl\"}],\"heatmap\":[{\"colorbar\":{\"outlinewidth\":0,\"ticks\":\"\"},\"colorscale\":[[0.0,\"#0d0887\"],[0.1111111111111111,\"#46039f\"],[0.2222222222222222,\"#7201a8\"],[0.3333333333333333,\"#9c179e\"],[0.4444444444444444,\"#bd3786\"],[0.5555555555555556,\"#d8576b\"],[0.6666666666666666,\"#ed7953\"],[0.7777777777777778,\"#fb9f3a\"],[0.8888888888888888,\"#fdca26\"],[1.0,\"#f0f921\"]],\"type\":\"heatmap\"}],\"histogram2dcontour\":[{\"colorbar\":{\"outlinewidth\":0,\"ticks\":\"\"},\"colorscale\":[[0.0,\"#0d0887\"],[0.1111111111111111,\"#46039f\"],[0.2222222222222222,\"#7201a8\"],[0.3333333333333333,\"#9c179e\"],[0.4444444444444444,\"#bd3786\"],[0.5555555555555556,\"#d8576b\"],[0.6666666666666666,\"#ed7953\"],[0.7777777777777778,\"#fb9f3a\"],[0.8888888888888888,\"#fdca26\"],[1.0,\"#f0f921\"]],\"type\":\"histogram2dcontour\"}],\"histogram2d\":[{\"colorbar\":{\"outlinewidth\":0,\"ticks\":\"\"},\"colorscale\":[[0.0,\"#0d0887\"],[0.1111111111111111,\"#46039f\"],[0.2222222222222222,\"#7201a8\"],[0.3333333333333333,\"#9c179e\"],[0.4444444444444444,\"#bd3786\"],[0.5555555555555556,\"#d8576b\"],[0.6666666666666666,\"#ed7953\"],[0.7777777777777778,\"#fb9f3a\"],[0.8888888888888888,\"#fdca26\"],[1.0,\"#f0f921\"]],\"type\":\"histogram2d\"}],\"histogram\":[{\"marker\":{\"pattern\":{\"fillmode\":\"overlay\",\"size\":10,\"solidity\":0.2}},\"type\":\"histogram\"}],\"mesh3d\":[{\"colorbar\":{\"outlinewidth\":0,\"ticks\":\"\"},\"type\":\"mesh3d\"}],\"parcoords\":[{\"line\":{\"colorbar\":{\"outlinewidth\":0,\"ticks\":\"\"}},\"type\":\"parcoords\"}],\"pie\":[{\"automargin\":true,\"type\":\"pie\"}],\"scatter3d\":[{\"line\":{\"colorbar\":{\"outlinewidth\":0,\"ticks\":\"\"}},\"marker\":{\"colorbar\":{\"outlinewidth\":0,\"ticks\":\"\"}},\"type\":\"scatter3d\"}],\"scattercarpet\":[{\"marker\":{\"colorbar\":{\"outlinewidth\":0,\"ticks\":\"\"}},\"type\":\"scattercarpet\"}],\"scattergeo\":[{\"marker\":{\"colorbar\":{\"outlinewidth\":0,\"ticks\":\"\"}},\"type\":\"scattergeo\"}],\"scattergl\":[{\"marker\":{\"line\":{\"color\":\"#283442\"}},\"type\":\"scattergl\"}],\"scattermapbox\":[{\"marker\":{\"colorbar\":{\"outlinewidth\":0,\"ticks\":\"\"}},\"type\":\"scattermapbox\"}],\"scatterpolargl\":[{\"marker\":{\"colorbar\":{\"outlinewidth\":0,\"ticks\":\"\"}},\"type\":\"scatterpolargl\"}],\"scatterpolar\":[{\"marker\":{\"colorbar\":{\"outlinewidth\":0,\"ticks\":\"\"}},\"type\":\"scatterpolar\"}],\"scatter\":[{\"marker\":{\"line\":{\"color\":\"#283442\"}},\"type\":\"scatter\"}],\"scatterternary\":[{\"marker\":{\"colorbar\":{\"outlinewidth\":0,\"ticks\":\"\"}},\"type\":\"scatterternary\"}],\"surface\":[{\"colorbar\":{\"outlinewidth\":0,\"ticks\":\"\"},\"colorscale\":[[0.0,\"#0d0887\"],[0.1111111111111111,\"#46039f\"],[0.2222222222222222,\"#7201a8\"],[0.3333333333333333,\"#9c179e\"],[0.4444444444444444,\"#bd3786\"],[0.5555555555555556,\"#d8576b\"],[0.6666666666666666,\"#ed7953\"],[0.7777777777777778,\"#fb9f3a\"],[0.8888888888888888,\"#fdca26\"],[1.0,\"#f0f921\"]],\"type\":\"surface\"}],\"table\":[{\"cells\":{\"fill\":{\"color\":\"#506784\"},\"line\":{\"color\":\"rgb(17,17,17)\"}},\"header\":{\"fill\":{\"color\":\"#2a3f5f\"},\"line\":{\"color\":\"rgb(17,17,17)\"}},\"type\":\"table\"}]},\"layout\":{\"annotationdefaults\":{\"arrowcolor\":\"#f2f5fa\",\"arrowhead\":0,\"arrowwidth\":1},\"autotypenumbers\":\"strict\",\"coloraxis\":{\"colorbar\":{\"outlinewidth\":0,\"ticks\":\"\"}},\"colorscale\":{\"diverging\":[[0,\"#8e0152\"],[0.1,\"#c51b7d\"],[0.2,\"#de77ae\"],[0.3,\"#f1b6da\"],[0.4,\"#fde0ef\"],[0.5,\"#f7f7f7\"],[0.6,\"#e6f5d0\"],[0.7,\"#b8e186\"],[0.8,\"#7fbc41\"],[0.9,\"#4d9221\"],[1,\"#276419\"]],\"sequential\":[[0.0,\"#0d0887\"],[0.1111111111111111,\"#46039f\"],[0.2222222222222222,\"#7201a8\"],[0.3333333333333333,\"#9c179e\"],[0.4444444444444444,\"#bd3786\"],[0.5555555555555556,\"#d8576b\"],[0.6666666666666666,\"#ed7953\"],[0.7777777777777778,\"#fb9f3a\"],[0.8888888888888888,\"#fdca26\"],[1.0,\"#f0f921\"]],\"sequentialminus\":[[0.0,\"#0d0887\"],[0.1111111111111111,\"#46039f\"],[0.2222222222222222,\"#7201a8\"],[0.3333333333333333,\"#9c179e\"],[0.4444444444444444,\"#bd3786\"],[0.5555555555555556,\"#d8576b\"],[0.6666666666666666,\"#ed7953\"],[0.7777777777777778,\"#fb9f3a\"],[0.8888888888888888,\"#fdca26\"],[1.0,\"#f0f921\"]]},\"colorway\":[\"#636efa\",\"#EF553B\",\"#00cc96\",\"#ab63fa\",\"#FFA15A\",\"#19d3f3\",\"#FF6692\",\"#B6E880\",\"#FF97FF\",\"#FECB52\"],\"font\":{\"color\":\"#f2f5fa\"},\"geo\":{\"bgcolor\":\"rgb(17,17,17)\",\"lakecolor\":\"rgb(17,17,17)\",\"landcolor\":\"rgb(17,17,17)\",\"showlakes\":true,\"showland\":true,\"subunitcolor\":\"#506784\"},\"hoverlabel\":{\"align\":\"left\"},\"hovermode\":\"closest\",\"mapbox\":{\"style\":\"dark\"},\"paper_bgcolor\":\"rgb(17,17,17)\",\"plot_bgcolor\":\"rgb(17,17,17)\",\"polar\":{\"angularaxis\":{\"gridcolor\":\"#506784\",\"linecolor\":\"#506784\",\"ticks\":\"\"},\"bgcolor\":\"rgb(17,17,17)\",\"radialaxis\":{\"gridcolor\":\"#506784\",\"linecolor\":\"#506784\",\"ticks\":\"\"}},\"scene\":{\"xaxis\":{\"backgroundcolor\":\"rgb(17,17,17)\",\"gridcolor\":\"#506784\",\"gridwidth\":2,\"linecolor\":\"#506784\",\"showbackground\":true,\"ticks\":\"\",\"zerolinecolor\":\"#C8D4E3\"},\"yaxis\":{\"backgroundcolor\":\"rgb(17,17,17)\",\"gridcolor\":\"#506784\",\"gridwidth\":2,\"linecolor\":\"#506784\",\"showbackground\":true,\"ticks\":\"\",\"zerolinecolor\":\"#C8D4E3\"},\"zaxis\":{\"backgroundcolor\":\"rgb(17,17,17)\",\"gridcolor\":\"#506784\",\"gridwidth\":2,\"linecolor\":\"#506784\",\"showbackground\":true,\"ticks\":\"\",\"zerolinecolor\":\"#C8D4E3\"}},\"shapedefaults\":{\"line\":{\"color\":\"#f2f5fa\"}},\"sliderdefaults\":{\"bgcolor\":\"#C8D4E3\",\"bordercolor\":\"rgb(17,17,17)\",\"borderwidth\":1,\"tickwidth\":0},\"ternary\":{\"aaxis\":{\"gridcolor\":\"#506784\",\"linecolor\":\"#506784\",\"ticks\":\"\"},\"baxis\":{\"gridcolor\":\"#506784\",\"linecolor\":\"#506784\",\"ticks\":\"\"},\"bgcolor\":\"rgb(17,17,17)\",\"caxis\":{\"gridcolor\":\"#506784\",\"linecolor\":\"#506784\",\"ticks\":\"\"}},\"title\":{\"x\":0.05},\"updatemenudefaults\":{\"bgcolor\":\"#506784\",\"borderwidth\":0},\"xaxis\":{\"automargin\":true,\"gridcolor\":\"#283442\",\"linecolor\":\"#506784\",\"ticks\":\"\",\"title\":{\"standoff\":15},\"zerolinecolor\":\"#283442\",\"zerolinewidth\":2},\"yaxis\":{\"automargin\":true,\"gridcolor\":\"#283442\",\"linecolor\":\"#506784\",\"ticks\":\"\",\"title\":{\"standoff\":15},\"zerolinecolor\":\"#283442\",\"zerolinewidth\":2}}},\"xaxis\":{\"anchor\":\"y\",\"domain\":[0.0,1.0],\"title\":{\"text\":\"Model\"}},\"yaxis\":{\"anchor\":\"x\",\"domain\":[0.0,1.0],\"title\":{\"text\":\"Mean Accuracy\"}},\"coloraxis\":{\"colorbar\":{\"title\":{\"text\":\"Mean Accuracy\"}},\"colorscale\":[[0.0,\"#0d0887\"],[0.1111111111111111,\"#46039f\"],[0.2222222222222222,\"#7201a8\"],[0.3333333333333333,\"#9c179e\"],[0.4444444444444444,\"#bd3786\"],[0.5555555555555556,\"#d8576b\"],[0.6666666666666666,\"#ed7953\"],[0.7777777777777778,\"#fb9f3a\"],[0.8888888888888888,\"#fdca26\"],[1.0,\"#f0f921\"]]},\"legend\":{\"tracegroupgap\":0},\"title\":{\"text\":\"Cross-Validation Accuracy for Different Models\",\"x\":0.5},\"barmode\":\"relative\",\"width\":800,\"height\":600},                        {\"responsive\": true}                    ).then(function(){\n",
       "                            \n",
       "var gd = document.getElementById('cfa06009-2fed-485c-a9c0-195a528d6b06');\n",
       "var x = new MutationObserver(function (mutations, observer) {{\n",
       "        var display = window.getComputedStyle(gd).display;\n",
       "        if (!display || display === 'none') {{\n",
       "            console.log([gd, 'removed!']);\n",
       "            Plotly.purge(gd);\n",
       "            observer.disconnect();\n",
       "        }}\n",
       "}});\n",
       "\n",
       "// Listen for the removal of the full notebook cells\n",
       "var notebookContainer = gd.closest('#notebook-container');\n",
       "if (notebookContainer) {{\n",
       "    x.observe(notebookContainer, {childList: true});\n",
       "}}\n",
       "\n",
       "// Listen for the clearing of the current output cell\n",
       "var outputEl = gd.closest('.output');\n",
       "if (outputEl) {{\n",
       "    x.observe(outputEl, {childList: true});\n",
       "}}\n",
       "\n",
       "                        })                };                });            </script>        </div>"
      ]
     },
     "metadata": {},
     "output_type": "display_data"
    }
   ],
   "source": [
    "fig = px.bar(cv_results_df, x='Model', y='Mean Accuracy', title='Cross-Validation Accuracy for Different Models',text_auto=True,\n",
    "             labels={'Mean Accuracy': 'Mean Accuracy'}, color='Mean Accuracy')\n",
    "fig.update_layout(\n",
    "    title_x=0.5,\n",
    "    template=\"plotly_dark\",  \n",
    "    width=800,              \n",
    "    height=600 \n",
    ")\n",
    "fig.show()"
   ]
  },
  {
   "cell_type": "code",
   "execution_count": 20,
   "id": "fcf917a4",
   "metadata": {
    "execution": {
     "iopub.execute_input": "2024-10-05T09:25:51.368917Z",
     "iopub.status.busy": "2024-10-05T09:25:51.368618Z",
     "iopub.status.idle": "2024-10-05T17:50:46.496668Z",
     "shell.execute_reply": "2024-10-05T17:50:46.495265Z"
    },
    "papermill": {
     "duration": 30295.143045,
     "end_time": "2024-10-05T17:50:46.498956",
     "exception": false,
     "start_time": "2024-10-05T09:25:51.355911",
     "status": "completed"
    },
    "tags": []
   },
   "outputs": [
    {
     "name": "stdout",
     "output_type": "stream",
     "text": [
      "\n",
      "Performing GridSearchCV for RandomForest...\n",
      "\n",
      "Best parameters for RandomForest: {'max_depth': None, 'min_samples_split': 5, 'n_estimators': 30}\n",
      "Best cross-validation score for RandomForest: 0.7888\n",
      "\n",
      "Performing GridSearchCV for XGBoost...\n"
     ]
    },
    {
     "name": "stderr",
     "output_type": "stream",
     "text": [
      "/opt/conda/lib/python3.10/site-packages/joblib/externals/loky/process_executor.py:752: UserWarning:\n",
      "\n",
      "A worker stopped while some jobs were given to the executor. This can be caused by a too short worker timeout or by a memory leak.\n",
      "\n"
     ]
    },
    {
     "name": "stdout",
     "output_type": "stream",
     "text": [
      "\n",
      "Best parameters for XGBoost: {'learning_rate': 0.2, 'max_depth': 5, 'n_estimators': 70, 'subsample': 1}\n",
      "Best cross-validation score for XGBoost: 0.7988\n",
      "\n",
      "Performing GridSearchCV for LGBM...\n"
     ]
    },
    {
     "name": "stderr",
     "output_type": "stream",
     "text": [
      "/opt/conda/lib/python3.10/site-packages/joblib/externals/loky/process_executor.py:752: UserWarning:\n",
      "\n",
      "A worker stopped while some jobs were given to the executor. This can be caused by a too short worker timeout or by a memory leak.\n",
      "\n"
     ]
    },
    {
     "name": "stdout",
     "output_type": "stream",
     "text": [
      "\n",
      "Best parameters for LGBM: {'learning_rate': 0.1, 'max_depth': -1, 'n_estimators': 150}\n",
      "Best cross-validation score for LGBM: 0.7921\n",
      "\n",
      "Performing GridSearchCV for DecisionTree...\n",
      "\n",
      "Best parameters for DecisionTree: {'max_depth': None, 'min_samples_split': 2}\n",
      "Best cross-validation score for DecisionTree: 0.7076\n",
      "\n",
      "Performing GridSearchCV for KNN...\n",
      "\n",
      "Best parameters for KNN: {'n_neighbors': 3, 'p': 2, 'weights': 'distance'}\n",
      "Best cross-validation score for KNN: 0.4764\n",
      "\n",
      "Performing GridSearchCV for SVC...\n",
      "\n",
      "Best parameters for SVC: {'C': 10, 'gamma': 'scale', 'kernel': 'rbf'}\n",
      "Best cross-validation score for SVC: 0.8338\n",
      "\n",
      "Performing GridSearchCV for LogisticRegression...\n"
     ]
    },
    {
     "name": "stderr",
     "output_type": "stream",
     "text": [
      "/opt/conda/lib/python3.10/site-packages/sklearn/linear_model/_sag.py:350: ConvergenceWarning: The max_iter was reached which means the coef_ did not converge\n",
      "  warnings.warn(\n",
      "/opt/conda/lib/python3.10/site-packages/sklearn/linear_model/_sag.py:350: ConvergenceWarning: The max_iter was reached which means the coef_ did not converge\n",
      "  warnings.warn(\n",
      "/opt/conda/lib/python3.10/site-packages/sklearn/linear_model/_sag.py:350: ConvergenceWarning: The max_iter was reached which means the coef_ did not converge\n",
      "  warnings.warn(\n",
      "/opt/conda/lib/python3.10/site-packages/sklearn/linear_model/_sag.py:350: ConvergenceWarning: The max_iter was reached which means the coef_ did not converge\n",
      "  warnings.warn(\n",
      "/opt/conda/lib/python3.10/site-packages/sklearn/linear_model/_sag.py:350: ConvergenceWarning: The max_iter was reached which means the coef_ did not converge\n",
      "  warnings.warn(\n"
     ]
    },
    {
     "name": "stdout",
     "output_type": "stream",
     "text": [
      "\n",
      "Best parameters for LogisticRegression: {'C': 10, 'penalty': 'l2', 'solver': 'liblinear'}\n",
      "Best cross-validation score for LogisticRegression: 0.8099\n",
      "\n",
      "Performing GridSearchCV for CatBoost...\n"
     ]
    },
    {
     "name": "stderr",
     "output_type": "stream",
     "text": [
      "/opt/conda/lib/python3.10/site-packages/joblib/externals/loky/process_executor.py:752: UserWarning:\n",
      "\n",
      "A worker stopped while some jobs were given to the executor. This can be caused by a too short worker timeout or by a memory leak.\n",
      "\n",
      "/opt/conda/lib/python3.10/site-packages/sklearn/model_selection/_validation.py:378: FitFailedWarning:\n",
      "\n",
      "\n",
      "80 fits failed out of a total of 140.\n",
      "The score on these train-test partitions for these parameters will be set to nan.\n",
      "If these failures are not expected, you can try to debug them by setting error_score='raise'.\n",
      "\n",
      "Below are more details about the failures:\n",
      "--------------------------------------------------------------------------------\n",
      "80 fits failed with the following error:\n",
      "Traceback (most recent call last):\n",
      "  File \"/opt/conda/lib/python3.10/site-packages/sklearn/model_selection/_validation.py\", line 686, in _fit_and_score\n",
      "    estimator.fit(X_train, y_train, **fit_params)\n",
      "  File \"/opt/conda/lib/python3.10/site-packages/catboost/core.py\", line 5245, in fit\n",
      "    self._fit(X, y, cat_features, text_features, embedding_features, None, graph, sample_weight, None, None, None, None, baseline, use_best_model,\n",
      "  File \"/opt/conda/lib/python3.10/site-packages/catboost/core.py\", line 2395, in _fit\n",
      "    train_params = self._prepare_train_params(\n",
      "  File \"/opt/conda/lib/python3.10/site-packages/catboost/core.py\", line 2321, in _prepare_train_params\n",
      "    _check_train_params(params)\n",
      "  File \"_catboost.pyx\", line 6583, in _catboost._check_train_params\n",
      "  File \"_catboost.pyx\", line 6605, in _catboost._check_train_params\n",
      "_catboost.CatBoostError: catboost/private/libs/options/oblivious_tree_options.cpp:128: Maximum tree depth is 16\n",
      "\n",
      "\n",
      "/opt/conda/lib/python3.10/site-packages/sklearn/model_selection/_search.py:952: UserWarning:\n",
      "\n",
      "One or more of the test scores are non-finite: [0.6992835  0.79766171 0.7215212  0.80933612 0.71317858 0.79877437\n",
      " 0.7459935  0.80711544 0.76820953 0.80266481 0.7754333  0.80044413\n",
      "        nan        nan        nan        nan        nan        nan\n",
      "        nan        nan        nan        nan        nan        nan\n",
      "        nan        nan        nan        nan]\n",
      "\n"
     ]
    },
    {
     "name": "stdout",
     "output_type": "stream",
     "text": [
      "\n",
      "Best parameters for CatBoost: {'depth': 6, 'iterations': 200, 'learning_rate': 0.1}\n",
      "Best cross-validation score for CatBoost: 0.8093\n"
     ]
    }
   ],
   "source": [
    "### Search best Parameters\n",
    "param_grids = {\n",
    "    'RandomForest': {'n_estimators': [10, 20, 30, 40], 'max_depth': [None, 10, 20, 30, 40], 'min_samples_split': [2, 5, 10]},\n",
    "    'XGBoost': {'max_depth': [3, 5, 7], 'n_estimators': [50, 60, 70], 'subsample': [0.6, 0.8, 1], 'learning_rate': [0.01, 0.1, 0.2]},\n",
    "    'LGBM': {'n_estimators': [50, 100, 150], 'max_depth': [-1, 5, 10], 'learning_rate': [0.01, 0.05, 0.1]},\n",
    "    'DecisionTree': {'max_depth': [None, 10, 20, 30], 'min_samples_split': [2, 5, 10]},\n",
    "    'KNN': {'n_neighbors': [3, 5, 7], 'weights': ['uniform', 'distance'], 'p': [1, 2]},\n",
    "    'SVC': {'C': [0.1, 1, 10], 'kernel': ['linear', 'rbf', 'poly'], 'gamma': ['scale', 'auto']},\n",
    "    'LogisticRegression': {'C': [0.01, 0.1, 1, 10], 'penalty': ['l1', 'l2'], 'solver': ['liblinear', 'saga']},\n",
    "    'CatBoost': {'iterations': [100, 200], 'learning_rate': [0.01, 0.1], 'depth': [6, 10,15,20,25,30,40]}\n",
    "}\n",
    "best_results = []\n",
    "for model_name, model in models.items():\n",
    "    print(f\"\\nPerforming GridSearchCV for {model_name}...\")\n",
    "    grid_search = GridSearchCV(estimator=model, param_grid=param_grids[model_name], cv=5, scoring='accuracy', verbose=0, n_jobs=-1)\n",
    "    grid_search.fit(X_train, y_train)\n",
    "    best_params = grid_search.best_params_\n",
    "    best_score = grid_search.best_score_\n",
    "    # Store the best score and parameters\n",
    "    best_results.append({'Model': model_name, 'Best Score': best_score, 'Best Params': best_params})\n",
    "    print(f\"\\nBest parameters for {model_name}: {best_params}\")\n",
    "    print(f\"Best cross-validation score for {model_name}: {best_score:.4f}\")"
   ]
  },
  {
   "cell_type": "code",
   "execution_count": 21,
   "id": "30f1001c",
   "metadata": {
    "execution": {
     "iopub.execute_input": "2024-10-05T17:50:46.526811Z",
     "iopub.status.busy": "2024-10-05T17:50:46.526431Z",
     "iopub.status.idle": "2024-10-05T17:50:46.544991Z",
     "shell.execute_reply": "2024-10-05T17:50:46.544163Z"
    },
    "papermill": {
     "duration": 0.035036,
     "end_time": "2024-10-05T17:50:46.547085",
     "exception": false,
     "start_time": "2024-10-05T17:50:46.512049",
     "status": "completed"
    },
    "tags": []
   },
   "outputs": [
    {
     "data": {
      "text/html": [
       "<div>\n",
       "<style scoped>\n",
       "    .dataframe tbody tr th:only-of-type {\n",
       "        vertical-align: middle;\n",
       "    }\n",
       "\n",
       "    .dataframe tbody tr th {\n",
       "        vertical-align: top;\n",
       "    }\n",
       "\n",
       "    .dataframe thead th {\n",
       "        text-align: right;\n",
       "    }\n",
       "</style>\n",
       "<table border=\"1\" class=\"dataframe\">\n",
       "  <thead>\n",
       "    <tr style=\"text-align: right;\">\n",
       "      <th></th>\n",
       "      <th>Model</th>\n",
       "      <th>Best Score</th>\n",
       "      <th>Best Params</th>\n",
       "    </tr>\n",
       "  </thead>\n",
       "  <tbody>\n",
       "    <tr>\n",
       "      <th>5</th>\n",
       "      <td>SVC</td>\n",
       "      <td>0.833798</td>\n",
       "      <td>{'C': 10, 'gamma': 'scale', 'kernel': 'rbf'}</td>\n",
       "    </tr>\n",
       "    <tr>\n",
       "      <th>6</th>\n",
       "      <td>LogisticRegression</td>\n",
       "      <td>0.809906</td>\n",
       "      <td>{'C': 10, 'penalty': 'l2', 'solver': 'liblinear'}</td>\n",
       "    </tr>\n",
       "    <tr>\n",
       "      <th>7</th>\n",
       "      <td>CatBoost</td>\n",
       "      <td>0.809336</td>\n",
       "      <td>{'depth': 6, 'iterations': 200, 'learning_rate...</td>\n",
       "    </tr>\n",
       "    <tr>\n",
       "      <th>1</th>\n",
       "      <td>XGBoost</td>\n",
       "      <td>0.798781</td>\n",
       "      <td>{'learning_rate': 0.2, 'max_depth': 5, 'n_esti...</td>\n",
       "    </tr>\n",
       "    <tr>\n",
       "      <th>2</th>\n",
       "      <td>LGBM</td>\n",
       "      <td>0.792117</td>\n",
       "      <td>{'learning_rate': 0.1, 'max_depth': -1, 'n_est...</td>\n",
       "    </tr>\n",
       "    <tr>\n",
       "      <th>0</th>\n",
       "      <td>RandomForest</td>\n",
       "      <td>0.788781</td>\n",
       "      <td>{'max_depth': None, 'min_samples_split': 5, 'n...</td>\n",
       "    </tr>\n",
       "    <tr>\n",
       "      <th>3</th>\n",
       "      <td>DecisionTree</td>\n",
       "      <td>0.707609</td>\n",
       "      <td>{'max_depth': None, 'min_samples_split': 2}</td>\n",
       "    </tr>\n",
       "    <tr>\n",
       "      <th>4</th>\n",
       "      <td>KNN</td>\n",
       "      <td>0.476379</td>\n",
       "      <td>{'n_neighbors': 3, 'p': 2, 'weights': 'distance'}</td>\n",
       "    </tr>\n",
       "  </tbody>\n",
       "</table>\n",
       "</div>"
      ],
      "text/plain": [
       "                Model  Best Score  \\\n",
       "5                 SVC    0.833798   \n",
       "6  LogisticRegression    0.809906   \n",
       "7            CatBoost    0.809336   \n",
       "1             XGBoost    0.798781   \n",
       "2                LGBM    0.792117   \n",
       "0        RandomForest    0.788781   \n",
       "3        DecisionTree    0.707609   \n",
       "4                 KNN    0.476379   \n",
       "\n",
       "                                         Best Params  \n",
       "5       {'C': 10, 'gamma': 'scale', 'kernel': 'rbf'}  \n",
       "6  {'C': 10, 'penalty': 'l2', 'solver': 'liblinear'}  \n",
       "7  {'depth': 6, 'iterations': 200, 'learning_rate...  \n",
       "1  {'learning_rate': 0.2, 'max_depth': 5, 'n_esti...  \n",
       "2  {'learning_rate': 0.1, 'max_depth': -1, 'n_est...  \n",
       "0  {'max_depth': None, 'min_samples_split': 5, 'n...  \n",
       "3        {'max_depth': None, 'min_samples_split': 2}  \n",
       "4  {'n_neighbors': 3, 'p': 2, 'weights': 'distance'}  "
      ]
     },
     "execution_count": 21,
     "metadata": {},
     "output_type": "execute_result"
    }
   ],
   "source": [
    "best_results_df = pd.DataFrame(best_results)\n",
    "best_results_df = best_results_df.sort_values(by='Best Score', ascending=False)\n",
    "best_results_df"
   ]
  },
  {
   "cell_type": "code",
   "execution_count": 22,
   "id": "1f034d3f",
   "metadata": {
    "execution": {
     "iopub.execute_input": "2024-10-05T17:50:46.574668Z",
     "iopub.status.busy": "2024-10-05T17:50:46.574399Z",
     "iopub.status.idle": "2024-10-05T17:50:46.579586Z",
     "shell.execute_reply": "2024-10-05T17:50:46.578677Z"
    },
    "papermill": {
     "duration": 0.021439,
     "end_time": "2024-10-05T17:50:46.581719",
     "exception": false,
     "start_time": "2024-10-05T17:50:46.560280",
     "status": "completed"
    },
    "tags": []
   },
   "outputs": [
    {
     "name": "stdout",
     "output_type": "stream",
     "text": [
      "\n",
      "Best model : SVC\n",
      "\n",
      "Best Parameters : {'C': 10, 'gamma': 'scale', 'kernel': 'rbf'}\n"
     ]
    }
   ],
   "source": [
    "best_model_name, best_model_param = best_results_df.iloc[0]['Model'],best_results_df.iloc[0]['Best Params']\n",
    "print(f\"\\nBest model : {best_model_name}\")\n",
    "print(f\"\\nBest Parameters : {best_model_param}\")"
   ]
  },
  {
   "cell_type": "code",
   "execution_count": 23,
   "id": "28e7634e",
   "metadata": {
    "execution": {
     "iopub.execute_input": "2024-10-05T17:50:46.609615Z",
     "iopub.status.busy": "2024-10-05T17:50:46.609339Z",
     "iopub.status.idle": "2024-10-05T17:50:46.700318Z",
     "shell.execute_reply": "2024-10-05T17:50:46.699458Z"
    },
    "papermill": {
     "duration": 0.106959,
     "end_time": "2024-10-05T17:50:46.702130",
     "exception": false,
     "start_time": "2024-10-05T17:50:46.595171",
     "status": "completed"
    },
    "tags": []
   },
   "outputs": [
    {
     "data": {
      "text/html": [
       "<div>                            <div id=\"9de491fa-cd13-43c4-bfdf-689bf7b838da\" class=\"plotly-graph-div\" style=\"height:600px; width:800px;\"></div>            <script type=\"text/javascript\">                require([\"plotly\"], function(Plotly) {                    window.PLOTLYENV=window.PLOTLYENV || {};                                    if (document.getElementById(\"9de491fa-cd13-43c4-bfdf-689bf7b838da\")) {                    Plotly.newPlot(                        \"9de491fa-cd13-43c4-bfdf-689bf7b838da\",                        [{\"alignmentgroup\":\"True\",\"hovertemplate\":\"Model=%{x}\\u003cbr\\u003eBest Cross-Validation Score=%{marker.color}\\u003cextra\\u003e\\u003c\\u002fextra\\u003e\",\"legendgroup\":\"\",\"marker\":{\"color\":[0.8337975858867225,0.8099056019808109,0.8093361188486536,0.7987805632930981,0.792116991643454,0.7887805632930982,0.7076090993500465,0.4763788300835654],\"coloraxis\":\"coloraxis\",\"pattern\":{\"shape\":\"\"}},\"name\":\"\",\"offsetgroup\":\"\",\"orientation\":\"v\",\"showlegend\":false,\"textposition\":\"auto\",\"texttemplate\":\"%{y}\",\"x\":[\"SVC\",\"LogisticRegression\",\"CatBoost\",\"XGBoost\",\"LGBM\",\"RandomForest\",\"DecisionTree\",\"KNN\"],\"xaxis\":\"x\",\"y\":[0.8337975858867225,0.8099056019808109,0.8093361188486536,0.7987805632930981,0.792116991643454,0.7887805632930982,0.7076090993500465,0.4763788300835654],\"yaxis\":\"y\",\"type\":\"bar\"}],                        {\"template\":{\"data\":{\"barpolar\":[{\"marker\":{\"line\":{\"color\":\"rgb(17,17,17)\",\"width\":0.5},\"pattern\":{\"fillmode\":\"overlay\",\"size\":10,\"solidity\":0.2}},\"type\":\"barpolar\"}],\"bar\":[{\"error_x\":{\"color\":\"#f2f5fa\"},\"error_y\":{\"color\":\"#f2f5fa\"},\"marker\":{\"line\":{\"color\":\"rgb(17,17,17)\",\"width\":0.5},\"pattern\":{\"fillmode\":\"overlay\",\"size\":10,\"solidity\":0.2}},\"type\":\"bar\"}],\"carpet\":[{\"aaxis\":{\"endlinecolor\":\"#A2B1C6\",\"gridcolor\":\"#506784\",\"linecolor\":\"#506784\",\"minorgridcolor\":\"#506784\",\"startlinecolor\":\"#A2B1C6\"},\"baxis\":{\"endlinecolor\":\"#A2B1C6\",\"gridcolor\":\"#506784\",\"linecolor\":\"#506784\",\"minorgridcolor\":\"#506784\",\"startlinecolor\":\"#A2B1C6\"},\"type\":\"carpet\"}],\"choropleth\":[{\"colorbar\":{\"outlinewidth\":0,\"ticks\":\"\"},\"type\":\"choropleth\"}],\"contourcarpet\":[{\"colorbar\":{\"outlinewidth\":0,\"ticks\":\"\"},\"type\":\"contourcarpet\"}],\"contour\":[{\"colorbar\":{\"outlinewidth\":0,\"ticks\":\"\"},\"colorscale\":[[0.0,\"#0d0887\"],[0.1111111111111111,\"#46039f\"],[0.2222222222222222,\"#7201a8\"],[0.3333333333333333,\"#9c179e\"],[0.4444444444444444,\"#bd3786\"],[0.5555555555555556,\"#d8576b\"],[0.6666666666666666,\"#ed7953\"],[0.7777777777777778,\"#fb9f3a\"],[0.8888888888888888,\"#fdca26\"],[1.0,\"#f0f921\"]],\"type\":\"contour\"}],\"heatmapgl\":[{\"colorbar\":{\"outlinewidth\":0,\"ticks\":\"\"},\"colorscale\":[[0.0,\"#0d0887\"],[0.1111111111111111,\"#46039f\"],[0.2222222222222222,\"#7201a8\"],[0.3333333333333333,\"#9c179e\"],[0.4444444444444444,\"#bd3786\"],[0.5555555555555556,\"#d8576b\"],[0.6666666666666666,\"#ed7953\"],[0.7777777777777778,\"#fb9f3a\"],[0.8888888888888888,\"#fdca26\"],[1.0,\"#f0f921\"]],\"type\":\"heatmapgl\"}],\"heatmap\":[{\"colorbar\":{\"outlinewidth\":0,\"ticks\":\"\"},\"colorscale\":[[0.0,\"#0d0887\"],[0.1111111111111111,\"#46039f\"],[0.2222222222222222,\"#7201a8\"],[0.3333333333333333,\"#9c179e\"],[0.4444444444444444,\"#bd3786\"],[0.5555555555555556,\"#d8576b\"],[0.6666666666666666,\"#ed7953\"],[0.7777777777777778,\"#fb9f3a\"],[0.8888888888888888,\"#fdca26\"],[1.0,\"#f0f921\"]],\"type\":\"heatmap\"}],\"histogram2dcontour\":[{\"colorbar\":{\"outlinewidth\":0,\"ticks\":\"\"},\"colorscale\":[[0.0,\"#0d0887\"],[0.1111111111111111,\"#46039f\"],[0.2222222222222222,\"#7201a8\"],[0.3333333333333333,\"#9c179e\"],[0.4444444444444444,\"#bd3786\"],[0.5555555555555556,\"#d8576b\"],[0.6666666666666666,\"#ed7953\"],[0.7777777777777778,\"#fb9f3a\"],[0.8888888888888888,\"#fdca26\"],[1.0,\"#f0f921\"]],\"type\":\"histogram2dcontour\"}],\"histogram2d\":[{\"colorbar\":{\"outlinewidth\":0,\"ticks\":\"\"},\"colorscale\":[[0.0,\"#0d0887\"],[0.1111111111111111,\"#46039f\"],[0.2222222222222222,\"#7201a8\"],[0.3333333333333333,\"#9c179e\"],[0.4444444444444444,\"#bd3786\"],[0.5555555555555556,\"#d8576b\"],[0.6666666666666666,\"#ed7953\"],[0.7777777777777778,\"#fb9f3a\"],[0.8888888888888888,\"#fdca26\"],[1.0,\"#f0f921\"]],\"type\":\"histogram2d\"}],\"histogram\":[{\"marker\":{\"pattern\":{\"fillmode\":\"overlay\",\"size\":10,\"solidity\":0.2}},\"type\":\"histogram\"}],\"mesh3d\":[{\"colorbar\":{\"outlinewidth\":0,\"ticks\":\"\"},\"type\":\"mesh3d\"}],\"parcoords\":[{\"line\":{\"colorbar\":{\"outlinewidth\":0,\"ticks\":\"\"}},\"type\":\"parcoords\"}],\"pie\":[{\"automargin\":true,\"type\":\"pie\"}],\"scatter3d\":[{\"line\":{\"colorbar\":{\"outlinewidth\":0,\"ticks\":\"\"}},\"marker\":{\"colorbar\":{\"outlinewidth\":0,\"ticks\":\"\"}},\"type\":\"scatter3d\"}],\"scattercarpet\":[{\"marker\":{\"colorbar\":{\"outlinewidth\":0,\"ticks\":\"\"}},\"type\":\"scattercarpet\"}],\"scattergeo\":[{\"marker\":{\"colorbar\":{\"outlinewidth\":0,\"ticks\":\"\"}},\"type\":\"scattergeo\"}],\"scattergl\":[{\"marker\":{\"line\":{\"color\":\"#283442\"}},\"type\":\"scattergl\"}],\"scattermapbox\":[{\"marker\":{\"colorbar\":{\"outlinewidth\":0,\"ticks\":\"\"}},\"type\":\"scattermapbox\"}],\"scatterpolargl\":[{\"marker\":{\"colorbar\":{\"outlinewidth\":0,\"ticks\":\"\"}},\"type\":\"scatterpolargl\"}],\"scatterpolar\":[{\"marker\":{\"colorbar\":{\"outlinewidth\":0,\"ticks\":\"\"}},\"type\":\"scatterpolar\"}],\"scatter\":[{\"marker\":{\"line\":{\"color\":\"#283442\"}},\"type\":\"scatter\"}],\"scatterternary\":[{\"marker\":{\"colorbar\":{\"outlinewidth\":0,\"ticks\":\"\"}},\"type\":\"scatterternary\"}],\"surface\":[{\"colorbar\":{\"outlinewidth\":0,\"ticks\":\"\"},\"colorscale\":[[0.0,\"#0d0887\"],[0.1111111111111111,\"#46039f\"],[0.2222222222222222,\"#7201a8\"],[0.3333333333333333,\"#9c179e\"],[0.4444444444444444,\"#bd3786\"],[0.5555555555555556,\"#d8576b\"],[0.6666666666666666,\"#ed7953\"],[0.7777777777777778,\"#fb9f3a\"],[0.8888888888888888,\"#fdca26\"],[1.0,\"#f0f921\"]],\"type\":\"surface\"}],\"table\":[{\"cells\":{\"fill\":{\"color\":\"#506784\"},\"line\":{\"color\":\"rgb(17,17,17)\"}},\"header\":{\"fill\":{\"color\":\"#2a3f5f\"},\"line\":{\"color\":\"rgb(17,17,17)\"}},\"type\":\"table\"}]},\"layout\":{\"annotationdefaults\":{\"arrowcolor\":\"#f2f5fa\",\"arrowhead\":0,\"arrowwidth\":1},\"autotypenumbers\":\"strict\",\"coloraxis\":{\"colorbar\":{\"outlinewidth\":0,\"ticks\":\"\"}},\"colorscale\":{\"diverging\":[[0,\"#8e0152\"],[0.1,\"#c51b7d\"],[0.2,\"#de77ae\"],[0.3,\"#f1b6da\"],[0.4,\"#fde0ef\"],[0.5,\"#f7f7f7\"],[0.6,\"#e6f5d0\"],[0.7,\"#b8e186\"],[0.8,\"#7fbc41\"],[0.9,\"#4d9221\"],[1,\"#276419\"]],\"sequential\":[[0.0,\"#0d0887\"],[0.1111111111111111,\"#46039f\"],[0.2222222222222222,\"#7201a8\"],[0.3333333333333333,\"#9c179e\"],[0.4444444444444444,\"#bd3786\"],[0.5555555555555556,\"#d8576b\"],[0.6666666666666666,\"#ed7953\"],[0.7777777777777778,\"#fb9f3a\"],[0.8888888888888888,\"#fdca26\"],[1.0,\"#f0f921\"]],\"sequentialminus\":[[0.0,\"#0d0887\"],[0.1111111111111111,\"#46039f\"],[0.2222222222222222,\"#7201a8\"],[0.3333333333333333,\"#9c179e\"],[0.4444444444444444,\"#bd3786\"],[0.5555555555555556,\"#d8576b\"],[0.6666666666666666,\"#ed7953\"],[0.7777777777777778,\"#fb9f3a\"],[0.8888888888888888,\"#fdca26\"],[1.0,\"#f0f921\"]]},\"colorway\":[\"#636efa\",\"#EF553B\",\"#00cc96\",\"#ab63fa\",\"#FFA15A\",\"#19d3f3\",\"#FF6692\",\"#B6E880\",\"#FF97FF\",\"#FECB52\"],\"font\":{\"color\":\"#f2f5fa\"},\"geo\":{\"bgcolor\":\"rgb(17,17,17)\",\"lakecolor\":\"rgb(17,17,17)\",\"landcolor\":\"rgb(17,17,17)\",\"showlakes\":true,\"showland\":true,\"subunitcolor\":\"#506784\"},\"hoverlabel\":{\"align\":\"left\"},\"hovermode\":\"closest\",\"mapbox\":{\"style\":\"dark\"},\"paper_bgcolor\":\"rgb(17,17,17)\",\"plot_bgcolor\":\"rgb(17,17,17)\",\"polar\":{\"angularaxis\":{\"gridcolor\":\"#506784\",\"linecolor\":\"#506784\",\"ticks\":\"\"},\"bgcolor\":\"rgb(17,17,17)\",\"radialaxis\":{\"gridcolor\":\"#506784\",\"linecolor\":\"#506784\",\"ticks\":\"\"}},\"scene\":{\"xaxis\":{\"backgroundcolor\":\"rgb(17,17,17)\",\"gridcolor\":\"#506784\",\"gridwidth\":2,\"linecolor\":\"#506784\",\"showbackground\":true,\"ticks\":\"\",\"zerolinecolor\":\"#C8D4E3\"},\"yaxis\":{\"backgroundcolor\":\"rgb(17,17,17)\",\"gridcolor\":\"#506784\",\"gridwidth\":2,\"linecolor\":\"#506784\",\"showbackground\":true,\"ticks\":\"\",\"zerolinecolor\":\"#C8D4E3\"},\"zaxis\":{\"backgroundcolor\":\"rgb(17,17,17)\",\"gridcolor\":\"#506784\",\"gridwidth\":2,\"linecolor\":\"#506784\",\"showbackground\":true,\"ticks\":\"\",\"zerolinecolor\":\"#C8D4E3\"}},\"shapedefaults\":{\"line\":{\"color\":\"#f2f5fa\"}},\"sliderdefaults\":{\"bgcolor\":\"#C8D4E3\",\"bordercolor\":\"rgb(17,17,17)\",\"borderwidth\":1,\"tickwidth\":0},\"ternary\":{\"aaxis\":{\"gridcolor\":\"#506784\",\"linecolor\":\"#506784\",\"ticks\":\"\"},\"baxis\":{\"gridcolor\":\"#506784\",\"linecolor\":\"#506784\",\"ticks\":\"\"},\"bgcolor\":\"rgb(17,17,17)\",\"caxis\":{\"gridcolor\":\"#506784\",\"linecolor\":\"#506784\",\"ticks\":\"\"}},\"title\":{\"x\":0.05},\"updatemenudefaults\":{\"bgcolor\":\"#506784\",\"borderwidth\":0},\"xaxis\":{\"automargin\":true,\"gridcolor\":\"#283442\",\"linecolor\":\"#506784\",\"ticks\":\"\",\"title\":{\"standoff\":15},\"zerolinecolor\":\"#283442\",\"zerolinewidth\":2},\"yaxis\":{\"automargin\":true,\"gridcolor\":\"#283442\",\"linecolor\":\"#506784\",\"ticks\":\"\",\"title\":{\"standoff\":15},\"zerolinecolor\":\"#283442\",\"zerolinewidth\":2}}},\"xaxis\":{\"anchor\":\"y\",\"domain\":[0.0,1.0],\"title\":{\"text\":\"Model\"}},\"yaxis\":{\"anchor\":\"x\",\"domain\":[0.0,1.0],\"title\":{\"text\":\"Best Cross-Validation Score\"}},\"coloraxis\":{\"colorbar\":{\"title\":{\"text\":\"Best Cross-Validation Score\"}},\"colorscale\":[[0.0,\"#0d0887\"],[0.1111111111111111,\"#46039f\"],[0.2222222222222222,\"#7201a8\"],[0.3333333333333333,\"#9c179e\"],[0.4444444444444444,\"#bd3786\"],[0.5555555555555556,\"#d8576b\"],[0.6666666666666666,\"#ed7953\"],[0.7777777777777778,\"#fb9f3a\"],[0.8888888888888888,\"#fdca26\"],[1.0,\"#f0f921\"]]},\"legend\":{\"tracegroupgap\":0},\"title\":{\"text\":\"Best Cross-Validation Scores for All Models\",\"x\":0.5},\"barmode\":\"relative\",\"width\":800,\"height\":600},                        {\"responsive\": true}                    ).then(function(){\n",
       "                            \n",
       "var gd = document.getElementById('9de491fa-cd13-43c4-bfdf-689bf7b838da');\n",
       "var x = new MutationObserver(function (mutations, observer) {{\n",
       "        var display = window.getComputedStyle(gd).display;\n",
       "        if (!display || display === 'none') {{\n",
       "            console.log([gd, 'removed!']);\n",
       "            Plotly.purge(gd);\n",
       "            observer.disconnect();\n",
       "        }}\n",
       "}});\n",
       "\n",
       "// Listen for the removal of the full notebook cells\n",
       "var notebookContainer = gd.closest('#notebook-container');\n",
       "if (notebookContainer) {{\n",
       "    x.observe(notebookContainer, {childList: true});\n",
       "}}\n",
       "\n",
       "// Listen for the clearing of the current output cell\n",
       "var outputEl = gd.closest('.output');\n",
       "if (outputEl) {{\n",
       "    x.observe(outputEl, {childList: true});\n",
       "}}\n",
       "\n",
       "                        })                };                });            </script>        </div>"
      ]
     },
     "metadata": {},
     "output_type": "display_data"
    }
   ],
   "source": [
    "fig = px.bar(best_results_df, x='Model', y='Best Score',title='Best Cross-Validation Scores for All Models',text_auto=True,\n",
    "             labels={'Best Score': 'Best Cross-Validation Score'}, color='Best Score')\n",
    "fig.update_layout(\n",
    "    title_x=0.5,\n",
    "    template=\"plotly_dark\",  \n",
    "    width=800,              \n",
    "    height=600 \n",
    ")\n",
    "fig.show()"
   ]
  },
  {
   "cell_type": "code",
   "execution_count": 24,
   "id": "66e45f61",
   "metadata": {
    "execution": {
     "iopub.execute_input": "2024-10-05T17:50:46.731021Z",
     "iopub.status.busy": "2024-10-05T17:50:46.730729Z",
     "iopub.status.idle": "2024-10-05T17:50:55.188260Z",
     "shell.execute_reply": "2024-10-05T17:50:55.187177Z"
    },
    "papermill": {
     "duration": 8.474365,
     "end_time": "2024-10-05T17:50:55.190573",
     "exception": false,
     "start_time": "2024-10-05T17:50:46.716208",
     "status": "completed"
    },
    "tags": []
   },
   "outputs": [
    {
     "data": {
      "text/html": [
       "<style>#sk-container-id-1 {color: black;background-color: white;}#sk-container-id-1 pre{padding: 0;}#sk-container-id-1 div.sk-toggleable {background-color: white;}#sk-container-id-1 label.sk-toggleable__label {cursor: pointer;display: block;width: 100%;margin-bottom: 0;padding: 0.3em;box-sizing: border-box;text-align: center;}#sk-container-id-1 label.sk-toggleable__label-arrow:before {content: \"▸\";float: left;margin-right: 0.25em;color: #696969;}#sk-container-id-1 label.sk-toggleable__label-arrow:hover:before {color: black;}#sk-container-id-1 div.sk-estimator:hover label.sk-toggleable__label-arrow:before {color: black;}#sk-container-id-1 div.sk-toggleable__content {max-height: 0;max-width: 0;overflow: hidden;text-align: left;background-color: #f0f8ff;}#sk-container-id-1 div.sk-toggleable__content pre {margin: 0.2em;color: black;border-radius: 0.25em;background-color: #f0f8ff;}#sk-container-id-1 input.sk-toggleable__control:checked~div.sk-toggleable__content {max-height: 200px;max-width: 100%;overflow: auto;}#sk-container-id-1 input.sk-toggleable__control:checked~label.sk-toggleable__label-arrow:before {content: \"▾\";}#sk-container-id-1 div.sk-estimator input.sk-toggleable__control:checked~label.sk-toggleable__label {background-color: #d4ebff;}#sk-container-id-1 div.sk-label input.sk-toggleable__control:checked~label.sk-toggleable__label {background-color: #d4ebff;}#sk-container-id-1 input.sk-hidden--visually {border: 0;clip: rect(1px 1px 1px 1px);clip: rect(1px, 1px, 1px, 1px);height: 1px;margin: -1px;overflow: hidden;padding: 0;position: absolute;width: 1px;}#sk-container-id-1 div.sk-estimator {font-family: monospace;background-color: #f0f8ff;border: 1px dotted black;border-radius: 0.25em;box-sizing: border-box;margin-bottom: 0.5em;}#sk-container-id-1 div.sk-estimator:hover {background-color: #d4ebff;}#sk-container-id-1 div.sk-parallel-item::after {content: \"\";width: 100%;border-bottom: 1px solid gray;flex-grow: 1;}#sk-container-id-1 div.sk-label:hover label.sk-toggleable__label {background-color: #d4ebff;}#sk-container-id-1 div.sk-serial::before {content: \"\";position: absolute;border-left: 1px solid gray;box-sizing: border-box;top: 0;bottom: 0;left: 50%;z-index: 0;}#sk-container-id-1 div.sk-serial {display: flex;flex-direction: column;align-items: center;background-color: white;padding-right: 0.2em;padding-left: 0.2em;position: relative;}#sk-container-id-1 div.sk-item {position: relative;z-index: 1;}#sk-container-id-1 div.sk-parallel {display: flex;align-items: stretch;justify-content: center;background-color: white;position: relative;}#sk-container-id-1 div.sk-item::before, #sk-container-id-1 div.sk-parallel-item::before {content: \"\";position: absolute;border-left: 1px solid gray;box-sizing: border-box;top: 0;bottom: 0;left: 50%;z-index: -1;}#sk-container-id-1 div.sk-parallel-item {display: flex;flex-direction: column;z-index: 1;position: relative;background-color: white;}#sk-container-id-1 div.sk-parallel-item:first-child::after {align-self: flex-end;width: 50%;}#sk-container-id-1 div.sk-parallel-item:last-child::after {align-self: flex-start;width: 50%;}#sk-container-id-1 div.sk-parallel-item:only-child::after {width: 0;}#sk-container-id-1 div.sk-dashed-wrapped {border: 1px dashed gray;margin: 0 0.4em 0.5em 0.4em;box-sizing: border-box;padding-bottom: 0.4em;background-color: white;}#sk-container-id-1 div.sk-label label {font-family: monospace;font-weight: bold;display: inline-block;line-height: 1.2em;}#sk-container-id-1 div.sk-label-container {text-align: center;}#sk-container-id-1 div.sk-container {/* jupyter's `normalize.less` sets `[hidden] { display: none; }` but bootstrap.min.css set `[hidden] { display: none !important; }` so we also need the `!important` here to be able to override the default hidden behavior on the sphinx rendered scikit-learn.org. See: https://github.com/scikit-learn/scikit-learn/issues/21755 */display: inline-block !important;position: relative;}#sk-container-id-1 div.sk-text-repr-fallback {display: none;}</style><div id=\"sk-container-id-1\" class=\"sk-top-container\"><div class=\"sk-text-repr-fallback\"><pre>SVC(C=10)</pre><b>In a Jupyter environment, please rerun this cell to show the HTML representation or trust the notebook. <br />On GitHub, the HTML representation is unable to render, please try loading this page with nbviewer.org.</b></div><div class=\"sk-container\" hidden><div class=\"sk-item\"><div class=\"sk-estimator sk-toggleable\"><input class=\"sk-toggleable__control sk-hidden--visually\" id=\"sk-estimator-id-1\" type=\"checkbox\" checked><label for=\"sk-estimator-id-1\" class=\"sk-toggleable__label sk-toggleable__label-arrow\">SVC</label><div class=\"sk-toggleable__content\"><pre>SVC(C=10)</pre></div></div></div></div></div>"
      ],
      "text/plain": [
       "SVC(C=10)"
      ]
     },
     "execution_count": 24,
     "metadata": {},
     "output_type": "execute_result"
    }
   ],
   "source": [
    "########## Best Model Training\n",
    "model = SVC(C=10,gamma='scale', kernel='rbf')\n",
    "model.fit(X_train, y_train)"
   ]
  },
  {
   "cell_type": "code",
   "execution_count": 25,
   "id": "23572244",
   "metadata": {
    "execution": {
     "iopub.execute_input": "2024-10-05T17:50:55.221571Z",
     "iopub.status.busy": "2024-10-05T17:50:55.220825Z",
     "iopub.status.idle": "2024-10-05T17:51:09.958612Z",
     "shell.execute_reply": "2024-10-05T17:51:09.957383Z"
    },
    "papermill": {
     "duration": 14.75561,
     "end_time": "2024-10-05T17:51:09.960598",
     "exception": false,
     "start_time": "2024-10-05T17:50:55.204988",
     "status": "completed"
    },
    "tags": []
   },
   "outputs": [
    {
     "name": "stdout",
     "output_type": "stream",
     "text": [
      "Training Accuracy: 1.00\n",
      "Training Precision: 0.99\n",
      "Training Recall: 1.00\n",
      "Training F1-Score: 1.00\n",
      "---\n",
      "Test Accuracy: 0.85\n",
      "Test Precision: 0.88\n",
      "Test Recall: 0.76\n",
      "Test F1-Score: 0.82\n"
     ]
    }
   ],
   "source": [
    "### Evaluate the model\n",
    "y_train_pred = model.predict(X_train)\n",
    "y_test_pred = model.predict(X_test)\n",
    "train_accuracy = accuracy_score(y_train, y_train_pred)\n",
    "train_precision = precision_score(y_train, y_train_pred)  \n",
    "train_recall = recall_score(y_train, y_train_pred)  \n",
    "train_f1 = f1_score(y_train, y_train_pred)  \n",
    "test_accuracy = accuracy_score(y_test, y_test_pred)\n",
    "test_precision = precision_score(y_test, y_test_pred) \n",
    "test_recall = recall_score(y_test, y_test_pred)  \n",
    "test_f1 = f1_score(y_test, y_test_pred) \n",
    "print(f'Training Accuracy: {train_accuracy:.2f}')\n",
    "print(f'Training Precision: {train_precision:.2f}')\n",
    "print(f'Training Recall: {train_recall:.2f}')\n",
    "print(f'Training F1-Score: {train_f1:.2f}')\n",
    "print('---')\n",
    "print(f'Test Accuracy: {test_accuracy:.2f}')\n",
    "print(f'Test Precision: {test_precision:.2f}')\n",
    "print(f'Test Recall: {test_recall:.2f}')\n",
    "print(f'Test F1-Score: {test_f1:.2f}')"
   ]
  },
  {
   "cell_type": "code",
   "execution_count": 26,
   "id": "072e3111",
   "metadata": {
    "execution": {
     "iopub.execute_input": "2024-10-05T17:51:09.990643Z",
     "iopub.status.busy": "2024-10-05T17:51:09.990320Z",
     "iopub.status.idle": "2024-10-05T17:51:10.310787Z",
     "shell.execute_reply": "2024-10-05T17:51:10.309363Z"
    },
    "papermill": {
     "duration": 0.337995,
     "end_time": "2024-10-05T17:51:10.313037",
     "exception": false,
     "start_time": "2024-10-05T17:51:09.975042",
     "status": "completed"
    },
    "tags": []
   },
   "outputs": [
    {
     "name": "stdout",
     "output_type": "stream",
     "text": [
      "Confusion Matrix is : \n",
      " [[233  20]\n",
      " [ 47 150]]\n"
     ]
    },
    {
     "data": {
      "image/png": "[encoded data removed]",
      "text/plain": [
       "<Figure size 800x500 with 2 Axes>"
      ]
     },
     "metadata": {},
     "output_type": "display_data"
    }
   ],
   "source": [
    "### Check model\n",
    "CM = confusion_matrix(y_test, y_test_pred)\n",
    "print('Confusion Matrix is : \\n', CM)\n",
    "plt.figure(figsize=(8,5))\n",
    "sns.heatmap(data=CM, annot=True,fmt='g', cmap=\"Blues\", xticklabels=['Negative', 'Positive'], yticklabels=['Negative', 'Positive'])\n",
    "plt.xlabel('Predicted values')\n",
    "plt.ylabel('Actual values')\n",
    "plt.title(f'Confusion Matrix for {best_model_name} Algorithm')\n",
    "plt.show()"
   ]
  },
  {
   "cell_type": "code",
   "execution_count": 27,
   "id": "02bee13c",
   "metadata": {
    "execution": {
     "iopub.execute_input": "2024-10-05T17:51:10.345489Z",
     "iopub.status.busy": "2024-10-05T17:51:10.344770Z",
     "iopub.status.idle": "2024-10-05T17:51:10.359585Z",
     "shell.execute_reply": "2024-10-05T17:51:10.358378Z"
    },
    "papermill": {
     "duration": 0.032985,
     "end_time": "2024-10-05T17:51:10.361550",
     "exception": false,
     "start_time": "2024-10-05T17:51:10.328565",
     "status": "completed"
    },
    "tags": []
   },
   "outputs": [
    {
     "name": "stdout",
     "output_type": "stream",
     "text": [
      "Classification Report is :                precision    recall  f1-score   support\n",
      "\n",
      "    Negative       0.83      0.92      0.87       253\n",
      "    Positive       0.88      0.76      0.82       197\n",
      "\n",
      "    accuracy                           0.85       450\n",
      "   macro avg       0.86      0.84      0.85       450\n",
      "weighted avg       0.85      0.85      0.85       450\n",
      "\n"
     ]
    }
   ],
   "source": [
    "ClassificationReport = classification_report(y_test,y_test_pred,target_names=['Negative', 'Positive'])\n",
    "print('Classification Report is : ', ClassificationReport )"
   ]
  },
  {
   "cell_type": "markdown",
   "id": "cc5f7a6c",
   "metadata": {
    "papermill": {
     "duration": 0.016296,
     "end_time": "2024-10-05T17:51:10.395295",
     "exception": false,
     "start_time": "2024-10-05T17:51:10.378999",
     "status": "completed"
    },
    "tags": []
   },
   "source": [
    "**<a id=\"6\"></a>\n",
    "<h1><b><p style=\"background-image: url(https://i.postimg.cc/0Qwf8YX6/2927262.jpg);font-family:camtasia;font-size:110%;color:white;text-align:center;border-radius:15px 50px; padding:7px; border:solid 2px #09375b; box-shadow: 10px 10px 10px #042b4c\">Like this? Upvote and comment! 🌊 End</p></b></h1>\n",
    "<a class=\"btn\" href=\"#home\">Tabel of Contents</a>"
   ]
  }
 ],
 "metadata": {
  "kaggle": {
   "accelerator": "gpu",
   "dataSources": [
    {
     "datasetId": 5813898,
     "sourceId": 9543438,
     "sourceType": "datasetVersion"
    }
   ],
   "dockerImageVersionId": 30787,
   "isGpuEnabled": true,
   "isInternetEnabled": true,
   "language": "python",
   "sourceType": "notebook"
  },
  "kernelspec": {
   "display_name": "Python 3",
   "language": "python",
   "name": "python3"
  },
  "language_info": {
   "codemirror_mode": {
    "name": "ipython",
    "version": 3
   },
   "file_extension": ".py",
   "mimetype": "text/x-python",
   "name": "python",
   "nbconvert_exporter": "python",
   "pygments_lexer": "ipython3",
   "version": "3.10.14"
  },
  "papermill": {
   "default_parameters": {},
   "duration": 30500.606334,
   "end_time": "2024-10-05T17:51:13.029072",
   "environment_variables": {},
   "exception": null,
   "input_path": "__notebook__.ipynb",
   "output_path": "__notebook__.ipynb",
   "parameters": {},
   "start_time": "2024-10-05T09:22:52.422738",
   "version": "2.4.0"
  }
 },
 "nbformat": 4,
 "nbformat_minor": 5
}
